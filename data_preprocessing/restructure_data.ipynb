{
 "cells": [
  {
   "cell_type": "markdown",
   "metadata": {},
   "source": [
    "# 데이터 전처리 과정 2 - 데이터 재구성"
   ]
  },
  {
   "cell_type": "markdown",
   "metadata": {},
   "source": [
    "> - 이제 결측치가 제거된 데이터를 가지고 각종 통계치나 분포 등을 분석하여 데이터를 적절하게 변형하는 과정 진행"
   ]
  },
  {
   "cell_type": "code",
   "execution_count": 1,
   "metadata": {},
   "outputs": [],
   "source": [
    "import pandas as pd"
   ]
  },
  {
   "cell_type": "markdown",
   "metadata": {},
   "source": [
    "## 데이터 로드"
   ]
  },
  {
   "cell_type": "code",
   "execution_count": 2,
   "metadata": {},
   "outputs": [
    {
     "data": {
      "text/html": [
       "<div>\n",
       "<style scoped>\n",
       "    .dataframe tbody tr th:only-of-type {\n",
       "        vertical-align: middle;\n",
       "    }\n",
       "\n",
       "    .dataframe tbody tr th {\n",
       "        vertical-align: top;\n",
       "    }\n",
       "\n",
       "    .dataframe thead th {\n",
       "        text-align: right;\n",
       "    }\n",
       "</style>\n",
       "<table border=\"1\" class=\"dataframe\">\n",
       "  <thead>\n",
       "    <tr style=\"text-align: right;\">\n",
       "      <th></th>\n",
       "      <th>date</th>\n",
       "      <th>Rank</th>\n",
       "      <th>Title</th>\n",
       "      <th>Artist</th>\n",
       "      <th>Production</th>\n",
       "      <th>Weekly Views</th>\n",
       "      <th>Genre</th>\n",
       "      <th>Runtime</th>\n",
       "      <th>New_Artist</th>\n",
       "      <th>ky_chart_on</th>\n",
       "    </tr>\n",
       "  </thead>\n",
       "  <tbody>\n",
       "    <tr>\n",
       "      <th>0</th>\n",
       "      <td>2023-09-24</td>\n",
       "      <td>1</td>\n",
       "      <td>Love Lee</td>\n",
       "      <td>AKMU (악뮤)</td>\n",
       "      <td>YG Entertainment</td>\n",
       "      <td>11929992.0</td>\n",
       "      <td>가요 / 댄스</td>\n",
       "      <td>03:00</td>\n",
       "      <td>악뮤</td>\n",
       "      <td>False</td>\n",
       "    </tr>\n",
       "    <tr>\n",
       "      <th>1</th>\n",
       "      <td>2023-09-24</td>\n",
       "      <td>2</td>\n",
       "      <td>후라이의 꿈</td>\n",
       "      <td>AKMU (악뮤)</td>\n",
       "      <td>YG Entertainment</td>\n",
       "      <td>11929992.0</td>\n",
       "      <td>가요 / 블루스/포크</td>\n",
       "      <td>03:25</td>\n",
       "      <td>악뮤</td>\n",
       "      <td>False</td>\n",
       "    </tr>\n",
       "    <tr>\n",
       "      <th>2</th>\n",
       "      <td>2023-09-24</td>\n",
       "      <td>3</td>\n",
       "      <td>Smoke (Prod. Dynamicduo, Padi)</td>\n",
       "      <td>다이나믹 듀오 (Dynamic Duo), 이영지</td>\n",
       "      <td>Stone Music Entertainment</td>\n",
       "      <td>4473459.0</td>\n",
       "      <td>가요 / 랩/힙합</td>\n",
       "      <td>03:30</td>\n",
       "      <td>다이나믹 듀오 , 이영지</td>\n",
       "      <td>False</td>\n",
       "    </tr>\n",
       "    <tr>\n",
       "      <th>3</th>\n",
       "      <td>2023-09-24</td>\n",
       "      <td>4</td>\n",
       "      <td>Super Shy</td>\n",
       "      <td>NewJeans</td>\n",
       "      <td>ADOR</td>\n",
       "      <td>11655019.0</td>\n",
       "      <td>가요 / 댄스</td>\n",
       "      <td>02:35</td>\n",
       "      <td>뉴진스</td>\n",
       "      <td>False</td>\n",
       "    </tr>\n",
       "    <tr>\n",
       "      <th>4</th>\n",
       "      <td>2023-09-24</td>\n",
       "      <td>5</td>\n",
       "      <td>Seven (feat. Latto) - Clean Ver.</td>\n",
       "      <td>정국</td>\n",
       "      <td>BIGHIT MUSIC</td>\n",
       "      <td>4173726.0</td>\n",
       "      <td>가요 / 댄스</td>\n",
       "      <td>03:04</td>\n",
       "      <td>정국</td>\n",
       "      <td>False</td>\n",
       "    </tr>\n",
       "  </tbody>\n",
       "</table>\n",
       "</div>"
      ],
      "text/plain": [
       "         date  Rank                             Title  \\\n",
       "0  2023-09-24     1                          Love Lee   \n",
       "1  2023-09-24     2                            후라이의 꿈   \n",
       "2  2023-09-24     3    Smoke (Prod. Dynamicduo, Padi)   \n",
       "3  2023-09-24     4                         Super Shy   \n",
       "4  2023-09-24     5  Seven (feat. Latto) - Clean Ver.   \n",
       "\n",
       "                       Artist                 Production  Weekly Views  \\\n",
       "0                   AKMU (악뮤)           YG Entertainment    11929992.0   \n",
       "1                   AKMU (악뮤)           YG Entertainment    11929992.0   \n",
       "2  다이나믹 듀오 (Dynamic Duo), 이영지  Stone Music Entertainment     4473459.0   \n",
       "3                    NewJeans                       ADOR    11655019.0   \n",
       "4                          정국               BIGHIT MUSIC     4173726.0   \n",
       "\n",
       "         Genre Runtime     New_Artist  ky_chart_on  \n",
       "0      가요 / 댄스   03:00             악뮤        False  \n",
       "1  가요 / 블루스/포크   03:25             악뮤        False  \n",
       "2    가요 / 랩/힙합   03:30  다이나믹 듀오 , 이영지        False  \n",
       "3      가요 / 댄스   02:35            뉴진스        False  \n",
       "4      가요 / 댄스   03:04             정국        False  "
      ]
     },
     "execution_count": 2,
     "metadata": {},
     "output_type": "execute_result"
    }
   ],
   "source": [
    "data = pd.read_csv('circle_chart_removed_na.csv', index_col=0)\n",
    "data.head()"
   ]
  },
  {
   "cell_type": "markdown",
   "metadata": {},
   "source": [
    "## 데이터 구조 파악"
   ]
  },
  {
   "cell_type": "code",
   "execution_count": 3,
   "metadata": {},
   "outputs": [
    {
     "name": "stdout",
     "output_type": "stream",
     "text": [
      "<class 'pandas.core.frame.DataFrame'>\n",
      "Index: 10200 entries, 0 to 10199\n",
      "Data columns (total 10 columns):\n",
      " #   Column        Non-Null Count  Dtype  \n",
      "---  ------        --------------  -----  \n",
      " 0   date          10200 non-null  object \n",
      " 1   Rank          10200 non-null  int64  \n",
      " 2   Title         10200 non-null  object \n",
      " 3   Artist        10200 non-null  object \n",
      " 4   Production    10200 non-null  object \n",
      " 5   Weekly Views  10200 non-null  float64\n",
      " 6   Genre         10200 non-null  object \n",
      " 7   Runtime       10200 non-null  object \n",
      " 8   New_Artist    10200 non-null  object \n",
      " 9   ky_chart_on   10200 non-null  bool   \n",
      "dtypes: bool(1), float64(1), int64(1), object(7)\n",
      "memory usage: 806.8+ KB\n"
     ]
    }
   ],
   "source": [
    "data.info()"
   ]
  },
  {
   "cell_type": "markdown",
   "metadata": {},
   "source": [
    "- date(날짜) : 'YYYY-MM-DD' 형태의 문자열로 인식, 일단은 OK\n",
    "- Rank(주간 랭킹) : 정수형 숫자로 인식되고 있으며 데이터의 라벨로 사용할 예정, OK\n",
    "- Title(곡 제목) : 문자열로 인식, OK\n",
    "- Artist(아티스트) : 문자열로 인식, OK\n",
    "- Production(아티스트 소속사) : 문자열로 인식, OK\n",
    "- Weekly Views(주간 유튜브 조회수) : 실수형 숫자로 인식, OK\n",
    "- Genre(장르) : 문자열로 인식, OK\n",
    "- Runtime(곡 길이) : 'MM:SS' 형태의 문자열로 인식,  \n",
    "곡 길이는 연속형 수치 데이터로 표현할 수 있으므로 분 단위 숫자 등으로 수정 필요  \n",
    "ex. '03:30' -> 210(분)  \n",
    "- New_Artist(추가적인 아티스트명) : 문자열로 인식, OK\n",
    "- ky_chart_on(주간 노래방 차트온 여부) : True/False 논리형 값으로 인식, OK"
   ]
  }
 ],
 "metadata": {
  "kernelspec": {
   "display_name": "venv",
   "language": "python",
   "name": "python3"
  },
  "language_info": {
   "codemirror_mode": {
    "name": "ipython",
    "version": 3
   },
   "file_extension": ".py",
   "mimetype": "text/x-python",
   "name": "python",
   "nbconvert_exporter": "python",
   "pygments_lexer": "ipython3",
   "version": "3.12.4"
  }
 },
 "nbformat": 4,
 "nbformat_minor": 2
}
