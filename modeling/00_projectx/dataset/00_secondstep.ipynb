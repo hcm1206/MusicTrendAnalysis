{
 "cells": [
  {
   "cell_type": "code",
   "execution_count": 1,
   "metadata": {},
   "outputs": [],
   "source": [
    "# import pandas as pd\n",
    "# data = pd.read_csv('01_total_data.csv', index_col = 0)\n",
    "# # df.head()"
   ]
  },
  {
   "cell_type": "markdown",
   "metadata": {},
   "source": [
    "##### 수치형 데이터가 아닌 컬럼들의 컬럼명만 추출\n",
    "non_numeric_column_names = df.select_dtypes(exclude=[np.number]).columns\n",
    "##### 결과 출력\n",
    "print(non_numeric_column_names)\n",
    "\n",
    "Index(['date', 'New_Artist', 'Title', 'Production', 'Genre', 'Genre_split',\n",
    "       'season'],\n",
    "      dtype='object')\n",
    "\n"
   ]
  },
  {
   "cell_type": "markdown",
   "metadata": {},
   "source": []
  },
  {
   "cell_type": "code",
   "execution_count": 2,
   "metadata": {},
   "outputs": [],
   "source": [
    "import pandas as pd\n",
    "df = pd.read_csv('../dataset/final_total_data_test.csv', index_col = 0)\n",
    "# df.head()\n"
   ]
  },
  {
   "cell_type": "code",
   "execution_count": 3,
   "metadata": {},
   "outputs": [],
   "source": [
    "df['date'] = pd.to_datetime(df['date'], format='%Y-%m-%d')"
   ]
  },
  {
   "cell_type": "code",
   "execution_count": 4,
   "metadata": {},
   "outputs": [
    {
     "data": {
      "text/html": [
       "<div>\n",
       "<style scoped>\n",
       "    .dataframe tbody tr th:only-of-type {\n",
       "        vertical-align: middle;\n",
       "    }\n",
       "\n",
       "    .dataframe tbody tr th {\n",
       "        vertical-align: top;\n",
       "    }\n",
       "\n",
       "    .dataframe thead th {\n",
       "        text-align: right;\n",
       "    }\n",
       "</style>\n",
       "<table border=\"1\" class=\"dataframe\">\n",
       "  <thead>\n",
       "    <tr style=\"text-align: right;\">\n",
       "      <th></th>\n",
       "      <th>date</th>\n",
       "      <th>date_pi</th>\n",
       "    </tr>\n",
       "  </thead>\n",
       "  <tbody>\n",
       "    <tr>\n",
       "      <th>0</th>\n",
       "      <td>2021-09-24</td>\n",
       "      <td>4.594157</td>\n",
       "    </tr>\n",
       "    <tr>\n",
       "      <th>1</th>\n",
       "      <td>2022-09-24</td>\n",
       "      <td>4.594157</td>\n",
       "    </tr>\n",
       "    <tr>\n",
       "      <th>2</th>\n",
       "      <td>2020-09-24</td>\n",
       "      <td>4.594157</td>\n",
       "    </tr>\n",
       "    <tr>\n",
       "      <th>3</th>\n",
       "      <td>2023-09-24</td>\n",
       "      <td>4.594157</td>\n",
       "    </tr>\n",
       "    <tr>\n",
       "      <th>4</th>\n",
       "      <td>2023-09-24</td>\n",
       "      <td>4.594157</td>\n",
       "    </tr>\n",
       "  </tbody>\n",
       "</table>\n",
       "</div>"
      ],
      "text/plain": [
       "        date   date_pi\n",
       "0 2021-09-24  4.594157\n",
       "1 2022-09-24  4.594157\n",
       "2 2020-09-24  4.594157\n",
       "3 2023-09-24  4.594157\n",
       "4 2023-09-24  4.594157"
      ]
     },
     "execution_count": 4,
     "metadata": {},
     "output_type": "execute_result"
    }
   ],
   "source": [
    "import pandas as pd\n",
    "import numpy as np\n",
    "\n",
    "\n",
    "\n",
    "# 1년을 372일로 고정 (한 달 = 31일 기준)\n",
    "total_days_in_year = 372\n",
    "\n",
    "# 날짜를 각도로 변환하는 함수 (각도는 0부터 2 * pi까지, 372일을 기준으로 함)\n",
    "def date_to_angle(date):\n",
    "    # 날짜의 월과 일을 기반으로 372일 중 몇 번째 날인지 계산\n",
    "    month = date.month\n",
    "    day = date.day\n",
    "    day_of_year = (month - 1) * 31 + day  # 1년을 31일로 고정했을 때의 날 수 계산\n",
    "    angle = 2 * np.pi * day_of_year / total_days_in_year  # 각도 변환\n",
    "    return angle\n",
    "\n",
    "# 변환된 결과를 적용 (하나의 컬럼 'angle'에 각도 값을 저장)\n",
    "df['date_pi'] = df['date'].apply(date_to_angle)\n",
    "\n",
    "# 결과 확인\n",
    "df[['date', 'date_pi']].head()\n",
    "\n",
    "\n",
    "\n"
   ]
  },
  {
   "cell_type": "code",
   "execution_count": null,
   "metadata": {},
   "outputs": [],
   "source": []
  }
 ],
 "metadata": {
  "kernelspec": {
   "display_name": ".venv",
   "language": "python",
   "name": "python3"
  },
  "language_info": {
   "codemirror_mode": {
    "name": "ipython",
    "version": 3
   },
   "file_extension": ".py",
   "mimetype": "text/x-python",
   "name": "python",
   "nbconvert_exporter": "python",
   "pygments_lexer": "ipython3",
   "version": "3.12.4"
  }
 },
 "nbformat": 4,
 "nbformat_minor": 2
}
