{
 "cells": [
  {
   "cell_type": "code",
   "execution_count": null,
   "metadata": {},
   "outputs": [],
   "source": [
    "import pandas as pd\n",
    "df = pd.read_csv('../dataset/1_total_data.csv', index_col = 0)\n",
    "# df.head()"
   ]
  },
  {
   "cell_type": "markdown",
   "metadata": {},
   "source": [
    "##### 수치형 데이터가 아닌 컬럼들의 컬럼명만 추출\n",
    "non_numeric_column_names = df.select_dtypes(exclude=[np.number]).columns\n",
    "##### 결과 출력\n",
    "print(non_numeric_column_names)\n",
    "\n",
    "Index(['date', 'New_Artist', 'Title', 'Production', 'Genre', 'Genre_split',\n",
    "       'season'],\n",
    "      dtype='object')\n",
    "\n"
   ]
  },
  {
   "cell_type": "markdown",
   "metadata": {},
   "source": []
  }
 ],
 "metadata": {
  "language_info": {
   "name": "python"
  }
 },
 "nbformat": 4,
 "nbformat_minor": 2
}
