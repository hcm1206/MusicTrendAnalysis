{
 "cells": [
  {
   "cell_type": "code",
   "execution_count": 6,
   "metadata": {},
   "outputs": [
    {
     "name": "stderr",
     "output_type": "stream",
     "text": [
      "<>:6: SyntaxWarning: invalid escape sequence '\\M'\n",
      "<>:6: SyntaxWarning: invalid escape sequence '\\M'\n",
      "C:\\Users\\user\\AppData\\Local\\Temp\\ipykernel_14260\\56653230.py:6: SyntaxWarning: invalid escape sequence '\\M'\n",
      "  final_total_data = pd.read_csv('D:\\MusicTrendAnalysis\\data\\lstm_total_data.csv')\n",
      "C:\\Users\\user\\AppData\\Local\\Temp\\ipykernel_14260\\56653230.py:6: SyntaxWarning: invalid escape sequence '\\M'\n",
      "  final_total_data = pd.read_csv('D:\\MusicTrendAnalysis\\data\\lstm_total_data.csv')\n"
     ]
    },
    {
     "ename": "ModuleNotFoundError",
     "evalue": "No module named 'ace_tools'",
     "output_type": "error",
     "traceback": [
      "\u001b[1;31m---------------------------------------------------------------------------\u001b[0m",
      "\u001b[1;31mModuleNotFoundError\u001b[0m                       Traceback (most recent call last)",
      "Cell \u001b[1;32mIn[6], line 19\u001b[0m\n\u001b[0;32m     16\u001b[0m lstm_total_data \u001b[38;5;241m=\u001b[39m lstm_total_data\u001b[38;5;241m.\u001b[39mmerge(common_data[[\u001b[38;5;124m'\u001b[39m\u001b[38;5;124mdate\u001b[39m\u001b[38;5;124m'\u001b[39m, \u001b[38;5;124m'\u001b[39m\u001b[38;5;124mRank\u001b[39m\u001b[38;5;124m'\u001b[39m, \u001b[38;5;124m'\u001b[39m\u001b[38;5;124mUniqueKey\u001b[39m\u001b[38;5;124m'\u001b[39m]], on\u001b[38;5;241m=\u001b[39m[\u001b[38;5;124m'\u001b[39m\u001b[38;5;124mdate\u001b[39m\u001b[38;5;124m'\u001b[39m, \u001b[38;5;124m'\u001b[39m\u001b[38;5;124mRank\u001b[39m\u001b[38;5;124m'\u001b[39m], how\u001b[38;5;241m=\u001b[39m\u001b[38;5;124m'\u001b[39m\u001b[38;5;124minner\u001b[39m\u001b[38;5;124m'\u001b[39m)\n\u001b[0;32m     18\u001b[0m \u001b[38;5;66;03m# 고유 식별자가 추가된 데이터셋 확인\u001b[39;00m\n\u001b[1;32m---> 19\u001b[0m \u001b[38;5;28;01mimport\u001b[39;00m \u001b[38;5;21;01mace_tools\u001b[39;00m \u001b[38;5;28;01mas\u001b[39;00m \u001b[38;5;21;01mtools\u001b[39;00m; tools\u001b[38;5;241m.\u001b[39mdisplay_dataframe_to_user(name\u001b[38;5;241m=\u001b[39m\u001b[38;5;124m\"\u001b[39m\u001b[38;5;124mFinal Total Data with UniqueKey\u001b[39m\u001b[38;5;124m\"\u001b[39m, dataframe\u001b[38;5;241m=\u001b[39mfinal_total_data)\n\u001b[0;32m     20\u001b[0m tools\u001b[38;5;241m.\u001b[39mdisplay_dataframe_to_user(name\u001b[38;5;241m=\u001b[39m\u001b[38;5;124m\"\u001b[39m\u001b[38;5;124mLSTM Total Data with UniqueKey\u001b[39m\u001b[38;5;124m\"\u001b[39m, dataframe\u001b[38;5;241m=\u001b[39mlstm_total_data)\n\u001b[0;32m     22\u001b[0m \u001b[38;5;66;03m# 이후 사용을 위해 수정된 데이터를 새로운 CSV 파일로 저장\u001b[39;00m\n",
      "\u001b[1;31mModuleNotFoundError\u001b[0m: No module named 'ace_tools'"
     ]
    }
   ],
   "source": [
    "# 필요한 라이브러리 임포트\n",
    "import pandas as pd\n",
    "\n",
    "# 업로드된 CSV 파일 불러오기\n",
    "lstm_total_data = pd.read_csv(r'D:\\MusicTrendAnalysis\\data\\final_total_data.csv')\n",
    "final_total_data = pd.read_csv('D:\\MusicTrendAnalysis\\data\\lstm_total_data.csv')\n",
    "\n",
    "# 1단계: date와 Rank를 기준으로 두 데이터셋에서 공통된 행 찾기# 1단계: date와 Rank를 기준으로 두 데이터셋에서 공통된 행 찾기\n",
    "common_data = pd.merge(final_total_data, lstm_total_data, on=['date', 'Rank'], how='inner', suffixes=('_final', '_lstm'))\n",
    "\n",
    "# 2단계: 공통된 행에 고유 식별자 추가\n",
    "common_data['UniqueKey'] = common_data['date'].astype(str) + '_' + common_data['Rank'].astype(str)\n",
    "\n",
    "# 3단계: 원래 데이터셋에 공통된 행만 유지하고 고유 식별자 추가\n",
    "final_total_data = final_total_data.merge(common_data[['date', 'Rank', 'UniqueKey']], on=['date', 'Rank'], how='inner')\n",
    "lstm_total_data = lstm_total_data.merge(common_data[['date', 'Rank', 'UniqueKey']], on=['date', 'Rank'], how='inner')\n",
    "\n",
    "# 고유 식별자가 추가된 데이터셋 확인\n",
    "import ace_tools as tools; tools.display_dataframe_to_user(name=\"Final Total Data with UniqueKey\", dataframe=final_total_data)\n",
    "tools.display_dataframe_to_user(name=\"LSTM Total Data with UniqueKey\", dataframe=lstm_total_data)\n",
    "\n",
    "# 이후 사용을 위해 수정된 데이터를 새로운 CSV 파일로 저장\n",
    "final_total_data.to_csv('final_total_data_with_uniquekey.csv', index=False)\n",
    "lstm_total_data.to_csv('lstm_total_data_with_uniquekey.csv', index=False)"
   ]
  },
  {
   "cell_type": "code",
   "execution_count": 7,
   "metadata": {},
   "outputs": [
    {
     "name": "stdout",
     "output_type": "stream",
     "text": [
      "Defaulting to user installation because normal site-packages is not writeable\n",
      "Requirement already satisfied: ace_tools in c:\\users\\user\\appdata\\roaming\\python\\python312\\site-packages (0.0)\n"
     ]
    }
   ],
   "source": [
    "!pip install ace_tools\n"
   ]
  },
  {
   "cell_type": "code",
   "execution_count": 8,
   "metadata": {},
   "outputs": [
    {
     "name": "stdout",
     "output_type": "stream",
     "text": [
      "c:\\Program Files\\Python312\\python.exe\n"
     ]
    }
   ],
   "source": [
    "import sys\n",
    "print(sys.executable)"
   ]
  },
  {
   "cell_type": "code",
   "execution_count": 9,
   "metadata": {},
   "outputs": [
    {
     "ename": "ModuleNotFoundError",
     "evalue": "No module named 'ace_tools'",
     "output_type": "error",
     "traceback": [
      "\u001b[1;31m---------------------------------------------------------------------------\u001b[0m",
      "\u001b[1;31mModuleNotFoundError\u001b[0m                       Traceback (most recent call last)",
      "Cell \u001b[1;32mIn[9], line 5\u001b[0m\n\u001b[0;32m      2\u001b[0m sys\u001b[38;5;241m.\u001b[39mpath\u001b[38;5;241m.\u001b[39mappend(\u001b[38;5;124mr\u001b[39m\u001b[38;5;124m\"\u001b[39m\u001b[38;5;124mc:\u001b[39m\u001b[38;5;124m\\\u001b[39m\u001b[38;5;124musers\u001b[39m\u001b[38;5;124m\\\u001b[39m\u001b[38;5;124muser\u001b[39m\u001b[38;5;124m\\\u001b[39m\u001b[38;5;124mappdata\u001b[39m\u001b[38;5;124m\\\u001b[39m\u001b[38;5;124mroaming\u001b[39m\u001b[38;5;124m\\\u001b[39m\u001b[38;5;124mpython\u001b[39m\u001b[38;5;124m\\\u001b[39m\u001b[38;5;124mpython312\u001b[39m\u001b[38;5;124m\\\u001b[39m\u001b[38;5;124msite-packages\u001b[39m\u001b[38;5;124m\"\u001b[39m)\n\u001b[0;32m      4\u001b[0m \u001b[38;5;66;03m# 그 다음에 ace_tools를 임포트합니다.\u001b[39;00m\n\u001b[1;32m----> 5\u001b[0m \u001b[38;5;28;01mimport\u001b[39;00m \u001b[38;5;21;01mace_tools\u001b[39;00m \u001b[38;5;28;01mas\u001b[39;00m \u001b[38;5;21;01mtools\u001b[39;00m\n",
      "\u001b[1;31mModuleNotFoundError\u001b[0m: No module named 'ace_tools'"
     ]
    }
   ],
   "source": [
    "import sys\n",
    "sys.path.append(r\"c:\\users\\user\\appdata\\roaming\\python\\python312\\site-packages\")\n",
    "\n",
    "# 그 다음에 ace_tools를 임포트합니다.\n",
    "import ace_tools as tools\n"
   ]
  },
  {
   "cell_type": "code",
   "execution_count": 10,
   "metadata": {},
   "outputs": [
    {
     "name": "stdout",
     "output_type": "stream",
     "text": [
      "Requirement already satisfied: ace_tools in c:\\users\\user\\appdata\\roaming\\python\\python312\\site-packages (0.0)\n"
     ]
    }
   ],
   "source": [
    "!pip install --user ace_tools\n"
   ]
  },
  {
   "cell_type": "code",
   "execution_count": 11,
   "metadata": {},
   "outputs": [
    {
     "name": "stdout",
     "output_type": "stream",
     "text": [
      "ace_tools 모듈을 불러오는 데 실패했습니다.\n"
     ]
    }
   ],
   "source": [
    "import sys\n",
    "import os\n",
    "\n",
    "# 정확한 경로가 추가되는지 확인하는 과정 포함\n",
    "user_site_packages = r\"c:\\users\\user\\appdata\\roaming\\python\\python312\\site-packages\"\n",
    "if os.path.exists(user_site_packages):\n",
    "    sys.path.append(user_site_packages)\n",
    "\n",
    "# ace_tools 임포트\n",
    "try:\n",
    "    import ace_tools as tools\n",
    "    print(\"ace_tools 모듈을 성공적으로 불러왔습니다.\")\n",
    "except ModuleNotFoundError:\n",
    "    print(\"ace_tools 모듈을 불러오는 데 실패했습니다.\")\n"
   ]
  },
  {
   "cell_type": "code",
   "execution_count": null,
   "metadata": {},
   "outputs": [],
   "source": []
  }
 ],
 "metadata": {
  "kernelspec": {
   "display_name": "Python 3",
   "language": "python",
   "name": "python3"
  },
  "language_info": {
   "codemirror_mode": {
    "name": "ipython",
    "version": 3
   },
   "file_extension": ".py",
   "mimetype": "text/x-python",
   "name": "python",
   "nbconvert_exporter": "python",
   "pygments_lexer": "ipython3",
   "version": "3.12.3"
  }
 },
 "nbformat": 4,
 "nbformat_minor": 2
}
