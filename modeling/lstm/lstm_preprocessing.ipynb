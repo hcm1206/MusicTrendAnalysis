{
 "cells": [
  {
   "cell_type": "code",
   "execution_count": 11,
   "metadata": {},
   "outputs": [],
   "source": [
    "from sklearn.preprocessing import MinMaxScaler\n",
    "import pandas as pd\n",
    "\n",
    "# Load the dataset\n",
    "file_path = r'D:\\MusicTrendAnalysis\\data\\daegeun_time_data.csv'\n",
    "data = pd.read_csv(file_path)\n",
    "\n",
    "# Define the features you want to scale for the LSTM model\n",
    "features = ['Runtime', 'Weekly Views', 'n_score', 'g_score', 'Previous_Rank']\n",
    "\n",
    "# Create and fit the MinMaxScaler for Rank (target)\n",
    "rank_scaler = MinMaxScaler()\n",
    "rank_scaler.fit(data[['Rank']])\n",
    "\n",
    "# Create and fit the MinMaxScaler for the features\n",
    "feature_scaler = MinMaxScaler()\n",
    "feature_scaler.fit(data[features])\n",
    "\n",
    "# Scale the features and Rank\n",
    "X_scaled = feature_scaler.transform(data[features])\n",
    "y_scaled = rank_scaler.transform(data[['Rank']])\n",
    "\n",
    "# Reshape X to be compatible with LSTM input (samples, timesteps, features)\n",
    "X_lstm = X_scaled.reshape((X_scaled.shape[0], 1, X_scaled.shape[1]))\n",
    "\n",
    "# Now X_lstm and y_scaled are ready to be used for predictions or further processing\n"
   ]
  },
  {
   "cell_type": "code",
   "execution_count": null,
   "metadata": {},
   "outputs": [],
   "source": [
    "from sklearn.preprocessing import MinMaxScaler\n",
    "\n",
    "class LSTM_Preprocessing:\n",
    "    def __init__(self):\n",
    "        pass\n",
    "\n",
    "    def transform(data):\n",
    "        data['date'] = pd.to_datetime(data['date'])\n",
    "        data = data.sort_values(by='date').reset_index(drop=True)\n",
    "        lag_features = ['Rank', 'Weekly Views', 'n_score', 'g_score']\n",
    "\n",
    "        for feature in lag_features:\n",
    "            data[f'{feature}_lag_1'] = data[feature].shift(1)\n",
    "            data[f'{feature}_lag_2'] = data[feature].shift(2)\n",
    "            data[f'{feature}_lag_3'] = data[feature].shift(3)\n",
    "\n",
    "        data = data.dropna().reset_index(drop=True)\n",
    "        \n"
   ]
  }
 ],
 "metadata": {
  "kernelspec": {
   "display_name": "Python 3",
   "language": "python",
   "name": "python3"
  },
  "language_info": {
   "codemirror_mode": {
    "name": "ipython",
    "version": 3
   },
   "file_extension": ".py",
   "mimetype": "text/x-python",
   "name": "python",
   "nbconvert_exporter": "python",
   "pygments_lexer": "ipython3",
   "version": "3.12.3"
  }
 },
 "nbformat": 4,
 "nbformat_minor": 2
}
