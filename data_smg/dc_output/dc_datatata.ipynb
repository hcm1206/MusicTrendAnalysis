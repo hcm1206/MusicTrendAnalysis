{
 "cells": [
  {
   "cell_type": "code",
   "execution_count": 2,
   "metadata": {},
   "outputs": [],
   "source": [
    "import pandas as pd"
   ]
  },
  {
   "cell_type": "code",
   "execution_count": 2,
   "metadata": {},
   "outputs": [],
   "source": [
    "data1 = pd.read_csv('output_0-60.csv')\n",
    "data2 = pd.read_csv('output_60-120.csv')\n",
    "data3 = pd.read_csv('output_120-180.csv')\n",
    "data4 = pd.read_csv('output_180-240.csv')\n",
    "data5 = pd.read_csv('output_240-.csv')"
   ]
  },
  {
   "cell_type": "code",
   "execution_count": 3,
   "metadata": {},
   "outputs": [],
   "source": [
    "# 모든 DataFrame을 합치기\n",
    "combined_data = pd.concat([data1, data2, data3, data4, data5], ignore_index=True)\n",
    "\n",
    "# 합친 내용을 dc_output.csv로 저장\n",
    "combined_data.to_csv('dc_output.csv', index=False)"
   ]
  },
  {
   "cell_type": "code",
   "execution_count": 3,
   "metadata": {},
   "outputs": [],
   "source": [
    "data = pd.read_csv('dc_output.csv')"
   ]
  },
  {
   "cell_type": "code",
   "execution_count": 4,
   "metadata": {},
   "outputs": [
    {
     "name": "stdout",
     "output_type": "stream",
     "text": [
      "아티스트             0\n",
      "dcinside_ID    270\n",
      "작성일              0\n",
      "조회수              0\n",
      "추천수              0\n",
      "dtype: int64\n"
     ]
    }
   ],
   "source": [
    "missing_values = data.isnull().sum()\n",
    "print(missing_values)"
   ]
  },
  {
   "cell_type": "code",
   "execution_count": 5,
   "metadata": {},
   "outputs": [
    {
     "name": "stdout",
     "output_type": "stream",
     "text": [
      "             아티스트 dcinside_ID       작성일  조회수  추천수\n",
      "286056         탑현         NaN  24.03.16   48    1\n",
      "286057         탑현         NaN  24.02.10   33    0\n",
      "286058         탑현         NaN  24.01.27   24    0\n",
      "286059         탑현         NaN  23.12.31   24    0\n",
      "286060         탑현         NaN  23.12.28   16    0\n",
      "...           ...         ...       ...  ...  ...\n",
      "931216  KIXO (키조)         NaN  24.02.10   33    0\n",
      "931217  KIXO (키조)         NaN  24.01.27   24    0\n",
      "931218  KIXO (키조)         NaN  23.12.31   24    0\n",
      "931219  KIXO (키조)         NaN  23.12.28   16    0\n",
      "931220  KIXO (키조)         NaN  23.12.28   53    0\n",
      "\n",
      "[270 rows x 5 columns]\n"
     ]
    }
   ],
   "source": [
    "rows_with_missing_values = data[data.isnull().any(axis=1)]\n",
    "print(rows_with_missing_values)"
   ]
  },
  {
   "cell_type": "code",
   "execution_count": 9,
   "metadata": {},
   "outputs": [
    {
     "name": "stdout",
     "output_type": "stream",
     "text": [
      "['탑현' '#안녕' '제이세라 (J-Cera)' 'Agust D' '던 (DAWN)' 'Sondia' '포지션' '범진'\n",
      " '주주 시크릿' 'Kelly Clarkson' 'Alessia Cara' 'SG워너비, 브라운 아이드 걸스'\n",
      " 'Straight No Chaser' '원탑' '이하이, 성시경' 'Brenda Lee' '김진표' '가호 (Gaho)'\n",
      " '이지 (izi)' '화곡동 청개구리' '씨스타19' 'J.Tajor' 'Ayumu Imazu' 'Benson Boone' '산들'\n",
      " '주시크 (Joosiq)' 'Natalie Jane' 'Alaina Castillo' 'HIGH4, 아이유 (IU)' '고요'\n",
      " 'MAX' 'SUPER JUNIOR-D&E (동해&은혁)' '이클립스' '김수현' '유회승 (N.Flying)' '김형중'\n",
      " '종호(에이티즈)' 'Tommy Richman' '연변대학최씨' '이영현, 박민혜' '신예영' 'S.Papa' '황인욱'\n",
      " 'Lady Gaga, Bruno Mars' 'KIXO (키조)']\n",
      "45\n"
     ]
    }
   ],
   "source": [
    "rows_with_missing_values = data[data.isnull().any(axis=1)]\n",
    "\n",
    "# 'artist' 열의 값만 추출\n",
    "artist_values_with_missing = rows_with_missing_values['아티스트'].unique()\n",
    "\n",
    "# 결과 출력\n",
    "print(artist_values_with_missing)\n",
    "print(len(artist_values_with_missing))"
   ]
  },
  {
   "cell_type": "code",
   "execution_count": 13,
   "metadata": {},
   "outputs": [],
   "source": [
    "data0 = pd.read_csv('dc_(ID,Artist).csv')"
   ]
  },
  {
   "cell_type": "code",
   "execution_count": 15,
   "metadata": {},
   "outputs": [
    {
     "name": "stdout",
     "output_type": "stream",
     "text": [
      "['탑현' '#안녕' '제이세라 (J-Cera)' 'Agust D' '던 (DAWN)' 'Sondia' '포지션' '범진'\n",
      " '주주 시크릿' 'Kelly Clarkson' 'Alessia Cara' 'SG워너비, 브라운 아이드 걸스'\n",
      " 'Straight No Chaser' '원탑' '이하이, 성시경' 'Brenda Lee' '김진표' '가호 (Gaho)'\n",
      " '이지 (izi)' '화곡동 청개구리' '씨스타19' 'J.Tajor' 'Ayumu Imazu' 'Benson Boone' '산들'\n",
      " '주시크 (Joosiq)' 'Natalie Jane' 'Alaina Castillo' 'HIGH4, 아이유 (IU)' '고요'\n",
      " 'MAX' 'SUPER JUNIOR-D&E (동해&은혁)' '이클립스' '김수현' '유회승 (N.Flying)' '김형중'\n",
      " '종호(에이티즈)' 'Tommy Richman' '연변대학최씨' '이영현, 박민혜' '신예영' 'S.Papa' '황인욱'\n",
      " 'Lady Gaga, Bruno Mars' 'KIXO (키조)']\n",
      "45\n"
     ]
    }
   ],
   "source": [
    "rows_with_missing_values = data0[data0.isnull().any(axis=1)]\n",
    "\n",
    "# 'artist' 열의 값만 추출\n",
    "artist_values_with_missing = rows_with_missing_values['Artist'].unique()\n",
    "\n",
    "# 결과 출력\n",
    "print(artist_values_with_missing)\n",
    "print(len(artist_values_with_missing))"
   ]
  },
  {
   "cell_type": "code",
   "execution_count": null,
   "metadata": {},
   "outputs": [],
   "source": []
  }
 ],
 "metadata": {
  "kernelspec": {
   "display_name": "Python 3",
   "language": "python",
   "name": "python3"
  },
  "language_info": {
   "codemirror_mode": {
    "name": "ipython",
    "version": 3
   },
   "file_extension": ".py",
   "mimetype": "text/x-python",
   "name": "python",
   "nbconvert_exporter": "python",
   "pygments_lexer": "ipython3",
   "version": "3.12.4"
  }
 },
 "nbformat": 4,
 "nbformat_minor": 2
}
