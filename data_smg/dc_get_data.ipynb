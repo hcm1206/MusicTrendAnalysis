{
 "cells": [
  {
   "cell_type": "code",
   "execution_count": 6,
   "metadata": {},
   "outputs": [
    {
     "name": "stdout",
     "output_type": "stream",
     "text": [
      "수집 중: 아티스트 \"AKMU (악뮤)\" (ID: akdong)\n",
      "https://gall.dcinside.com/mgallery/board/lists/?id=akdong&page=1\n",
      "    더 이상 게시글이 없습니다. 아티스트: AKMU (악뮤), 페이지: 1. 수집 종료.\n",
      "데이터 수집 완료. 결과를 'output.csv'로 저장했습니다.\n"
     ]
    }
   ],
   "source": [
    "import pandas as pd\n",
    "import requests\n",
    "from bs4 import BeautifulSoup\n",
    "from datetime import datetime\n",
    "import time\n",
    "\n",
    "# CSV 파일 읽기\n",
    "df = pd.read_csv(\"dc_(ID,Artist).csv\")\n",
    "\n",
    "# 결과를 저장할 리스트\n",
    "results = []\n",
    "\n",
    "# 첫 번째 아티스트에 대해 데이터 수집\n",
    "for index, row in df.iloc[:1].iterrows():  # 첫 번째 행만 선택\n",
    "    artist_name = row[\"Artist\"]\n",
    "    artist_id = row[\"dcinside_ID\"]  # dcinside_ID 사용\n",
    "    print(f'수집 중: 아티스트 \"{artist_name}\" (ID: {artist_id})')\n",
    "\n",
    "    page = 1  # 페이지 초기화\n",
    "\n",
    "    while True:  # 페이지를 반복하며 수집\n",
    "        url = f\"https://gall.dcinside.com/mgallery/board/lists/?id={artist_id}&page={page}\"\n",
    "        print(url)\n",
    "\n",
    "        # 웹 페이지 요청 (User-Agent 추가)\n",
    "        headers = {\n",
    "            \"User-Agent\": \"Mozilla/5.0 (Windows NT 10.0; Win64; x64) AppleWebKit/537.36 (KHTML, like Gecko) Chrome/85.0.4183.121 Safari/537.36\"\n",
    "        }\n",
    "\n",
    "        max_retries = 3\n",
    "        for attempt in range(max_retries):\n",
    "            response = requests.get(url, headers=headers)\n",
    "            if response.status_code == 200:\n",
    "                break\n",
    "            print(f\"요청 실패, 재시도 {attempt + 1}/{max_retries} - 상태 코드: {response.status_code}\")\n",
    "            time.sleep(2)  # 재시도 전 대기\n",
    "\n",
    "        # 응답이 성공적일 경우\n",
    "        if response.status_code == 200:\n",
    "            soup = BeautifulSoup(response.content, \"html.parser\")\n",
    "            posts = soup.find_all(\"tr\", class_=\"ub-content us-post\")  # 게시글 목록\n",
    "            \n",
    "            # 게시글이 없다면 종료\n",
    "            if not posts:\n",
    "                print(f\"    더 이상 게시글이 없습니다. 아티스트: {artist_name}, 페이지: {page}. 수집 종료.\")\n",
    "                break\n",
    "            \n",
    "            for post in posts:\n",
    "                # 공지 여부 확인\n",
    "                if post.get(\"data-type\") == \"icon_notice\":\n",
    "                    print(\"    공지 게시글 발견: 건너뜁니다.\")\n",
    "                    continue\n",
    "\n",
    "                # 작성일 추출\n",
    "                post_date = post.find(\"td\", class_=\"gall_date\").text.strip()\n",
    "\n",
    "                # 월.일 형식인지 확인하고 연도 추가\n",
    "                if len(post_date) == 5:  # \"MM.DD\" 형식인지 확인\n",
    "                    formatted_post_date = f\"24.{post_date}\"  # \"24.MM.DD\" 형식으로 변환\n",
    "                else:\n",
    "                    formatted_post_date = post_date  # 기존 형식 사용\n",
    "\n",
    "                # 기준 날짜 설정\n",
    "                cutoff_date = \"23.09.23\"\n",
    "                formatted_cutoff_date = \"23.09.23\"\n",
    "\n",
    "                # 문자열을 datetime 객체로 변환\n",
    "                post_date_dt = datetime.strptime(formatted_post_date, \"%y.%m.%d\")\n",
    "                cutoff_date_dt = datetime.strptime(formatted_cutoff_date, \"%y.%m.%d\")\n",
    "\n",
    "                # 날짜 비교\n",
    "                if post_date_dt <= cutoff_date_dt:\n",
    "                    print(f\"    종료 조건 충족: 작성일 {formatted_post_date}. 수집 완료.\")\n",
    "                    break\n",
    "                \n",
    "                # 조회수 및 추천수 추출\n",
    "                views = post.find(\"td\", class_=\"gall_count\").text.strip()\n",
    "                recommendations = post.find(\"td\", class_=\"gall_recommend\").text.strip()\n",
    "                \n",
    "                # 결과 리스트에 추가\n",
    "                results.append({\n",
    "                    \"아티스트\": artist_name,\n",
    "                    \"dcinside_ID\": artist_id,\n",
    "                    \"작성일\": formatted_post_date,\n",
    "                    \"조회수\": views,\n",
    "                    \"추천수\": recommendations\n",
    "                })\n",
    "                print(f\"    수집됨: 작성일 {formatted_post_date}, 조회수 {views}, 추천수 {recommendations}\")\n",
    "\n",
    "            # 페이지 증가\n",
    "            page += 1\n",
    "            print(f\"    다음 페이지: {page}\")\n",
    "            time.sleep(3)  # 요청 간에 3초 대기\n",
    "        else:\n",
    "            print(f\"{artist_name}의 데이터 가져오기 오류: {response.status_code}\")\n",
    "            break\n",
    "\n",
    "# 결과를 DataFrame으로 변환\n",
    "results_df = pd.DataFrame(results)\n",
    "\n",
    "# 결과를 CSV 파일로 저장\n",
    "results_df.to_csv(\"output.csv\", index=False)\n",
    "print(\"데이터 수집 완료. 결과를 'output.csv'로 저장했습니다.\")\n"
   ]
  },
  {
   "cell_type": "code",
   "execution_count": 7,
   "metadata": {},
   "outputs": [
    {
     "name": "stdout",
     "output_type": "stream",
     "text": [
      "Empty DataFrame\n",
      "Columns: []\n",
      "Index: []\n"
     ]
    }
   ],
   "source": [
    "print(results_df)"
   ]
  },
  {
   "cell_type": "code",
   "execution_count": null,
   "metadata": {},
   "outputs": [],
   "source": []
  }
 ],
 "metadata": {
  "kernelspec": {
   "display_name": "Python 3",
   "language": "python",
   "name": "python3"
  },
  "language_info": {
   "codemirror_mode": {
    "name": "ipython",
    "version": 3
   },
   "file_extension": ".py",
   "mimetype": "text/x-python",
   "name": "python",
   "nbconvert_exporter": "python",
   "pygments_lexer": "ipython3",
   "version": "3.12.4"
  }
 },
 "nbformat": 4,
 "nbformat_minor": 2
}
