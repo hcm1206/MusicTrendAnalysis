{
 "cells": [
  {
   "cell_type": "code",
   "execution_count": 1,
   "metadata": {},
   "outputs": [],
   "source": [
    "import pandas as pd"
   ]
  },
  {
   "cell_type": "code",
   "execution_count": 3,
   "metadata": {},
   "outputs": [],
   "source": [
    "# 저장한 CSV 피일 경로 \n",
    "file_path = 'cleaned_circle_chart_data.csv'\n",
    "\n",
    "# CSV 파일 불러오기\n",
    "df = pd.read_csv(file_path)"
   ]
  },
  {
   "cell_type": "code",
   "execution_count": 4,
   "metadata": {},
   "outputs": [
    {
     "data": {
      "text/html": [
       "<div>\n",
       "<style scoped>\n",
       "    .dataframe tbody tr th:only-of-type {\n",
       "        vertical-align: middle;\n",
       "    }\n",
       "\n",
       "    .dataframe tbody tr th {\n",
       "        vertical-align: top;\n",
       "    }\n",
       "\n",
       "    .dataframe thead th {\n",
       "        text-align: right;\n",
       "    }\n",
       "</style>\n",
       "<table border=\"1\" class=\"dataframe\">\n",
       "  <thead>\n",
       "    <tr style=\"text-align: right;\">\n",
       "      <th></th>\n",
       "      <th>date</th>\n",
       "      <th>Artist</th>\n",
       "    </tr>\n",
       "  </thead>\n",
       "  <tbody>\n",
       "    <tr>\n",
       "      <th>0</th>\n",
       "      <td>2023-09-24</td>\n",
       "      <td>AKMU (악뮤)</td>\n",
       "    </tr>\n",
       "    <tr>\n",
       "      <th>1</th>\n",
       "      <td>2023-09-24</td>\n",
       "      <td>다이나믹 듀오 (Dynamic Duo), 이영지</td>\n",
       "    </tr>\n",
       "    <tr>\n",
       "      <th>2</th>\n",
       "      <td>2023-09-24</td>\n",
       "      <td>NewJeans</td>\n",
       "    </tr>\n",
       "    <tr>\n",
       "      <th>3</th>\n",
       "      <td>2023-09-24</td>\n",
       "      <td>정국</td>\n",
       "    </tr>\n",
       "    <tr>\n",
       "      <th>4</th>\n",
       "      <td>2023-09-24</td>\n",
       "      <td>전소미</td>\n",
       "    </tr>\n",
       "  </tbody>\n",
       "</table>\n",
       "</div>"
      ],
      "text/plain": [
       "         date                      Artist\n",
       "0  2023-09-24                   AKMU (악뮤)\n",
       "1  2023-09-24  다이나믹 듀오 (Dynamic Duo), 이영지\n",
       "2  2023-09-24                    NewJeans\n",
       "3  2023-09-24                          정국\n",
       "4  2023-09-24                         전소미"
      ]
     },
     "execution_count": 4,
     "metadata": {},
     "output_type": "execute_result"
    }
   ],
   "source": [
    "df.head()"
   ]
  },
  {
   "cell_type": "code",
   "execution_count": 5,
   "metadata": {},
   "outputs": [],
   "source": [
    "import re"
   ]
  },
  {
   "cell_type": "code",
   "execution_count": 6,
   "metadata": {},
   "outputs": [],
   "source": [
    "# 괄호 안의 영문 제거 후 한글만 남기기\n",
    "df['Artist'] = df['Artist'].apply(lambda x: re.sub(r'\\(.*?\\)', '', x).strip())"
   ]
  },
  {
   "cell_type": "code",
   "execution_count": 7,
   "metadata": {},
   "outputs": [
    {
     "data": {
      "text/html": [
       "<div>\n",
       "<style scoped>\n",
       "    .dataframe tbody tr th:only-of-type {\n",
       "        vertical-align: middle;\n",
       "    }\n",
       "\n",
       "    .dataframe tbody tr th {\n",
       "        vertical-align: top;\n",
       "    }\n",
       "\n",
       "    .dataframe thead th {\n",
       "        text-align: right;\n",
       "    }\n",
       "</style>\n",
       "<table border=\"1\" class=\"dataframe\">\n",
       "  <thead>\n",
       "    <tr style=\"text-align: right;\">\n",
       "      <th></th>\n",
       "      <th>date</th>\n",
       "      <th>Artist</th>\n",
       "    </tr>\n",
       "  </thead>\n",
       "  <tbody>\n",
       "    <tr>\n",
       "      <th>0</th>\n",
       "      <td>2023-09-24</td>\n",
       "      <td>AKMU</td>\n",
       "    </tr>\n",
       "    <tr>\n",
       "      <th>1</th>\n",
       "      <td>2023-09-24</td>\n",
       "      <td>다이나믹 듀오 , 이영지</td>\n",
       "    </tr>\n",
       "    <tr>\n",
       "      <th>2</th>\n",
       "      <td>2023-09-24</td>\n",
       "      <td>NewJeans</td>\n",
       "    </tr>\n",
       "    <tr>\n",
       "      <th>3</th>\n",
       "      <td>2023-09-24</td>\n",
       "      <td>정국</td>\n",
       "    </tr>\n",
       "    <tr>\n",
       "      <th>4</th>\n",
       "      <td>2023-09-24</td>\n",
       "      <td>전소미</td>\n",
       "    </tr>\n",
       "  </tbody>\n",
       "</table>\n",
       "</div>"
      ],
      "text/plain": [
       "         date         Artist\n",
       "0  2023-09-24           AKMU\n",
       "1  2023-09-24  다이나믹 듀오 , 이영지\n",
       "2  2023-09-24       NewJeans\n",
       "3  2023-09-24             정국\n",
       "4  2023-09-24            전소미"
      ]
     },
     "execution_count": 7,
     "metadata": {},
     "output_type": "execute_result"
    }
   ],
   "source": [
    "# 데이터 확인 \n",
    "df.head()"
   ]
  },
  {
   "cell_type": "code",
   "execution_count": 8,
   "metadata": {},
   "outputs": [
    {
     "data": {
      "text/html": [
       "<div>\n",
       "<style scoped>\n",
       "    .dataframe tbody tr th:only-of-type {\n",
       "        vertical-align: middle;\n",
       "    }\n",
       "\n",
       "    .dataframe tbody tr th {\n",
       "        vertical-align: top;\n",
       "    }\n",
       "\n",
       "    .dataframe thead th {\n",
       "        text-align: right;\n",
       "    }\n",
       "</style>\n",
       "<table border=\"1\" class=\"dataframe\">\n",
       "  <thead>\n",
       "    <tr style=\"text-align: right;\">\n",
       "      <th></th>\n",
       "      <th>date</th>\n",
       "      <th>Artist</th>\n",
       "    </tr>\n",
       "  </thead>\n",
       "  <tbody>\n",
       "    <tr>\n",
       "      <th>0</th>\n",
       "      <td>2023-09-24</td>\n",
       "      <td>AKMU</td>\n",
       "    </tr>\n",
       "    <tr>\n",
       "      <th>1</th>\n",
       "      <td>2023-09-24</td>\n",
       "      <td>다이나믹 듀오</td>\n",
       "    </tr>\n",
       "    <tr>\n",
       "      <th>2</th>\n",
       "      <td>2023-09-24</td>\n",
       "      <td>이영지</td>\n",
       "    </tr>\n",
       "    <tr>\n",
       "      <th>3</th>\n",
       "      <td>2023-09-24</td>\n",
       "      <td>NewJeans</td>\n",
       "    </tr>\n",
       "    <tr>\n",
       "      <th>4</th>\n",
       "      <td>2023-09-24</td>\n",
       "      <td>정국</td>\n",
       "    </tr>\n",
       "  </tbody>\n",
       "</table>\n",
       "</div>"
      ],
      "text/plain": [
       "         date    Artist\n",
       "0  2023-09-24      AKMU\n",
       "1  2023-09-24  다이나믹 듀오 \n",
       "2  2023-09-24       이영지\n",
       "3  2023-09-24  NewJeans\n",
       "4  2023-09-24        정국"
      ]
     },
     "execution_count": 8,
     "metadata": {},
     "output_type": "execute_result"
    }
   ],
   "source": [
    "# 아티스트를 쉼표로 분리하고 개별 행으로 나누기\n",
    "df_expanded = df.assign(Artist=df['Artist'].str.split(', ')).explode('Artist').reset_index(drop=True)\n",
    "\n",
    "# 데이터 확인\n",
    "df_expanded.head()\n"
   ]
  },
  {
   "cell_type": "code",
   "execution_count": 9,
   "metadata": {},
   "outputs": [
    {
     "name": "stdout",
     "output_type": "stream",
     "text": [
      "중복된 행 개수: 309\n"
     ]
    }
   ],
   "source": [
    "# 날짜와 아티스트 컬럼에서 중복되는 행이 있는지 확인\n",
    "duplicates_check = df_expanded.duplicated(subset=['date', 'Artist']).sum()\n",
    "\n",
    "# 중복된 행이 있으면 숫자로 표시됩니다.\n",
    "print(f'중복된 행 개수: {duplicates_check}')\n"
   ]
  },
  {
   "cell_type": "code",
   "execution_count": 10,
   "metadata": {},
   "outputs": [
    {
     "data": {
      "text/html": [
       "<div>\n",
       "<style scoped>\n",
       "    .dataframe tbody tr th:only-of-type {\n",
       "        vertical-align: middle;\n",
       "    }\n",
       "\n",
       "    .dataframe tbody tr th {\n",
       "        vertical-align: top;\n",
       "    }\n",
       "\n",
       "    .dataframe thead th {\n",
       "        text-align: right;\n",
       "    }\n",
       "</style>\n",
       "<table border=\"1\" class=\"dataframe\">\n",
       "  <thead>\n",
       "    <tr style=\"text-align: right;\">\n",
       "      <th></th>\n",
       "      <th>date</th>\n",
       "      <th>Artist</th>\n",
       "    </tr>\n",
       "  </thead>\n",
       "  <tbody>\n",
       "    <tr>\n",
       "      <th>0</th>\n",
       "      <td>2023-09-24</td>\n",
       "      <td>AKMU</td>\n",
       "    </tr>\n",
       "    <tr>\n",
       "      <th>1</th>\n",
       "      <td>2023-09-24</td>\n",
       "      <td>다이나믹 듀오</td>\n",
       "    </tr>\n",
       "    <tr>\n",
       "      <th>2</th>\n",
       "      <td>2023-09-24</td>\n",
       "      <td>이영지</td>\n",
       "    </tr>\n",
       "    <tr>\n",
       "      <th>3</th>\n",
       "      <td>2023-09-24</td>\n",
       "      <td>NewJeans</td>\n",
       "    </tr>\n",
       "    <tr>\n",
       "      <th>4</th>\n",
       "      <td>2023-09-24</td>\n",
       "      <td>정국</td>\n",
       "    </tr>\n",
       "  </tbody>\n",
       "</table>\n",
       "</div>"
      ],
      "text/plain": [
       "         date    Artist\n",
       "0  2023-09-24      AKMU\n",
       "1  2023-09-24  다이나믹 듀오 \n",
       "2  2023-09-24       이영지\n",
       "3  2023-09-24  NewJeans\n",
       "4  2023-09-24        정국"
      ]
     },
     "execution_count": 10,
     "metadata": {},
     "output_type": "execute_result"
    }
   ],
   "source": [
    "# 최종 데이터 검토\n",
    "df_expanded.head()  # 최종 데이터가 제대로 처리되었는지 확인합니다.\n"
   ]
  },
  {
   "cell_type": "code",
   "execution_count": 11,
   "metadata": {},
   "outputs": [],
   "source": [
    "artist_name_mapping = {\n",
    "    'AKMU': '악뮤',\n",
    "    'NewJeans': '뉴진스',\n",
    "    'Dynamic Duo': '다이나믹 듀오',\n",
    "    '화사': '화사',\n",
    "    'IVE': '아이브',\n",
    "    'Woody': '우디',\n",
    "    'STAYC': '스테이씨',\n",
    "    'LE SSERAFIM': '르세라핌',\n",
    "    'Lauv': '라우브',\n",
    "    'aespa': '에스파',\n",
    "    'BIG Naughty': '서동현',\n",
    "    'Paul Blanco': '폴 블랑코',\n",
    "    'RIIZE': '라이즈',\n",
    "    'ITZY': '있지',\n",
    "    'Charlie Puth': '찰리 푸스',\n",
    "    'V': '뷔',\n",
    "    'Melomance': '멜로망스',\n",
    "    'Crush': '크러쉬',\n",
    "    'H1-KEY': '하이키',\n",
    "    'JISOO': '지수',\n",
    "    'NCT U': 'NCT U',\n",
    "    'The Kid LAROI': '더 키드 라로이',\n",
    "    'Justin Bieber': '저스틴 비버',\n",
    "    'Agust D': '어거스트 디',\n",
    "    'EXO': '엑소',\n",
    "    'BLACKPINK': '블랙핑크',\n",
    "    'Charlie Puth, 정국, 방탄소년단': '찰리 푸스, 정국, 방탄소년단',\n",
    "    # 필요한 아티스트 계속 추가\n",
    "}\n"
   ]
  },
  {
   "cell_type": "code",
   "execution_count": 12,
   "metadata": {},
   "outputs": [
    {
     "data": {
      "text/html": [
       "<div>\n",
       "<style scoped>\n",
       "    .dataframe tbody tr th:only-of-type {\n",
       "        vertical-align: middle;\n",
       "    }\n",
       "\n",
       "    .dataframe tbody tr th {\n",
       "        vertical-align: top;\n",
       "    }\n",
       "\n",
       "    .dataframe thead th {\n",
       "        text-align: right;\n",
       "    }\n",
       "</style>\n",
       "<table border=\"1\" class=\"dataframe\">\n",
       "  <thead>\n",
       "    <tr style=\"text-align: right;\">\n",
       "      <th></th>\n",
       "      <th>date</th>\n",
       "      <th>Artist</th>\n",
       "    </tr>\n",
       "  </thead>\n",
       "  <tbody>\n",
       "    <tr>\n",
       "      <th>0</th>\n",
       "      <td>2023-09-24</td>\n",
       "      <td>악뮤</td>\n",
       "    </tr>\n",
       "    <tr>\n",
       "      <th>1</th>\n",
       "      <td>2023-09-24</td>\n",
       "      <td>다이나믹 듀오</td>\n",
       "    </tr>\n",
       "    <tr>\n",
       "      <th>2</th>\n",
       "      <td>2023-09-24</td>\n",
       "      <td>이영지</td>\n",
       "    </tr>\n",
       "    <tr>\n",
       "      <th>3</th>\n",
       "      <td>2023-09-24</td>\n",
       "      <td>뉴진스</td>\n",
       "    </tr>\n",
       "    <tr>\n",
       "      <th>4</th>\n",
       "      <td>2023-09-24</td>\n",
       "      <td>정국</td>\n",
       "    </tr>\n",
       "  </tbody>\n",
       "</table>\n",
       "</div>"
      ],
      "text/plain": [
       "         date   Artist\n",
       "0  2023-09-24       악뮤\n",
       "1  2023-09-24  다이나믹 듀오\n",
       "2  2023-09-24      이영지\n",
       "3  2023-09-24      뉴진스\n",
       "4  2023-09-24       정국"
      ]
     },
     "execution_count": 12,
     "metadata": {},
     "output_type": "execute_result"
    }
   ],
   "source": [
    "def convert_artist_name(artist_name):\n",
    "    for eng_name, kor_name in artist_name_mapping.items():\n",
    "        artist_name = artist_name.replace(eng_name, kor_name)\n",
    "    return artist_name.strip()\n",
    "\n",
    "# 아티스트 이름 변환 적용\n",
    "df_expanded['Artist'] = df_expanded['Artist'].apply(convert_artist_name)\n",
    "\n",
    "# 변환 결과 확인\n",
    "df_expanded.head()\n"
   ]
  },
  {
   "cell_type": "code",
   "execution_count": 13,
   "metadata": {},
   "outputs": [
    {
     "name": "stdout",
     "output_type": "stream",
     "text": [
      "영어로 된 아티스트 이름이 존재합니다:\n",
      "            date           Artist\n",
      "23    2023-09-24               DK\n",
      "35    2023-09-24            NCT U\n",
      "48    2023-09-24      FIFTY FIFTY\n",
      "50    2023-09-24               DK\n",
      "51    2023-09-24        NCT DREAM\n",
      "...          ...              ...\n",
      "6122  2024-09-08        Sam Smith\n",
      "6126  2024-09-08           Sondia\n",
      "6130  2024-09-08  Alaina Castillo\n",
      "6132  2024-09-08               YB\n",
      "6136  2024-09-08    Kenshi Yonezu\n",
      "\n",
      "[1454 rows x 2 columns]\n"
     ]
    }
   ],
   "source": [
    "# 영어로 된 아티스트 이름이 있는지 확인\n",
    "eng_artists_check = df_expanded[df_expanded['Artist'].apply(lambda x: bool(re.search(r'[a-zA-Z]', x)))]\n",
    "\n",
    "# 영어로 된 아티스트가 있는지 확인\n",
    "if len(eng_artists_check) > 0:\n",
    "    print(\"영어로 된 아티스트 이름이 존재합니다:\")\n",
    "    print(eng_artists_check)\n",
    "else:\n",
    "    print(\"영어로 된 아티스트 이름이 없습니다.\")\n"
   ]
  },
  {
   "cell_type": "code",
   "execution_count": 14,
   "metadata": {},
   "outputs": [
    {
     "name": "stdout",
     "output_type": "stream",
     "text": [
      "같은 날짜에 중복된 아티스트 이름이 존재합니다:\n",
      "            date   Artist\n",
      "1     2023-09-24  다이나믹 듀오\n",
      "4     2023-09-24       정국\n",
      "23    2023-09-24       DK\n",
      "37    2023-09-24   저스틴 비버\n",
      "50    2023-09-24       DK\n",
      "...          ...      ...\n",
      "6101  2024-09-08      임한별\n",
      "6103  2024-09-08      순순희\n",
      "6112  2024-09-08      #안녕\n",
      "6116  2024-09-08   저스틴 비버\n",
      "6118  2024-09-08       허각\n",
      "\n",
      "[594 rows x 2 columns]\n"
     ]
    }
   ],
   "source": [
    "# 같은 날짜에 중복된 아티스트 이름 확인\n",
    "duplicate_artists_check = df_expanded[df_expanded.duplicated(subset=['date', 'Artist'], keep=False)]\n",
    "\n",
    "# 중복된 아티스트가 있는지 확인\n",
    "if len(duplicate_artists_check) > 0:\n",
    "    print(\"같은 날짜에 중복된 아티스트 이름이 존재합니다:\")\n",
    "    print(duplicate_artists_check)\n",
    "else:\n",
    "    print(\"같은 날짜에 중복된 아티스트 이름이 없습니다.\")\n"
   ]
  },
  {
   "cell_type": "code",
   "execution_count": 15,
   "metadata": {},
   "outputs": [
    {
     "data": {
      "text/html": [
       "<div>\n",
       "<style scoped>\n",
       "    .dataframe tbody tr th:only-of-type {\n",
       "        vertical-align: middle;\n",
       "    }\n",
       "\n",
       "    .dataframe tbody tr th {\n",
       "        vertical-align: top;\n",
       "    }\n",
       "\n",
       "    .dataframe thead th {\n",
       "        text-align: right;\n",
       "    }\n",
       "</style>\n",
       "<table border=\"1\" class=\"dataframe\">\n",
       "  <thead>\n",
       "    <tr style=\"text-align: right;\">\n",
       "      <th></th>\n",
       "      <th>date</th>\n",
       "      <th>Artist</th>\n",
       "    </tr>\n",
       "  </thead>\n",
       "  <tbody>\n",
       "    <tr>\n",
       "      <th>0</th>\n",
       "      <td>2023-09-24</td>\n",
       "      <td>AKMU</td>\n",
       "    </tr>\n",
       "    <tr>\n",
       "      <th>1</th>\n",
       "      <td>2023-09-24</td>\n",
       "      <td>다이나믹 듀오 , 이영지</td>\n",
       "    </tr>\n",
       "    <tr>\n",
       "      <th>2</th>\n",
       "      <td>2023-09-24</td>\n",
       "      <td>뉴진스</td>\n",
       "    </tr>\n",
       "    <tr>\n",
       "      <th>3</th>\n",
       "      <td>2023-09-24</td>\n",
       "      <td>정국</td>\n",
       "    </tr>\n",
       "    <tr>\n",
       "      <th>4</th>\n",
       "      <td>2023-09-24</td>\n",
       "      <td>전소미</td>\n",
       "    </tr>\n",
       "  </tbody>\n",
       "</table>\n",
       "</div>"
      ],
      "text/plain": [
       "         date         Artist\n",
       "0  2023-09-24           AKMU\n",
       "1  2023-09-24  다이나믹 듀오 , 이영지\n",
       "2  2023-09-24            뉴진스\n",
       "3  2023-09-24             정국\n",
       "4  2023-09-24            전소미"
      ]
     },
     "execution_count": 15,
     "metadata": {},
     "output_type": "execute_result"
    }
   ],
   "source": [
    "# 영어 이름을 한글로 변환하는 사전 추가\n",
    "artist_name_mapping = {\n",
    "    'AKMU (악뮤)': '악뮤',\n",
    "    'NewJeans': '뉴진스',\n",
    "    '화사(Hwa Sa)': '화사',\n",
    "    'IVE (아이브)': '아이브',\n",
    "    'Woody': '우디',\n",
    "    'STAYC(스테이씨)': '스테이씨',\n",
    "    'LE SSERAFIM (르세라핌)': '르세라핌',\n",
    "    'Lauv': '라우브',\n",
    "    'aespa': '에스파',\n",
    "    'BIG Naughty (서동현)': '서동현',\n",
    "    'Paul Blanco': '폴 블랑코',\n",
    "    'RIIZE': '라이즈',\n",
    "    'ITZY (있지)': '있지',\n",
    "    'DK': '디케이',\n",
    "    'Charlie Puth': '찰리 푸스',\n",
    "    'V': '뷔',\n",
    "    'Melomance': '멜로망스',\n",
    "    'Crush': '크러쉬',\n",
    "    'H1-KEY': '하이키',\n",
    "    'JISOO': '지수',\n",
    "    'NCT U': '엔시티 유',\n",
    "    'The Kid LAROI, Justin Bieber': '더 키드 라로이, 저스틴 비버',\n",
    "    'FIFTY FIFTY': '피프티 피프티',\n",
    "    'NCT DREAM': '엔시티 드림',\n",
    "    'Agust D': '어거스트 디',\n",
    "    'Doja Cat': '도자 캣',\n",
    "    'BLACKPINK': '블랙핑크',\n",
    "    'Justin Bieber': '저스틴 비버',\n",
    "    'Sam Smith': '샘 스미스',\n",
    "    'Ed Sheeran': '에드 시런',\n",
    "    'EXO': '엑소',\n",
    "    'Billie Eilish': '빌리 아일리시',\n",
    "    'Taylor Swift': '테일러 스위프트',\n",
    "    'Stray Kids': '스트레이 키즈',\n",
    "    'ATEEZ': '에이티즈',\n",
    "    'TREASURE': '트레저',\n",
    "    'Ariana Grande': '아리아나 그란데',\n",
    "    'Mariah Carey': '머라이어 캐리',\n",
    "    'VIVIZ': '비비지',\n",
    "    'BTOB': '비투비',\n",
    "    'ITZY': '있지',\n",
    "    'ENHYPEN': '엔하이픈',\n",
    "    'Charlie Puth, 정국, 방탄소년단': '찰리 푸스, 정국, 방탄소년단',\n",
    "    # 필요한 추가 변환\n",
    "}\n",
    "\n",
    "# 아티스트 이름을 한글로 변환하는 함수\n",
    "def convert_artist_name(artist_name):\n",
    "    for eng_name, kor_name in artist_name_mapping.items():\n",
    "        artist_name = artist_name.replace(eng_name, kor_name)\n",
    "    return artist_name.strip()\n",
    "\n",
    "# 아티스트 이름 변환 적용\n",
    "df['Artist'] = df['Artist'].apply(convert_artist_name)\n",
    "\n",
    "# 변환된 데이터 확인\n",
    "df.head()\n"
   ]
  },
  {
   "cell_type": "code",
   "execution_count": 16,
   "metadata": {},
   "outputs": [
    {
     "data": {
      "text/html": [
       "<div>\n",
       "<style scoped>\n",
       "    .dataframe tbody tr th:only-of-type {\n",
       "        vertical-align: middle;\n",
       "    }\n",
       "\n",
       "    .dataframe tbody tr th {\n",
       "        vertical-align: top;\n",
       "    }\n",
       "\n",
       "    .dataframe thead th {\n",
       "        text-align: right;\n",
       "    }\n",
       "</style>\n",
       "<table border=\"1\" class=\"dataframe\">\n",
       "  <thead>\n",
       "    <tr style=\"text-align: right;\">\n",
       "      <th></th>\n",
       "      <th>date</th>\n",
       "      <th>Artist</th>\n",
       "    </tr>\n",
       "  </thead>\n",
       "  <tbody>\n",
       "    <tr>\n",
       "      <th>0</th>\n",
       "      <td>2023-09-24</td>\n",
       "      <td>AKMU</td>\n",
       "    </tr>\n",
       "    <tr>\n",
       "      <th>1</th>\n",
       "      <td>2023-09-24</td>\n",
       "      <td>다이나믹 듀오</td>\n",
       "    </tr>\n",
       "    <tr>\n",
       "      <th>2</th>\n",
       "      <td>2023-09-24</td>\n",
       "      <td>이영지</td>\n",
       "    </tr>\n",
       "    <tr>\n",
       "      <th>3</th>\n",
       "      <td>2023-09-24</td>\n",
       "      <td>뉴진스</td>\n",
       "    </tr>\n",
       "    <tr>\n",
       "      <th>4</th>\n",
       "      <td>2023-09-24</td>\n",
       "      <td>정국</td>\n",
       "    </tr>\n",
       "  </tbody>\n",
       "</table>\n",
       "</div>"
      ],
      "text/plain": [
       "         date    Artist\n",
       "0  2023-09-24      AKMU\n",
       "1  2023-09-24  다이나믹 듀오 \n",
       "2  2023-09-24       이영지\n",
       "3  2023-09-24       뉴진스\n",
       "4  2023-09-24        정국"
      ]
     },
     "execution_count": 16,
     "metadata": {},
     "output_type": "execute_result"
    }
   ],
   "source": [
    "# 아티스트를 쉼표로 분리하고 개별 행으로 나누기\n",
    "df_expanded = df.assign(Artist=df['Artist'].str.split(', ')).explode('Artist').reset_index(drop=True)\n",
    "\n",
    "# 결과 확인\n",
    "df_expanded.head()\n"
   ]
  },
  {
   "cell_type": "code",
   "execution_count": 17,
   "metadata": {},
   "outputs": [
    {
     "name": "stdout",
     "output_type": "stream",
     "text": [
      "영어로 된 아티스트 이름이 존재합니다:\n",
      "            date           Artist\n",
      "0     2023-09-24             AKMU\n",
      "8     2023-09-24              I뷔E\n",
      "10    2023-09-24            STAYC\n",
      "12    2023-09-24      LE SSERAFIM\n",
      "17    2023-09-24      BIG Naughty\n",
      "...          ...              ...\n",
      "6126  2024-09-08           Sondia\n",
      "6130  2024-09-08  Alaina Castillo\n",
      "6132  2024-09-08               YB\n",
      "6135  2024-09-08      BIG Naughty\n",
      "6136  2024-09-08    Kenshi Yonezu\n",
      "\n",
      "[1372 rows x 2 columns]\n"
     ]
    }
   ],
   "source": [
    "# 아티스트 이름에 영어가 포함된 경우 확인\n",
    "eng_artists_check = df_expanded[df_expanded['Artist'].apply(lambda x: bool(re.search(r'[a-zA-Z]', x)))]\n",
    "\n",
    "# 영어로 된 아티스트가 있는지 확인\n",
    "if len(eng_artists_check) > 0:\n",
    "    print(\"영어로 된 아티스트 이름이 존재합니다:\")\n",
    "    print(eng_artists_check)\n",
    "else:\n",
    "    print(\"영어로 된 아티스트 이름이 없습니다.\")\n"
   ]
  },
  {
   "cell_type": "code",
   "execution_count": 18,
   "metadata": {},
   "outputs": [
    {
     "data": {
      "text/plain": [
       "array(['AKMU', 'I뷔E', 'STAYC', 'LE SSERAFIM', 'BIG Naughty', '10cm',\n",
       "       'Zac Efron', 'Zendaya', 'BOYNEXTDOOR', 'YOASOBI', 'DAY6', 'j-hope',\n",
       "       ' J. Cole', 'imase', 'Christopher', 'DJ Premier', 'KISS OF LIFE',\n",
       "       'Anne-Marie', 'WSG워너비', 'Yyeon', 'ZEROBASEONE', 'Sondia',\n",
       "       'Dan + Shay', 'NMIXX', 'Yuuri', 'BE`O', 'NCT 127',\n",
       "       'League of Legends', 'dori', 'TOIL', 'Kid Wine', 'The Kid LAROI',\n",
       "       'Central Cee', 'PLA뷔E', 'Sia', 'Kelly Clarkson', 'Alessia Cara',\n",
       "       'DEAN', 'QWER', 'SG워너비', 'BABYMONSTER', 'Ava Max',\n",
       "       'Straight No Chaser', 'Wham!', '뷔I뷔IZ', 'Michael Buble',\n",
       "       'Jonas Brothers', 'ASH ISLAND', 'TWICE', 'Brenda Lee',\n",
       "       'John Legend', 'PITTA', '2am', 'SF9', 'YB', 'YENA', 'KCM', 'TWS',\n",
       "       'J.Tajor', 'WOOZI', 'AB6IX', 'meenoi', 'I.M', 'Ayumu Imazu',\n",
       "       'Benson Boone', 'CRA뷔ITY', 'Natalie Jane', 'Peder Elias',\n",
       "       'Men`s Tear', 'Alaina Castillo', 'HIGH4', 'LUCY', 'Creepy Nuts',\n",
       "       'MAX', 'SUPER JUNIOR-D&E', 'BIGBANG', 'Shawn Mendes', 'RM',\n",
       "       'Andy Grammer', 'tripleS', 'Sabrina Carpenter', 'Gist', 'HYNN',\n",
       "       'XIA', '정한 X 원우', 'Tommy Richman', '뷔aundy', 'NCT WISH',\n",
       "       'Sunset Rollercoaster 落日飛車', 'Seiko Matsuda', 'Sofia Carson',\n",
       "       'S.Papa', 'Lady Gaga', 'Bruno Mars', 'KIXO', 'MEO뷔뷔',\n",
       "       'Kenshi Yonezu'], dtype=object)"
      ]
     },
     "execution_count": 18,
     "metadata": {},
     "output_type": "execute_result"
    }
   ],
   "source": [
    "# 영어로 된 아티스트 이름이 있는지 확인\n",
    "eng_artists_check = df_expanded[df_expanded['Artist'].apply(lambda x: bool(re.search(r'[a-zA-Z]', x)))]\n",
    "\n",
    "# 남아 있는 영어 아티스트 이름 목록 확인\n",
    "eng_artists_list = eng_artists_check['Artist'].unique()\n",
    "eng_artists_list\n"
   ]
  },
  {
   "cell_type": "code",
   "execution_count": 22,
   "metadata": {},
   "outputs": [],
   "source": [
    "artist_name_mapping.update({\n",
    "    'AKMU': '악뮤',\n",
    "    'I뷔E': '아이브',  # IVE 오타로 추정하여 '아이브'로 수정\n",
    "    'STAYC': '스테이씨',\n",
    "    'LE SSERAFIM': '르세라핌',\n",
    "    'BIG Naughty': '서동현',\n",
    "    '10cm': '10cm',  # 이미 적절한 이름이므로 유지\n",
    "    'Zac Efron': '잭 에프론',\n",
    "    'Zendaya': '젠데이아',\n",
    "    'BOYNEXTDOOR': '보이넥스트도어',\n",
    "    'YOASOBI': '요아소비',\n",
    "    'DAY6': '데이식스',\n",
    "    'j-hope': '제이홉',\n",
    "    'J. Cole': '제이콜',\n",
    "    'imase': '이마세',\n",
    "    'Christopher': '크리스토퍼',\n",
    "    'DJ Premier': '디제이 프리미어',\n",
    "    'KISS OF LIFE': '키스 오브 라이프',\n",
    "    'Anne-Marie': '앤 마리',\n",
    "    'WSG워너비': 'WSG워너비',  # 이미 적절한 이름이므로 유지\n",
    "    'Yyeon': '이연',\n",
    "    'ZEROBASEONE': '제로베이스원',\n",
    "    'Sondia': '손디아',\n",
    "    'Dan + Shay': '댄 앤 셰이',\n",
    "    'NMIXX': '엔믹스',\n",
    "    'Yuuri': '유우리',\n",
    "    'BE`O': '비오',\n",
    "    'NCT 127': '엔시티 127',\n",
    "    'League of Legends': '리그 오브 레전드',\n",
    "    'dori': '도리',\n",
    "    'TOIL': '토일',\n",
    "    'Kid Wine': '키드 와인',\n",
    "    'The Kid LAROI': '더 키드 라로이',\n",
    "    'Central Cee': '센트럴 씨',\n",
    "    'PLAVE': '플레이브',\n",
    "    'Sia': '시아',\n",
    "    'Kelly Clarkson': '켈리 클락슨',\n",
    "    'Alessia Cara': '알레시아 카라',\n",
    "    'DEAN': '딘',\n",
    "    'QWER': '큐더블유이알',\n",
    "    'SG워너비': 'SG워너비',  # 이미 적절한 이름이므로 유지\n",
    "    'BABYMONSTER': '베이비몬스터',\n",
    "    'Ava Max': '에이바 맥스',\n",
    "    'Straight No Chaser': '스트레이트 노 체이서',\n",
    "    'Wham!': '왬',\n",
    "    'VIVIZ': '비비지',\n",
    "    'Michael Buble': '마이클 부블레',\n",
    "    'Jonas Brothers': '조나스 브라더스',\n",
    "    'ASH ISLAND': '애쉬 아일랜드',\n",
    "    'TWICE': '트와이스',\n",
    "    'Brenda Lee': '브렌다 리',\n",
    "    'John Legend': '존 레전드',\n",
    "    'PITTA': '피타',\n",
    "    '2am': '2am',  # 이미 적절한 이름이므로 유지\n",
    "    'SF9': '에스에프나인',\n",
    "    'YB': '윤도현 밴드',\n",
    "    'YENA': '최예나',\n",
    "    'KCM': '케이씨엠',\n",
    "    'TWS': '투어스',\n",
    "    'J.Tajor': '제이 타조',\n",
    "    'WOOZI': '우지',\n",
    "    'AB6IX': '에이비식스',\n",
    "    'meenoi': '미노이',\n",
    "    'I.M': '아이엠',\n",
    "    'Ayumu Imazu': '아유무 이마즈',\n",
    "    'Benson Boone': '벤슨 분',\n",
    "    'CRAVITY': '크래비티',\n",
    "    'Natalie Jane': '나탈리 제인',\n",
    "    'Peder Elias': '페더 엘리아스',\n",
    "    'Men`s Tear': '맨스 티어',\n",
    "    'Alaina Castillo': '알라이나 카스틸로',\n",
    "    'HIGH4': '하이포',\n",
    "    'LUCY': '루시',\n",
    "    'Creepy Nuts': '크리피 넛츠',\n",
    "    'MAX': '맥스',\n",
    "    'SUPER JUNIOR-D&E': '슈퍼주니어 D&E',\n",
    "    'BIGBANG': '빅뱅',\n",
    "    'Shawn Mendes': '숀 멘데스',\n",
    "    'RM': '알엠',\n",
    "    'Andy Grammer': '앤디 그래머',\n",
    "    'tripleS': '트리플에스',\n",
    "    'Sabrina Carpenter': '사브리나 카펜터',\n",
    "    'Gist': '지스트',\n",
    "    'HYNN': '박혜원',\n",
    "    'XIA': '시아',\n",
    "    '정한 X 원우': '정한 X 원우',\n",
    "    'Tommy Richman': '토미 리치맨',\n",
    "    '뷔aundy': '바운디',\n",
    "    'NCT WISH': '엔시티 위시',\n",
    "    'Sunset Rollercoaster 落日飛車': '선셋 롤러코스터',\n",
    "    'Seiko Matsuda': '세이코 마츠다',\n",
    "    'Sofia Carson': '소피아 카슨',\n",
    "    'S.Papa': '에스 파파',\n",
    "    'Lady Gaga': '레이디 가가',\n",
    "    'Bruno Mars': '브루노 마스',\n",
    "    'KIXO': '키조',\n",
    "    'MEOVV': '미야오',\n",
    "    'Kenshi Yonezu': '요네즈 켄시'\n",
    "})\n"
   ]
  },
  {
   "cell_type": "code",
   "execution_count": 23,
   "metadata": {},
   "outputs": [
    {
     "data": {
      "text/html": [
       "<div>\n",
       "<style scoped>\n",
       "    .dataframe tbody tr th:only-of-type {\n",
       "        vertical-align: middle;\n",
       "    }\n",
       "\n",
       "    .dataframe tbody tr th {\n",
       "        vertical-align: top;\n",
       "    }\n",
       "\n",
       "    .dataframe thead th {\n",
       "        text-align: right;\n",
       "    }\n",
       "</style>\n",
       "<table border=\"1\" class=\"dataframe\">\n",
       "  <thead>\n",
       "    <tr style=\"text-align: right;\">\n",
       "      <th></th>\n",
       "      <th>date</th>\n",
       "      <th>Artist</th>\n",
       "    </tr>\n",
       "  </thead>\n",
       "  <tbody>\n",
       "    <tr>\n",
       "      <th>0</th>\n",
       "      <td>2023-09-24</td>\n",
       "      <td>악뮤</td>\n",
       "    </tr>\n",
       "    <tr>\n",
       "      <th>1</th>\n",
       "      <td>2023-09-24</td>\n",
       "      <td>다이나믹 듀오</td>\n",
       "    </tr>\n",
       "    <tr>\n",
       "      <th>2</th>\n",
       "      <td>2023-09-24</td>\n",
       "      <td>이영지</td>\n",
       "    </tr>\n",
       "    <tr>\n",
       "      <th>3</th>\n",
       "      <td>2023-09-24</td>\n",
       "      <td>뉴진스</td>\n",
       "    </tr>\n",
       "    <tr>\n",
       "      <th>4</th>\n",
       "      <td>2023-09-24</td>\n",
       "      <td>정국</td>\n",
       "    </tr>\n",
       "  </tbody>\n",
       "</table>\n",
       "</div>"
      ],
      "text/plain": [
       "         date   Artist\n",
       "0  2023-09-24       악뮤\n",
       "1  2023-09-24  다이나믹 듀오\n",
       "2  2023-09-24      이영지\n",
       "3  2023-09-24      뉴진스\n",
       "4  2023-09-24       정국"
      ]
     },
     "execution_count": 23,
     "metadata": {},
     "output_type": "execute_result"
    }
   ],
   "source": [
    "# 아티스트 이름 변환 적용\n",
    "df_expanded['Artist'] = df_expanded['Artist'].apply(convert_artist_name)\n",
    "\n",
    "# 변환된 데이터 확인\n",
    "df_expanded.head()\n"
   ]
  },
  {
   "cell_type": "code",
   "execution_count": 24,
   "metadata": {},
   "outputs": [
    {
     "name": "stdout",
     "output_type": "stream",
     "text": [
      "영어로 된 아티스트 이름이 존재합니다:\n",
      "            date  Artist\n",
      "60    2023-09-24    10cm\n",
      "98    2023-09-24  WSG워너비\n",
      "191   2023-10-01    10cm\n",
      "229   2023-10-01  WSG워너비\n",
      "321   2023-10-08    10cm\n",
      "...          ...     ...\n",
      "6061  2024-09-08   PLA뷔E\n",
      "6065  2024-09-08   MEO뷔뷔\n",
      "6071  2024-09-08   뷔I뷔IZ\n",
      "6086  2024-09-08    10cm\n",
      "6097  2024-09-08  NCT 위시\n",
      "\n",
      "[155 rows x 2 columns]\n"
     ]
    }
   ],
   "source": [
    "# 아티스트 이름에 영어가 포함된 경우 확인\n",
    "eng_artists_check = df_expanded[df_expanded['Artist'].apply(lambda x: bool(re.search(r'[a-zA-Z]', x)))]\n",
    "\n",
    "# 영어로 된 아티스트가 있는지 확인\n",
    "if len(eng_artists_check) > 0:\n",
    "    print(\"영어로 된 아티스트 이름이 존재합니다:\")\n",
    "    print(eng_artists_check)\n",
    "else:\n",
    "    print(\"영어로 된 아티스트 이름이 없습니다.\")\n"
   ]
  },
  {
   "cell_type": "code",
   "execution_count": 25,
   "metadata": {},
   "outputs": [
    {
     "data": {
      "text/plain": [
       "array(['10cm', 'WSG워너비', 'PLA뷔E', 'SG워너비', '뷔I뷔IZ', '2am', 'CRA뷔ITY',\n",
       "       '슈퍼주니어 D&E', '정한 X 원우', 'NCT 위시', 'MEO뷔뷔'], dtype=object)"
      ]
     },
     "execution_count": 25,
     "metadata": {},
     "output_type": "execute_result"
    }
   ],
   "source": [
    "# 영어로 된 아티스트 이름이 있는지 확인\n",
    "eng_artists_check = df_expanded[df_expanded['Artist'].apply(lambda x: bool(re.search(r'[a-zA-Z]', x)))]\n",
    "\n",
    "# 남아 있는 영어 아티스트 이름 목록 확인\n",
    "eng_artists_list = eng_artists_check['Artist'].unique()\n",
    "eng_artists_list\n"
   ]
  },
  {
   "cell_type": "code",
   "execution_count": 28,
   "metadata": {},
   "outputs": [
    {
     "data": {
      "text/html": [
       "<div>\n",
       "<style scoped>\n",
       "    .dataframe tbody tr th:only-of-type {\n",
       "        vertical-align: middle;\n",
       "    }\n",
       "\n",
       "    .dataframe tbody tr th {\n",
       "        vertical-align: top;\n",
       "    }\n",
       "\n",
       "    .dataframe thead th {\n",
       "        text-align: right;\n",
       "    }\n",
       "</style>\n",
       "<table border=\"1\" class=\"dataframe\">\n",
       "  <thead>\n",
       "    <tr style=\"text-align: right;\">\n",
       "      <th></th>\n",
       "      <th>date</th>\n",
       "      <th>Artist</th>\n",
       "    </tr>\n",
       "  </thead>\n",
       "  <tbody>\n",
       "    <tr>\n",
       "      <th>0</th>\n",
       "      <td>2023-09-24</td>\n",
       "      <td>악뮤</td>\n",
       "    </tr>\n",
       "    <tr>\n",
       "      <th>1</th>\n",
       "      <td>2023-09-24</td>\n",
       "      <td>다이나믹 듀오</td>\n",
       "    </tr>\n",
       "    <tr>\n",
       "      <th>2</th>\n",
       "      <td>2023-09-24</td>\n",
       "      <td>이영지</td>\n",
       "    </tr>\n",
       "    <tr>\n",
       "      <th>3</th>\n",
       "      <td>2023-09-24</td>\n",
       "      <td>뉴진스</td>\n",
       "    </tr>\n",
       "    <tr>\n",
       "      <th>4</th>\n",
       "      <td>2023-09-24</td>\n",
       "      <td>정국</td>\n",
       "    </tr>\n",
       "  </tbody>\n",
       "</table>\n",
       "</div>"
      ],
      "text/plain": [
       "         date   Artist\n",
       "0  2023-09-24       악뮤\n",
       "1  2023-09-24  다이나믹 듀오\n",
       "2  2023-09-24      이영지\n",
       "3  2023-09-24      뉴진스\n",
       "4  2023-09-24       정국"
      ]
     },
     "execution_count": 28,
     "metadata": {},
     "output_type": "execute_result"
    }
   ],
   "source": [
    "artist_name_mapping.update({\n",
    "    'PLA뷔E': '플레이브',\n",
    "    '뷔I뷔IZ': '비비지',\n",
    "    'CRA뷔ITY': '크래비티',\n",
    "    '슈퍼주니어 D&E': '슈퍼주니어 D&E',\n",
    "    'NCT 위시': '엔시티 WISH',\n",
    "    'MEO뷔뷔': '미야오',  # 임시로 '미야오'로 변환 (추후 확인 필요)\n",
    "})\n",
    "\n",
    "# 다시 변환 적용\n",
    "df_expanded['Artist'] = df_expanded['Artist'].apply(convert_artist_name)\n",
    "\n",
    "# 변환된 데이터 확인\n",
    "df_expanded.head()\n"
   ]
  },
  {
   "cell_type": "code",
   "execution_count": 29,
   "metadata": {},
   "outputs": [
    {
     "data": {
      "text/plain": [
       "array(['10cm', 'WSG워너비', 'SG워너비', '2am', '슈퍼주니어 D&E', '정한 X 원우'],\n",
       "      dtype=object)"
      ]
     },
     "execution_count": 29,
     "metadata": {},
     "output_type": "execute_result"
    }
   ],
   "source": [
    "# 영어로 된 아티스트 이름이 있는지 확인\n",
    "eng_artists_check = df_expanded[df_expanded['Artist'].apply(lambda x: bool(re.search(r'[a-zA-Z]', x)))]\n",
    "\n",
    "# 남아 있는 영어 아티스트 이름 목록 확인\n",
    "eng_artists_list = eng_artists_check['Artist'].unique()\n",
    "eng_artists_list\n"
   ]
  },
  {
   "cell_type": "code",
   "execution_count": 30,
   "metadata": {},
   "outputs": [
    {
     "name": "stdout",
     "output_type": "stream",
     "text": [
      "날짜별로 중복된 아티스트 이름이 존재합니다:\n",
      "            date   Artist\n",
      "1     2023-09-24  다이나믹 듀오\n",
      "4     2023-09-24       정국\n",
      "23    2023-09-24      디케이\n",
      "37    2023-09-24   저스틴 비버\n",
      "50    2023-09-24      디케이\n",
      "...          ...      ...\n",
      "6101  2024-09-08      임한별\n",
      "6103  2024-09-08      순순희\n",
      "6112  2024-09-08      #안녕\n",
      "6116  2024-09-08   저스틴 비버\n",
      "6118  2024-09-08       허각\n",
      "\n",
      "[594 rows x 2 columns]\n"
     ]
    }
   ],
   "source": [
    "# 날짜별 중복된 아티스트 확인\n",
    "duplicate_artists_check = df_expanded[df_expanded.duplicated(subset=['date', 'Artist'], keep=False)]\n",
    "\n",
    "# 중복된 아티스트가 있는지 확인\n",
    "if len(duplicate_artists_check) > 0:\n",
    "    print(\"날짜별로 중복된 아티스트 이름이 존재합니다:\")\n",
    "    print(duplicate_artists_check)\n",
    "else:\n",
    "    print(\"날짜별로 중복된 아티스트 이름이 없습니다.\")\n"
   ]
  },
  {
   "cell_type": "code",
   "execution_count": 31,
   "metadata": {},
   "outputs": [
    {
     "data": {
      "text/html": [
       "<div>\n",
       "<style scoped>\n",
       "    .dataframe tbody tr th:only-of-type {\n",
       "        vertical-align: middle;\n",
       "    }\n",
       "\n",
       "    .dataframe tbody tr th {\n",
       "        vertical-align: top;\n",
       "    }\n",
       "\n",
       "    .dataframe thead th {\n",
       "        text-align: right;\n",
       "    }\n",
       "</style>\n",
       "<table border=\"1\" class=\"dataframe\">\n",
       "  <thead>\n",
       "    <tr style=\"text-align: right;\">\n",
       "      <th></th>\n",
       "      <th>date</th>\n",
       "      <th>Artist</th>\n",
       "    </tr>\n",
       "  </thead>\n",
       "  <tbody>\n",
       "    <tr>\n",
       "      <th>0</th>\n",
       "      <td>2023-09-24</td>\n",
       "      <td>악뮤</td>\n",
       "    </tr>\n",
       "    <tr>\n",
       "      <th>1</th>\n",
       "      <td>2023-09-24</td>\n",
       "      <td>다이나믹 듀오</td>\n",
       "    </tr>\n",
       "    <tr>\n",
       "      <th>2</th>\n",
       "      <td>2023-09-24</td>\n",
       "      <td>이영지</td>\n",
       "    </tr>\n",
       "    <tr>\n",
       "      <th>3</th>\n",
       "      <td>2023-09-24</td>\n",
       "      <td>뉴진스</td>\n",
       "    </tr>\n",
       "    <tr>\n",
       "      <th>4</th>\n",
       "      <td>2023-09-24</td>\n",
       "      <td>정국</td>\n",
       "    </tr>\n",
       "  </tbody>\n",
       "</table>\n",
       "</div>"
      ],
      "text/plain": [
       "         date   Artist\n",
       "0  2023-09-24       악뮤\n",
       "1  2023-09-24  다이나믹 듀오\n",
       "2  2023-09-24      이영지\n",
       "3  2023-09-24      뉴진스\n",
       "4  2023-09-24       정국"
      ]
     },
     "execution_count": 31,
     "metadata": {},
     "output_type": "execute_result"
    }
   ],
   "source": [
    "# 날짜별로 중복된 아티스트 이름 제거 (첫 번째 중복만 남기고 나머지 제거)\n",
    "df_unique_artists = df_expanded.drop_duplicates(subset=['date', 'Artist'], keep='first')\n",
    "\n",
    "# 중복 제거 후 결과 확인\n",
    "df_unique_artists.head()\n"
   ]
  },
  {
   "cell_type": "code",
   "execution_count": 32,
   "metadata": {},
   "outputs": [
    {
     "name": "stdout",
     "output_type": "stream",
     "text": [
      "중복된 아티스트 이름이 없습니다.\n"
     ]
    }
   ],
   "source": [
    "# 다시 중복 여부 확인\n",
    "duplicate_artists_check = df_unique_artists[df_unique_artists.duplicated(subset=['date', 'Artist'], keep=False)]\n",
    "\n",
    "if len(duplicate_artists_check) == 0:\n",
    "    print(\"중복된 아티스트 이름이 없습니다.\")\n",
    "else:\n",
    "    print(\"중복된 아티스트 이름이 여전히 존재합니다.\")\n"
   ]
  },
  {
   "cell_type": "code",
   "execution_count": 33,
   "metadata": {},
   "outputs": [
    {
     "name": "stdout",
     "output_type": "stream",
     "text": [
      "파일이 'unique_artists_by_date.csv'로 저장되었습니다.\n"
     ]
    }
   ],
   "source": [
    "# 중복이 제거된 파일을 CSV로 저장\n",
    "file_path = 'unique_artists_by_date.csv'  # 원하는 파일 경로로 수정할 수 있습니다.\n",
    "df_unique_artists.to_csv(file_path, index=False)\n",
    "\n",
    "print(f\"파일이 '{file_path}'로 저장되었습니다.\")\n"
   ]
  },
  {
   "cell_type": "code",
   "execution_count": null,
   "metadata": {},
   "outputs": [],
   "source": []
  }
 ],
 "metadata": {
  "kernelspec": {
   "display_name": "Python 3",
   "language": "python",
   "name": "python3"
  },
  "language_info": {
   "codemirror_mode": {
    "name": "ipython",
    "version": 3
   },
   "file_extension": ".py",
   "mimetype": "text/x-python",
   "name": "python",
   "nbconvert_exporter": "python",
   "pygments_lexer": "ipython3",
   "version": "3.12.3"
  }
 },
 "nbformat": 4,
 "nbformat_minor": 2
}
