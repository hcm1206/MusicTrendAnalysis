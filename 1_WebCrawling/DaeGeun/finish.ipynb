{
 "cells": [
  {
   "cell_type": "markdown",
   "metadata": {},
   "source": [
    "이제 여기에서 나온결과값들 정리 해보기"
   ]
  },
  {
   "cell_type": "code",
   "execution_count": 1,
   "metadata": {},
   "outputs": [],
   "source": [
    "import pandas as pd\n",
    "import json"
   ]
  },
  {
   "cell_type": "code",
   "execution_count": 2,
   "metadata": {},
   "outputs": [
    {
     "name": "stdout",
     "output_type": "stream",
     "text": [
      "    artist response.startDate response.endDate response.timeUnit  \\\n",
      "0       악뮤         2023-09-18       2024-09-15              week   \n",
      "1  다이나믹 듀오         2023-09-18       2024-09-15              week   \n",
      "2      이영지         2023-09-18       2024-09-15              week   \n",
      "3      뉴진스         2023-09-18       2024-09-15              week   \n",
      "4       정국         2023-09-18       2024-09-15              week   \n",
      "\n",
      "                                    response.results  \n",
      "0  [{'title': '악뮤', 'keywords': ['악뮤'], 'data': [...  \n",
      "1  [{'title': '다이나믹 듀오', 'keywords': ['다이나믹 듀오'],...  \n",
      "2  [{'title': '이영지', 'keywords': ['이영지'], 'data':...  \n",
      "3  [{'title': '뉴진스', 'keywords': ['뉴진스'], 'data':...  \n",
      "4  [{'title': '정국', 'keywords': ['정국'], 'data': [...  \n"
     ]
    }
   ],
   "source": [
    "# CSV 파일 불러오기\n",
    "df = pd.read_csv('api_results5.csv')\n",
    "\n",
    "# 데이터 구조 확인\n",
    "print(df.head())"
   ]
  },
  {
   "cell_type": "code",
   "execution_count": 4,
   "metadata": {},
   "outputs": [
    {
     "name": "stdout",
     "output_type": "stream",
     "text": [
      "  Artist        Date      Ratio\n",
      "0     악뮤  2023-09-17  100.00000\n",
      "1     악뮤  2023-09-24   94.32015\n",
      "2     악뮤  2023-10-01   76.40452\n",
      "3     악뮤  2023-10-08   65.91209\n",
      "4     악뮤  2023-10-15   54.62590\n"
     ]
    }
   ],
   "source": [
    "\n",
    "# artist, 날짜, ratio 값을 저장할 리스트 초기화\n",
    "artist_list = []\n",
    "date_list = []\n",
    "ratio_list = []\n",
    "\n",
    "# 각 row에 대해 response.results에서 필요한 정보를 추출\n",
    "for index, row in df.iterrows():\n",
    "    artist = row['artist']  # 아티스트명 추출\n",
    "    \n",
    "    # JSON 데이터를 파싱하기 위해 문자열을 JSON 형식으로 변환\n",
    "    try:\n",
    "        # 'response.results'가 문자열로 되어 있으므로 이를 JSON으로 변환\n",
    "        results = json.loads(row['response.results'].replace(\"'\", '\"'))  \n",
    "    except json.JSONDecodeError as e:\n",
    "        print(f\"Error parsing JSON on row {index}: {e}\")\n",
    "        continue  # 오류가 있는 행은 건너뜀\n",
    "    \n",
    "    # 각 아티스트의 날짜별 데이터 추출\n",
    "    for result in results:\n",
    "        for data_point in result['data']:\n",
    "            artist_list.append(artist)  # 아티스트명 추가\n",
    "            # 날짜를 하루 전으로 이동\n",
    "            shifted_date = pd.to_datetime(data_point['period']) - pd.Timedelta(days=1)\n",
    "            date_list.append(shifted_date.strftime('%Y-%m-%d'))  # 날짜 추가\n",
    "            ratio_list.append(data_point['ratio'])  # ratio 추가\n",
    "\n",
    "# 새로운 데이터프레임 생성\n",
    "final_df = pd.DataFrame({\n",
    "    'Artist': artist_list,\n",
    "    'Date': date_list,\n",
    "    'Ratio': ratio_list\n",
    "})\n",
    "\n",
    "# 결과 확인\n",
    "print(final_df.head())"
   ]
  },
  {
   "cell_type": "code",
   "execution_count": 5,
   "metadata": {},
   "outputs": [
    {
     "name": "stdout",
     "output_type": "stream",
     "text": [
      "날짜가 하루씩 전으로 변경된 데이터를 CSV 파일로 저장 완료!\n"
     ]
    }
   ],
   "source": [
    "# 정리된 데이터를 새로운 CSV 파일로 저장\n",
    "final_df.to_csv('finish.csv', index=False)\n",
    "\n",
    "print(\"날짜가 하루씩 전으로 변경된 데이터를 CSV 파일로 저장 완료!\")"
   ]
  },
  {
   "cell_type": "markdown",
   "metadata": {},
   "source": [
    "지훈파일에 있는 뉴아티스트 컬럼에 있는 이름들 중에서 영어로 되어있는 아티스트 명들을 한국말로 바꾸는 과정"
   ]
  },
  {
   "cell_type": "code",
   "execution_count": 7,
   "metadata": {},
   "outputs": [],
   "source": [
    "import pandas as pd"
   ]
  },
  {
   "cell_type": "code",
   "execution_count": 8,
   "metadata": {},
   "outputs": [],
   "source": [
    "# CSV 파일 경로 설정\n",
    "file_path = 'circle_chart_data(20240927)_jihoon.csv'\n",
    "\n",
    "# CSV 파일 불러오기\n",
    "df = pd.read_csv(file_path)"
   ]
  },
  {
   "cell_type": "code",
   "execution_count": 11,
   "metadata": {},
   "outputs": [],
   "source": [
    "# 영어로 되어있는 아티스트 이름만 필터링 (정규 표현식 사용)\n",
    "english_artists = df[df['New_Artist'].str.contains(r'[a-zA-Z]', na=False)]\n",
    "\n",
    "# 중복을 제거한 영어 아티스트 이름 목록 추출\n",
    "unique_english_artists = english_artists['New_Artist'].drop_duplicates()"
   ]
  },
  {
   "cell_type": "code",
   "execution_count": 12,
   "metadata": {},
   "outputs": [
    {
     "name": "stdout",
     "output_type": "stream",
     "text": [
      "9                          IVE\n",
      "11                       STAYC\n",
      "14                 LE SSERAFIM\n",
      "16                        Lauv\n",
      "17                       aespa\n",
      "                 ...          \n",
      "9532     Lady Gaga, Bruno Mars\n",
      "9738             Sam Smith, 태연\n",
      "9902                      KIXO\n",
      "10060                    MEOVV\n",
      "10198            Kenshi Yonezu\n",
      "Name: New_Artist, Length: 126, dtype: object\n"
     ]
    }
   ],
   "source": [
    "# 결과 확인\n",
    "print(unique_english_artists)"
   ]
  },
  {
   "cell_type": "code",
   "execution_count": 13,
   "metadata": {},
   "outputs": [
    {
     "name": "stdout",
     "output_type": "stream",
     "text": [
      "영어로 된 아티스트 목록이 'New_Artist_english_artists.csv'에 저장되었습니다!\n"
     ]
    }
   ],
   "source": [
    "# 영어 아티스트 목록을 CSV 파일로 저장\n",
    "output_file_path = 'New_Artist_english_artists.csv'\n",
    "unique_english_artists.to_csv(output_file_path, index=False)\n",
    "\n",
    "print(f\"영어로 된 아티스트 목록이 '{output_file_path}'에 저장되었습니다!\")"
   ]
  },
  {
   "cell_type": "code",
   "execution_count": 14,
   "metadata": {},
   "outputs": [
    {
     "name": "stdout",
     "output_type": "stream",
     "text": [
      "   Unnamed: 0        date  Rank                             Title  \\\n",
      "0           0  2023-09-24     1                          Love Lee   \n",
      "1           1  2023-09-24     2                            후라이의 꿈   \n",
      "2           2  2023-09-24     3    Smoke (Prod. Dynamicduo, Padi)   \n",
      "3           3  2023-09-24     4                         Super Shy   \n",
      "4           4  2023-09-24     5  Seven (feat. Latto) - Clean Ver.   \n",
      "\n",
      "                       Artist                 Production  Weekly Views  \\\n",
      "0                   AKMU (악뮤)           YG Entertainment    11929992.0   \n",
      "1                   AKMU (악뮤)           YG Entertainment    11929992.0   \n",
      "2  다이나믹 듀오 (Dynamic Duo), 이영지  Stone Music Entertainment     4473459.0   \n",
      "3                    NewJeans                       ADOR    11655019.0   \n",
      "4                          정국               BIGHIT MUSIC     4173726.0   \n",
      "\n",
      "         Genre Runtime     New_Artist  ky_rank  \n",
      "0      가요 / 댄스   03:00             악뮤      NaN  \n",
      "1  가요 / 블루스/포크   03:25             악뮤      NaN  \n",
      "2    가요 / 랩/힙합   03:30  다이나믹 듀오 , 이영지      NaN  \n",
      "3      가요 / 댄스   02:35            뉴진스      NaN  \n",
      "4      가요 / 댄스   03:04             정국      NaN  \n",
      "매핑이 완료되었습니다!\n"
     ]
    }
   ],
   "source": [
    "import pandas as pd\n",
    "\n",
    "# 업로드한 파일 경로\n",
    "file_path = 'circle_chart_data(20240927)_jihoon.csv'\n",
    "\n",
    "# CSV 파일 불러오기\n",
    "artist_list_df = pd.read_csv(file_path)\n",
    "\n",
    "# 파일 내용 확인 (필요 시 상위 5개만 확인)\n",
    "print(artist_list_df.head())\n",
    "\n",
    "# 아티스트 이름 목록 가져오기\n",
    "artist_list = artist_list_df['New_Artist'].tolist()\n",
    "\n",
    "# 매핑 딕셔너리 작성\n",
    "artist_mapping = {\n",
    "    'IVE': '아이브',\n",
    "    'STAYC': '스테이씨',\n",
    "    'LE SSERAFIM': '르세라핌',\n",
    "    'Lauv': '라우브',\n",
    "    'aespa': '에스파',\n",
    "    'BIG Naughty': '빅나티',\n",
    "    'Paul Blanco': '폴 블란코',\n",
    "    'RIIZE': '라이즈',\n",
    "    'ITZY': '있지',\n",
    "    'DK': '디케이',\n",
    "    'Charlie Puth': '찰리 푸스',\n",
    "    'V': '뷔',\n",
    "    'H1-KEY': '하이키',\n",
    "    'NCT U': '엔시티 유',\n",
    "    'FIFTY FIFTY': '피프티 피프티',\n",
    "    'NCT DREAM': '엔시티 드림',\n",
    "    'Agust D': '어거스트 디',\n",
    "    '10cm': '10센치',\n",
    "    'Doja Cat': '도자 캣',\n",
    "    'BOYNEXTDOOR': '보이넥스트도어',\n",
    "    'YOASOBI': '요아소비',\n",
    "    'BLACKPINK': '블랙핑크',\n",
    "    'DAY6': '데이식스',\n",
    "    'imase': '이마세',\n",
    "    'Justin Bieber': '저스틴 비버',\n",
    "    'KISS OF LIFE': '키스오브라이프',\n",
    "    'Anne-Marie': '앤 마리',\n",
    "    'WSG워너비': 'wsg워너비',\n",
    "    'Yyeon': '이연',\n",
    "    'ZEROBASEONE': '제로베이스원',\n",
    "    'Sondia': '손디아',\n",
    "    'Sam Smith': '샘 스미스',\n",
    "    'Ed Sheeran': '에드 시런',\n",
    "    'NMIXX': '엔믹스',\n",
    "    'Yuuri': '유리',\n",
    "    'BE`O': '비오',\n",
    "    'NCT 127': '엔시티 127',\n",
    "    'dori': '도리',\n",
    "    'PLAVE': '플레이브',\n",
    "    'Stray Kids': '스트레이 키즈',\n",
    "    'Ariana Grande': '아리아나 그란데',\n",
    "    'Sia': '시아',\n",
    "    'EXO': '엑소',\n",
    "    'Mariah Carey': '머라이어 캐리',\n",
    "    'ENHYPEN': '엔하이픈',\n",
    "    'Kelly Clarkson': '켈리 클락슨',\n",
    "    'Alessia Cara': '알레시아 카라',\n",
    "    'DEAN': '딘',\n",
    "    'QWER': '큐더블유이알',\n",
    "    'ATEEZ': '에이티즈',\n",
    "    'BABYMONSTER': '베이비몬스터',\n",
    "    'Ava Max': '에이바 맥스',\n",
    "    'Straight No Chaser': '스트레이트 노 체이서',\n",
    "    'Wham!': '웸!',\n",
    "    'VIVIZ': '비비지',\n",
    "    'Michael Buble': '마이클 부블레',\n",
    "    'Jonas Brothers': '조나스 브라더스',\n",
    "    'ASH ISLAND': '애쉬 아일랜드',\n",
    "    'TWICE': '트와이스',\n",
    "    'Brenda Lee': '브렌다 리',\n",
    "    'John Legend': '존 레전드',\n",
    "    'Taylor Swift': '테일러 스위프트',\n",
    "    'PITTA': '강형호',\n",
    "    '2am': '투에이엠',\n",
    "    'SF9': '에스에프나인',\n",
    "    'YB': '윤도현 밴드',\n",
    "    'YENA': '최예나',\n",
    "    'KCM': '강창모',\n",
    "    'TWS': '투어스',\n",
    "    'J.Tajor': '제이 타조르',\n",
    "    'WOOZI': '우지',\n",
    "    'AB6IX': '에이비식스',\n",
    "    'I.M': '아이엠',\n",
    "    'Ayumu Imazu': '이마즈 아유무',\n",
    "    'Benson Boone': '벤슨 분',\n",
    "    'CRAVITY': '크래비티',\n",
    "    'Natalie Jane': '나탈리 제인',\n",
    "    'Peder Elias': '페더 엘리아스',\n",
    "    'Men`s Tear': '맨스티어',\n",
    "    'Alaina Castillo': '알레이나 카스티요',\n",
    "    'LUCY': '루시',\n",
    "    'Creepy Nuts': '크리피 너츠',\n",
    "    'MAX': '맥스',\n",
    "    'BIGBANG': '빅뱅',\n",
    "    'Shawn Mendes': '숀 멘덴스',\n",
    "    'RM': '알엠',\n",
    "    'Andy Grammer': '앤디 그래머',\n",
    "    'tripleS': '트리플에스',\n",
    "    'Sabrina Carpenter': '사브리나 카펜터',\n",
    "    'Billie Eilish': '빌리 아일리시',\n",
    "    'TREASURE': '트레저',\n",
    "    'HYNN': '박혜원',\n",
    "    'XIA': '시아준수',\n",
    "    'Tommy Richman': '토미 리치먼',\n",
    "    'Vaundy': '바운디',\n",
    "    'NCT WISH': '엔시티 위시',\n",
    "    'Seiko Matsuda': '마츠다 세이코',\n",
    "    'S.Papa': '에스파파',\n",
    "    'KIXO': '키조',\n",
    "    'MEOVV': '미야오',\n",
    "    'Kenshi Yonezu': '요네즈켄시'\n",
    "}\n",
    "\n",
    "# 매핑 적용\n",
    "df['New_Artist'] = df['New_Artist'].map(artist_mapping).fillna(df['New_Artist'])\n",
    "\n",
    "# 변환된 결과를 저장할 수도 있습니다\n",
    "df.to_csv('circle_chart_data_mapped(DG).csv', index=False)\n",
    "\n",
    "print(\"매핑이 완료되었습니다!\")\n"
   ]
  },
  {
   "cell_type": "code",
   "execution_count": null,
   "metadata": {},
   "outputs": [],
   "source": []
  }
 ],
 "metadata": {
  "kernelspec": {
   "display_name": "Python 3",
   "language": "python",
   "name": "python3"
  },
  "language_info": {
   "codemirror_mode": {
    "name": "ipython",
    "version": 3
   },
   "file_extension": ".py",
   "mimetype": "text/x-python",
   "name": "python",
   "nbconvert_exporter": "python",
   "pygments_lexer": "ipython3",
   "version": "3.12.3"
  }
 },
 "nbformat": 4,
 "nbformat_minor": 2
}
