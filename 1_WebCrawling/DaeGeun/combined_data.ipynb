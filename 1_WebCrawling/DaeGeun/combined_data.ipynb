{
 "cells": [
  {
   "cell_type": "code",
   "execution_count": 8,
   "metadata": {},
   "outputs": [
    {
     "name": "stdout",
     "output_type": "stream",
     "text": [
      "         date   Artist_x Artist_y\n",
      "0  2023-09-24  AKMU (악뮤)       악뮤\n",
      "1  2023-09-24  AKMU (악뮤)  다이나믹 듀오\n",
      "2  2023-09-24  AKMU (악뮤)      이영지\n",
      "3  2023-09-24  AKMU (악뮤)      뉴진스\n",
      "4  2023-09-24  AKMU (악뮤)       정국\n"
     ]
    }
   ],
   "source": [
    "import pandas as pd\n",
    "\n",
    "# CSV 파일 경로 설정\n",
    "cleaned_circle_chart_path = 'cleaned_circle_chart_data.csv'\n",
    "modified_artists_path = 'modified_artists_by_date.csv'\n",
    "\n",
    "# CSV 파일 불러오기\n",
    "cleaned_circle_df = pd.read_csv(cleaned_circle_chart_path)\n",
    "modified_artists_df = pd.read_csv(modified_artists_path)\n",
    "\n",
    "# 'date' 컬럼을 기준으로 병합 (left join)\n",
    "# 필요한 컬럼만 병합: 'date'와 'Artist'만 사용, 그리고 새로운 'New_Artist' 컬럼으로 추가\n",
    "merged_df = pd.merge(cleaned_circle_df, \n",
    "                     modified_artists_df[['date', 'Artist']], \n",
    "                     on='date', \n",
    "                     how='left')\n",
    "\n",
    "# 'Artist' 컬럼을 'New_Artist'로 이름 변경\n",
    "merged_df.rename(columns={'Artist': 'New_Artist'}, inplace=True)\n",
    "\n",
    "# 결과 확인\n",
    "print(merged_df.head())"
   ]
  },
  {
   "cell_type": "code",
   "execution_count": null,
   "metadata": {},
   "outputs": [],
   "source": []
  }
 ],
 "metadata": {
  "kernelspec": {
   "display_name": "Python 3",
   "language": "python",
   "name": "python3"
  },
  "language_info": {
   "codemirror_mode": {
    "name": "ipython",
    "version": 3
   },
   "file_extension": ".py",
   "mimetype": "text/x-python",
   "name": "python",
   "nbconvert_exporter": "python",
   "pygments_lexer": "ipython3",
   "version": "3.12.3"
  }
 },
 "nbformat": 4,
 "nbformat_minor": 2
}
