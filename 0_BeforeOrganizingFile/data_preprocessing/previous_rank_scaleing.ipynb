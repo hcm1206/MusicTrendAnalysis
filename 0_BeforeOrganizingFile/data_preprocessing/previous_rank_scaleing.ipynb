{
 "cells": [
  {
   "cell_type": "markdown",
   "metadata": {},
   "source": [
    "# 이전 주차 순위 정규화"
   ]
  },
  {
   "cell_type": "code",
   "execution_count": 1,
   "metadata": {},
   "outputs": [],
   "source": [
    "import pandas as pd"
   ]
  },
  {
   "cell_type": "markdown",
   "metadata": {},
   "source": [
    "## 데이터 로드\n",
    "- Previous_Rank 파생변수가 모두 자동/수동으로 추가된 csv 파일 로드"
   ]
  },
  {
   "cell_type": "code",
   "execution_count": 2,
   "metadata": {},
   "outputs": [],
   "source": [
    "scaled_data = pd.read_csv('circle_previous_rank_2.csv', index_col=0)"
   ]
  },
  {
   "cell_type": "markdown",
   "metadata": {},
   "source": [
    "## 스케일러 객체 생성 및 컬럼 데이터 정규화"
   ]
  },
  {
   "cell_type": "code",
   "execution_count": 3,
   "metadata": {},
   "outputs": [],
   "source": [
    "from sklearn.preprocessing import MinMaxScaler"
   ]
  },
  {
   "cell_type": "code",
   "execution_count": 4,
   "metadata": {},
   "outputs": [
    {
     "data": {
      "text/html": [
       "<div>\n",
       "<style scoped>\n",
       "    .dataframe tbody tr th:only-of-type {\n",
       "        vertical-align: middle;\n",
       "    }\n",
       "\n",
       "    .dataframe tbody tr th {\n",
       "        vertical-align: top;\n",
       "    }\n",
       "\n",
       "    .dataframe thead th {\n",
       "        text-align: right;\n",
       "    }\n",
       "</style>\n",
       "<table border=\"1\" class=\"dataframe\">\n",
       "  <thead>\n",
       "    <tr style=\"text-align: right;\">\n",
       "      <th></th>\n",
       "      <th>date</th>\n",
       "      <th>Rank</th>\n",
       "      <th>Title</th>\n",
       "      <th>Artist_x</th>\n",
       "      <th>Production</th>\n",
       "      <th>Weekly Views</th>\n",
       "      <th>Genre</th>\n",
       "      <th>Runtime</th>\n",
       "      <th>New_Artist</th>\n",
       "      <th>n_score</th>\n",
       "      <th>g_score</th>\n",
       "      <th>ky_chart_on</th>\n",
       "      <th>Ratio</th>\n",
       "      <th>Previous_Rank</th>\n",
       "      <th>New_Rank</th>\n",
       "    </tr>\n",
       "  </thead>\n",
       "  <tbody>\n",
       "    <tr>\n",
       "      <th>0</th>\n",
       "      <td>2023-09-24</td>\n",
       "      <td>1</td>\n",
       "      <td>Love Lee</td>\n",
       "      <td>AKMU (악뮤)</td>\n",
       "      <td>YG Entertainment</td>\n",
       "      <td>11929992.0</td>\n",
       "      <td>가요 / 댄스</td>\n",
       "      <td>3:00</td>\n",
       "      <td>악뮤</td>\n",
       "      <td>94.32015</td>\n",
       "      <td>100.0</td>\n",
       "      <td>False</td>\n",
       "      <td>94.32015</td>\n",
       "      <td>0.000</td>\n",
       "      <td>False</td>\n",
       "    </tr>\n",
       "    <tr>\n",
       "      <th>1</th>\n",
       "      <td>2023-09-24</td>\n",
       "      <td>2</td>\n",
       "      <td>후라이의 꿈</td>\n",
       "      <td>AKMU (악뮤)</td>\n",
       "      <td>YG Entertainment</td>\n",
       "      <td>11929992.0</td>\n",
       "      <td>가요 / 블루스/포크</td>\n",
       "      <td>3:25</td>\n",
       "      <td>악뮤</td>\n",
       "      <td>94.32015</td>\n",
       "      <td>100.0</td>\n",
       "      <td>False</td>\n",
       "      <td>94.32015</td>\n",
       "      <td>0.010</td>\n",
       "      <td>False</td>\n",
       "    </tr>\n",
       "    <tr>\n",
       "      <th>3</th>\n",
       "      <td>2023-09-24</td>\n",
       "      <td>4</td>\n",
       "      <td>Super Shy</td>\n",
       "      <td>NewJeans</td>\n",
       "      <td>ADOR</td>\n",
       "      <td>11655019.0</td>\n",
       "      <td>가요 / 댄스</td>\n",
       "      <td>2:35</td>\n",
       "      <td>뉴진스</td>\n",
       "      <td>10.55509</td>\n",
       "      <td>6.0</td>\n",
       "      <td>False</td>\n",
       "      <td>10.55509</td>\n",
       "      <td>0.015</td>\n",
       "      <td>False</td>\n",
       "    </tr>\n",
       "    <tr>\n",
       "      <th>4</th>\n",
       "      <td>2023-09-24</td>\n",
       "      <td>5</td>\n",
       "      <td>Seven (feat. Latto) - Clean Ver.</td>\n",
       "      <td>정국</td>\n",
       "      <td>BIGHIT MUSIC</td>\n",
       "      <td>4173726.0</td>\n",
       "      <td>가요 / 댄스</td>\n",
       "      <td>3:04</td>\n",
       "      <td>정국</td>\n",
       "      <td>61.50958</td>\n",
       "      <td>45.0</td>\n",
       "      <td>False</td>\n",
       "      <td>61.50958</td>\n",
       "      <td>0.025</td>\n",
       "      <td>False</td>\n",
       "    </tr>\n",
       "    <tr>\n",
       "      <th>5</th>\n",
       "      <td>2023-09-24</td>\n",
       "      <td>6</td>\n",
       "      <td>ETA</td>\n",
       "      <td>NewJeans</td>\n",
       "      <td>ADOR</td>\n",
       "      <td>11655019.0</td>\n",
       "      <td>가요 / 댄스</td>\n",
       "      <td>2:31</td>\n",
       "      <td>뉴진스</td>\n",
       "      <td>10.55509</td>\n",
       "      <td>6.0</td>\n",
       "      <td>False</td>\n",
       "      <td>10.55509</td>\n",
       "      <td>0.020</td>\n",
       "      <td>False</td>\n",
       "    </tr>\n",
       "  </tbody>\n",
       "</table>\n",
       "</div>"
      ],
      "text/plain": [
       "         date  Rank                             Title   Artist_x  \\\n",
       "0  2023-09-24     1                          Love Lee  AKMU (악뮤)   \n",
       "1  2023-09-24     2                            후라이의 꿈  AKMU (악뮤)   \n",
       "3  2023-09-24     4                         Super Shy   NewJeans   \n",
       "4  2023-09-24     5  Seven (feat. Latto) - Clean Ver.         정국   \n",
       "5  2023-09-24     6                               ETA   NewJeans   \n",
       "\n",
       "         Production  Weekly Views        Genre Runtime New_Artist   n_score  \\\n",
       "0  YG Entertainment    11929992.0      가요 / 댄스    3:00         악뮤  94.32015   \n",
       "1  YG Entertainment    11929992.0  가요 / 블루스/포크    3:25         악뮤  94.32015   \n",
       "3              ADOR    11655019.0      가요 / 댄스    2:35        뉴진스  10.55509   \n",
       "4      BIGHIT MUSIC     4173726.0      가요 / 댄스    3:04         정국  61.50958   \n",
       "5              ADOR    11655019.0      가요 / 댄스    2:31        뉴진스  10.55509   \n",
       "\n",
       "   g_score  ky_chart_on     Ratio  Previous_Rank  New_Rank  \n",
       "0    100.0        False  94.32015          0.000     False  \n",
       "1    100.0        False  94.32015          0.010     False  \n",
       "3      6.0        False  10.55509          0.015     False  \n",
       "4     45.0        False  61.50958          0.025     False  \n",
       "5      6.0        False  10.55509          0.020     False  "
      ]
     },
     "execution_count": 4,
     "metadata": {},
     "output_type": "execute_result"
    }
   ],
   "source": [
    "previous_rank_scaler = MinMaxScaler()\n",
    "scaled_data['Previous_Rank'] = previous_rank_scaler.fit_transform(scaled_data[['Previous_Rank']])\n",
    "scaled_data.head()"
   ]
  },
  {
   "cell_type": "markdown",
   "metadata": {},
   "source": [
    "## 정규화된 데이터프레임 저장"
   ]
  },
  {
   "cell_type": "code",
   "execution_count": 5,
   "metadata": {},
   "outputs": [],
   "source": [
    "scaled_data.to_csv('circle_previous_rank_scaled.csv')"
   ]
  },
  {
   "cell_type": "markdown",
   "metadata": {},
   "source": [
    "## 스케일러 객체 피클로 저장"
   ]
  },
  {
   "cell_type": "code",
   "execution_count": 6,
   "metadata": {},
   "outputs": [],
   "source": [
    "import pickle\n",
    "with open('previous_rank_scaler.pickle', 'wb') as f:\n",
    "    pickle.dump(previous_rank_scaler, f)"
   ]
  }
 ],
 "metadata": {
  "kernelspec": {
   "display_name": "venv",
   "language": "python",
   "name": "python3"
  },
  "language_info": {
   "codemirror_mode": {
    "name": "ipython",
    "version": 3
   },
   "file_extension": ".py",
   "mimetype": "text/x-python",
   "name": "python",
   "nbconvert_exporter": "python",
   "pygments_lexer": "ipython3",
   "version": "3.12.4"
  }
 },
 "nbformat": 4,
 "nbformat_minor": 2
}
