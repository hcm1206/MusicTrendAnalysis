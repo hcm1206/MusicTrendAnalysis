{
 "cells": [
  {
   "cell_type": "markdown",
   "metadata": {},
   "source": [
    "# 데이터 전처리 과정 1 - 결측치 처리"
   ]
  },
  {
   "cell_type": "markdown",
   "metadata": {},
   "source": [
    "> - 데이터를 본격적으로 분석하기 전 데이터 통계나 분포 등을 알아보기 쉽게 하기 위해서 결측치부터 처리하는 과정 진행"
   ]
  },
  {
   "cell_type": "code",
   "execution_count": 1,
   "metadata": {},
   "outputs": [],
   "source": [
    "import pandas as pd"
   ]
  },
  {
   "cell_type": "markdown",
   "metadata": {},
   "source": [
    "## 데이터 로드"
   ]
  },
  {
   "cell_type": "code",
   "execution_count": 2,
   "metadata": {},
   "outputs": [
    {
     "data": {
      "text/html": [
       "<div>\n",
       "<style scoped>\n",
       "    .dataframe tbody tr th:only-of-type {\n",
       "        vertical-align: middle;\n",
       "    }\n",
       "\n",
       "    .dataframe tbody tr th {\n",
       "        vertical-align: top;\n",
       "    }\n",
       "\n",
       "    .dataframe thead th {\n",
       "        text-align: right;\n",
       "    }\n",
       "</style>\n",
       "<table border=\"1\" class=\"dataframe\">\n",
       "  <thead>\n",
       "    <tr style=\"text-align: right;\">\n",
       "      <th></th>\n",
       "      <th>date</th>\n",
       "      <th>Rank</th>\n",
       "      <th>Title</th>\n",
       "      <th>Artist</th>\n",
       "      <th>Production</th>\n",
       "      <th>Weekly Views</th>\n",
       "      <th>Genre</th>\n",
       "      <th>Runtime</th>\n",
       "      <th>New_Artist</th>\n",
       "      <th>ky_rank</th>\n",
       "      <th>n_score</th>\n",
       "      <th>g_score</th>\n",
       "    </tr>\n",
       "  </thead>\n",
       "  <tbody>\n",
       "    <tr>\n",
       "      <th>0</th>\n",
       "      <td>2023-09-24</td>\n",
       "      <td>1</td>\n",
       "      <td>Love Lee</td>\n",
       "      <td>AKMU (악뮤)</td>\n",
       "      <td>YG Entertainment</td>\n",
       "      <td>11929992.0</td>\n",
       "      <td>가요 / 댄스</td>\n",
       "      <td>3:00</td>\n",
       "      <td>악뮤</td>\n",
       "      <td>NaN</td>\n",
       "      <td>94.32015</td>\n",
       "      <td>100.0</td>\n",
       "    </tr>\n",
       "    <tr>\n",
       "      <th>1</th>\n",
       "      <td>2023-09-24</td>\n",
       "      <td>2</td>\n",
       "      <td>후라이의 꿈</td>\n",
       "      <td>AKMU (악뮤)</td>\n",
       "      <td>YG Entertainment</td>\n",
       "      <td>11929992.0</td>\n",
       "      <td>가요 / 블루스/포크</td>\n",
       "      <td>3:25</td>\n",
       "      <td>악뮤</td>\n",
       "      <td>NaN</td>\n",
       "      <td>94.32015</td>\n",
       "      <td>100.0</td>\n",
       "    </tr>\n",
       "    <tr>\n",
       "      <th>2</th>\n",
       "      <td>2023-09-24</td>\n",
       "      <td>3</td>\n",
       "      <td>Smoke (Prod. Dynamicduo, Padi)</td>\n",
       "      <td>다이나믹 듀오 (Dynamic Duo), 이영지</td>\n",
       "      <td>Stone Music Entertainment</td>\n",
       "      <td>4473459.0</td>\n",
       "      <td>가요 / 랩/힙합</td>\n",
       "      <td>3:30</td>\n",
       "      <td>다이나믹 듀오 , 이영지</td>\n",
       "      <td>NaN</td>\n",
       "      <td>NaN</td>\n",
       "      <td>0</td>\n",
       "    </tr>\n",
       "    <tr>\n",
       "      <th>3</th>\n",
       "      <td>2023-09-24</td>\n",
       "      <td>4</td>\n",
       "      <td>Super Shy</td>\n",
       "      <td>NewJeans</td>\n",
       "      <td>ADOR</td>\n",
       "      <td>11655019.0</td>\n",
       "      <td>가요 / 댄스</td>\n",
       "      <td>2:35</td>\n",
       "      <td>뉴진스</td>\n",
       "      <td>NaN</td>\n",
       "      <td>10.55509</td>\n",
       "      <td>6.0</td>\n",
       "    </tr>\n",
       "    <tr>\n",
       "      <th>4</th>\n",
       "      <td>2023-09-24</td>\n",
       "      <td>5</td>\n",
       "      <td>Seven (feat. Latto) - Clean Ver.</td>\n",
       "      <td>정국</td>\n",
       "      <td>BIGHIT MUSIC</td>\n",
       "      <td>4173726.0</td>\n",
       "      <td>가요 / 댄스</td>\n",
       "      <td>3:04</td>\n",
       "      <td>정국</td>\n",
       "      <td>NaN</td>\n",
       "      <td>61.50958</td>\n",
       "      <td>45.0</td>\n",
       "    </tr>\n",
       "  </tbody>\n",
       "</table>\n",
       "</div>"
      ],
      "text/plain": [
       "         date  Rank                             Title  \\\n",
       "0  2023-09-24     1                          Love Lee   \n",
       "1  2023-09-24     2                            후라이의 꿈   \n",
       "2  2023-09-24     3    Smoke (Prod. Dynamicduo, Padi)   \n",
       "3  2023-09-24     4                         Super Shy   \n",
       "4  2023-09-24     5  Seven (feat. Latto) - Clean Ver.   \n",
       "\n",
       "                       Artist                 Production  Weekly Views  \\\n",
       "0                   AKMU (악뮤)           YG Entertainment    11929992.0   \n",
       "1                   AKMU (악뮤)           YG Entertainment    11929992.0   \n",
       "2  다이나믹 듀오 (Dynamic Duo), 이영지  Stone Music Entertainment     4473459.0   \n",
       "3                    NewJeans                       ADOR    11655019.0   \n",
       "4                          정국               BIGHIT MUSIC     4173726.0   \n",
       "\n",
       "         Genre Runtime     New_Artist  ky_rank   n_score g_score  \n",
       "0      가요 / 댄스    3:00             악뮤      NaN  94.32015   100.0  \n",
       "1  가요 / 블루스/포크    3:25             악뮤      NaN  94.32015   100.0  \n",
       "2    가요 / 랩/힙합    3:30  다이나믹 듀오 , 이영지      NaN       NaN       0  \n",
       "3      가요 / 댄스    2:35            뉴진스      NaN  10.55509     6.0  \n",
       "4      가요 / 댄스    3:04             정국      NaN  61.50958    45.0  "
      ]
     },
     "execution_count": 2,
     "metadata": {},
     "output_type": "execute_result"
    }
   ],
   "source": [
    "data = pd.read_csv('circle_chart.csv')\n",
    "data.head()"
   ]
  },
  {
   "cell_type": "markdown",
   "metadata": {},
   "source": [
    "## 결측치 파악"
   ]
  },
  {
   "cell_type": "code",
   "execution_count": 3,
   "metadata": {},
   "outputs": [
    {
     "data": {
      "text/plain": [
       "date                0\n",
       "Rank                0\n",
       "Title               0\n",
       "Artist              0\n",
       "Production          0\n",
       "Weekly Views     2671\n",
       "Genre               5\n",
       "Runtime             5\n",
       "New_Artist          0\n",
       "ky_rank         10224\n",
       "n_score           837\n",
       "g_score            56\n",
       "dtype: int64"
      ]
     },
     "execution_count": 3,
     "metadata": {},
     "output_type": "execute_result"
    }
   ],
   "source": [
    "data.isnull().sum()"
   ]
  },
  {
   "cell_type": "markdown",
   "metadata": {},
   "source": [
    "## 결측치 처리"
   ]
  },
  {
   "cell_type": "markdown",
   "metadata": {},
   "source": [
    "> #### Weekly Views(주간 유튜브 조회수) :   \n",
    "> - 해당 주에 곡에 대한 유튜브 영상이 없거나 누락되어 발생된 것으로 추정  \n",
    "> - 유튜브 영상이 없는 것으로 인식되었으므로 조회수를 그냥 0으로 일괄 적용"
   ]
  },
  {
   "cell_type": "code",
   "execution_count": 4,
   "metadata": {},
   "outputs": [
    {
     "data": {
      "text/plain": [
       "0"
      ]
     },
     "execution_count": 4,
     "metadata": {},
     "output_type": "execute_result"
    }
   ],
   "source": [
    "data['Weekly Views'] = data['Weekly Views'].fillna(0)\n",
    "data['Weekly Views'].isnull().sum()"
   ]
  },
  {
   "cell_type": "markdown",
   "metadata": {},
   "source": [
    "> #### Genre(장르), Runtime(곡 길이) :   \n",
    "> - 결측치가 5개 밖에 되지 않으므로 직접 확인"
   ]
  },
  {
   "cell_type": "code",
   "execution_count": 5,
   "metadata": {},
   "outputs": [
    {
     "data": {
      "text/html": [
       "<div>\n",
       "<style scoped>\n",
       "    .dataframe tbody tr th:only-of-type {\n",
       "        vertical-align: middle;\n",
       "    }\n",
       "\n",
       "    .dataframe tbody tr th {\n",
       "        vertical-align: top;\n",
       "    }\n",
       "\n",
       "    .dataframe thead th {\n",
       "        text-align: right;\n",
       "    }\n",
       "</style>\n",
       "<table border=\"1\" class=\"dataframe\">\n",
       "  <thead>\n",
       "    <tr style=\"text-align: right;\">\n",
       "      <th></th>\n",
       "      <th>date</th>\n",
       "      <th>Rank</th>\n",
       "      <th>Title</th>\n",
       "      <th>Artist</th>\n",
       "      <th>Production</th>\n",
       "      <th>Weekly Views</th>\n",
       "      <th>Genre</th>\n",
       "      <th>Runtime</th>\n",
       "      <th>New_Artist</th>\n",
       "      <th>ky_rank</th>\n",
       "      <th>n_score</th>\n",
       "      <th>g_score</th>\n",
       "    </tr>\n",
       "  </thead>\n",
       "  <tbody>\n",
       "    <tr>\n",
       "      <th>2675</th>\n",
       "      <td>2023-12-17</td>\n",
       "      <td>156</td>\n",
       "      <td>넌 쉽게 말했지만</td>\n",
       "      <td>싱어게인3 49호 가수</td>\n",
       "      <td>SLL, 뮤직팜</td>\n",
       "      <td>0.0</td>\n",
       "      <td>NaN</td>\n",
       "      <td>NaN</td>\n",
       "      <td>싱어게인3 49호 가수</td>\n",
       "      <td>NaN</td>\n",
       "      <td>26.65516</td>\n",
       "      <td>0</td>\n",
       "    </tr>\n",
       "    <tr>\n",
       "      <th>3130</th>\n",
       "      <td>2023-12-31</td>\n",
       "      <td>186</td>\n",
       "      <td>넌 쉽게 말했지만</td>\n",
       "      <td>싱어게인3 49호 가수</td>\n",
       "      <td>SLL, 뮤직팜</td>\n",
       "      <td>0.0</td>\n",
       "      <td>NaN</td>\n",
       "      <td>NaN</td>\n",
       "      <td>싱어게인3 49호 가수</td>\n",
       "      <td>NaN</td>\n",
       "      <td>4.24843</td>\n",
       "      <td>0</td>\n",
       "    </tr>\n",
       "    <tr>\n",
       "      <th>3296</th>\n",
       "      <td>2024-01-07</td>\n",
       "      <td>145</td>\n",
       "      <td>넌 쉽게 말했지만</td>\n",
       "      <td>싱어게인3 49호 가수</td>\n",
       "      <td>SLL, 뮤직팜</td>\n",
       "      <td>0.0</td>\n",
       "      <td>NaN</td>\n",
       "      <td>NaN</td>\n",
       "      <td>싱어게인3 49호 가수</td>\n",
       "      <td>NaN</td>\n",
       "      <td>26.61203</td>\n",
       "      <td>0</td>\n",
       "    </tr>\n",
       "    <tr>\n",
       "      <th>3503</th>\n",
       "      <td>2024-01-14</td>\n",
       "      <td>141</td>\n",
       "      <td>넌 쉽게 말했지만</td>\n",
       "      <td>싱어게인3 49호 가수</td>\n",
       "      <td>SLL, 뮤직팜</td>\n",
       "      <td>0.0</td>\n",
       "      <td>NaN</td>\n",
       "      <td>NaN</td>\n",
       "      <td>싱어게인3 49호 가수</td>\n",
       "      <td>NaN</td>\n",
       "      <td>5.00323</td>\n",
       "      <td>0</td>\n",
       "    </tr>\n",
       "    <tr>\n",
       "      <th>3744</th>\n",
       "      <td>2024-01-21</td>\n",
       "      <td>169</td>\n",
       "      <td>넌 쉽게 말했지만</td>\n",
       "      <td>싱어게인3 49호 가수</td>\n",
       "      <td>SLL, 뮤직팜</td>\n",
       "      <td>0.0</td>\n",
       "      <td>NaN</td>\n",
       "      <td>NaN</td>\n",
       "      <td>싱어게인3 49호 가수</td>\n",
       "      <td>NaN</td>\n",
       "      <td>NaN</td>\n",
       "      <td>0</td>\n",
       "    </tr>\n",
       "  </tbody>\n",
       "</table>\n",
       "</div>"
      ],
      "text/plain": [
       "            date  Rank      Title        Artist Production  Weekly Views  \\\n",
       "2675  2023-12-17   156  넌 쉽게 말했지만  싱어게인3 49호 가수   SLL, 뮤직팜           0.0   \n",
       "3130  2023-12-31   186  넌 쉽게 말했지만  싱어게인3 49호 가수   SLL, 뮤직팜           0.0   \n",
       "3296  2024-01-07   145  넌 쉽게 말했지만  싱어게인3 49호 가수   SLL, 뮤직팜           0.0   \n",
       "3503  2024-01-14   141  넌 쉽게 말했지만  싱어게인3 49호 가수   SLL, 뮤직팜           0.0   \n",
       "3744  2024-01-21   169  넌 쉽게 말했지만  싱어게인3 49호 가수   SLL, 뮤직팜           0.0   \n",
       "\n",
       "     Genre Runtime    New_Artist  ky_rank   n_score g_score  \n",
       "2675   NaN     NaN  싱어게인3 49호 가수      NaN  26.65516       0  \n",
       "3130   NaN     NaN  싱어게인3 49호 가수      NaN   4.24843       0  \n",
       "3296   NaN     NaN  싱어게인3 49호 가수      NaN  26.61203       0  \n",
       "3503   NaN     NaN  싱어게인3 49호 가수      NaN   5.00323       0  \n",
       "3744   NaN     NaN  싱어게인3 49호 가수      NaN       NaN       0  "
      ]
     },
     "execution_count": 5,
     "metadata": {},
     "output_type": "execute_result"
    }
   ],
   "source": [
    "data[data['Genre'].isnull()]"
   ]
  },
  {
   "cell_type": "markdown",
   "metadata": {},
   "source": [
    "> - 확인 결과 Genre와 Runtime 결측치가 존재하는 5개 행이 동일하며, 모두 같은 곡을 나타내고 있음이 확인됨  \n",
    "> - 지니 뮤직에서 해당 곡을 검색한 결과, Genre는 '가요 / R&B/소울'이고, Runtime은 '03:09'로 확인\n",
    "> - 해당 정보를 수동으로 채워넣음"
   ]
  },
  {
   "cell_type": "code",
   "execution_count": 6,
   "metadata": {},
   "outputs": [],
   "source": [
    "data['Genre'] = data['Genre'].fillna('가요 / R&B/소울')\n",
    "data['Runtime'] = data['Runtime'].fillna('03:09')"
   ]
  },
  {
   "cell_type": "code",
   "execution_count": 7,
   "metadata": {},
   "outputs": [
    {
     "data": {
      "text/plain": [
       "0"
      ]
     },
     "execution_count": 7,
     "metadata": {},
     "output_type": "execute_result"
    }
   ],
   "source": [
    "data['Genre'].isna().sum()"
   ]
  },
  {
   "cell_type": "code",
   "execution_count": 8,
   "metadata": {},
   "outputs": [
    {
     "data": {
      "text/plain": [
       "0"
      ]
     },
     "execution_count": 8,
     "metadata": {},
     "output_type": "execute_result"
    }
   ],
   "source": [
    "data['Runtime'].isna().sum()"
   ]
  },
  {
   "cell_type": "markdown",
   "metadata": {},
   "source": [
    "> - Genre, Runtime의 결측치 모두 정상적으로 제거됨"
   ]
  },
  {
   "cell_type": "markdown",
   "metadata": {},
   "source": [
    "> #### Artist 정보 추가 수정\n",
    "> - Genre, Runtime 결측치가 존재했던 행의 Artist가 '싱어게인3 49호 가수'라는 프로그램 닉네임으로 등록되어 있음"
   ]
  },
  {
   "cell_type": "code",
   "execution_count": 9,
   "metadata": {},
   "outputs": [
    {
     "data": {
      "text/html": [
       "<div>\n",
       "<style scoped>\n",
       "    .dataframe tbody tr th:only-of-type {\n",
       "        vertical-align: middle;\n",
       "    }\n",
       "\n",
       "    .dataframe tbody tr th {\n",
       "        vertical-align: top;\n",
       "    }\n",
       "\n",
       "    .dataframe thead th {\n",
       "        text-align: right;\n",
       "    }\n",
       "</style>\n",
       "<table border=\"1\" class=\"dataframe\">\n",
       "  <thead>\n",
       "    <tr style=\"text-align: right;\">\n",
       "      <th></th>\n",
       "      <th>date</th>\n",
       "      <th>Rank</th>\n",
       "      <th>Title</th>\n",
       "      <th>Artist</th>\n",
       "      <th>Production</th>\n",
       "      <th>Weekly Views</th>\n",
       "      <th>Genre</th>\n",
       "      <th>Runtime</th>\n",
       "      <th>New_Artist</th>\n",
       "      <th>ky_rank</th>\n",
       "      <th>n_score</th>\n",
       "      <th>g_score</th>\n",
       "    </tr>\n",
       "  </thead>\n",
       "  <tbody>\n",
       "    <tr>\n",
       "      <th>2675</th>\n",
       "      <td>2023-12-17</td>\n",
       "      <td>156</td>\n",
       "      <td>넌 쉽게 말했지만</td>\n",
       "      <td>싱어게인3 49호 가수</td>\n",
       "      <td>SLL, 뮤직팜</td>\n",
       "      <td>0.0</td>\n",
       "      <td>가요 / R&amp;B/소울</td>\n",
       "      <td>03:09</td>\n",
       "      <td>싱어게인3 49호 가수</td>\n",
       "      <td>NaN</td>\n",
       "      <td>26.65516</td>\n",
       "      <td>0</td>\n",
       "    </tr>\n",
       "    <tr>\n",
       "      <th>3130</th>\n",
       "      <td>2023-12-31</td>\n",
       "      <td>186</td>\n",
       "      <td>넌 쉽게 말했지만</td>\n",
       "      <td>싱어게인3 49호 가수</td>\n",
       "      <td>SLL, 뮤직팜</td>\n",
       "      <td>0.0</td>\n",
       "      <td>가요 / R&amp;B/소울</td>\n",
       "      <td>03:09</td>\n",
       "      <td>싱어게인3 49호 가수</td>\n",
       "      <td>NaN</td>\n",
       "      <td>4.24843</td>\n",
       "      <td>0</td>\n",
       "    </tr>\n",
       "    <tr>\n",
       "      <th>3296</th>\n",
       "      <td>2024-01-07</td>\n",
       "      <td>145</td>\n",
       "      <td>넌 쉽게 말했지만</td>\n",
       "      <td>싱어게인3 49호 가수</td>\n",
       "      <td>SLL, 뮤직팜</td>\n",
       "      <td>0.0</td>\n",
       "      <td>가요 / R&amp;B/소울</td>\n",
       "      <td>03:09</td>\n",
       "      <td>싱어게인3 49호 가수</td>\n",
       "      <td>NaN</td>\n",
       "      <td>26.61203</td>\n",
       "      <td>0</td>\n",
       "    </tr>\n",
       "    <tr>\n",
       "      <th>3503</th>\n",
       "      <td>2024-01-14</td>\n",
       "      <td>141</td>\n",
       "      <td>넌 쉽게 말했지만</td>\n",
       "      <td>싱어게인3 49호 가수</td>\n",
       "      <td>SLL, 뮤직팜</td>\n",
       "      <td>0.0</td>\n",
       "      <td>가요 / R&amp;B/소울</td>\n",
       "      <td>03:09</td>\n",
       "      <td>싱어게인3 49호 가수</td>\n",
       "      <td>NaN</td>\n",
       "      <td>5.00323</td>\n",
       "      <td>0</td>\n",
       "    </tr>\n",
       "    <tr>\n",
       "      <th>3744</th>\n",
       "      <td>2024-01-21</td>\n",
       "      <td>169</td>\n",
       "      <td>넌 쉽게 말했지만</td>\n",
       "      <td>싱어게인3 49호 가수</td>\n",
       "      <td>SLL, 뮤직팜</td>\n",
       "      <td>0.0</td>\n",
       "      <td>가요 / R&amp;B/소울</td>\n",
       "      <td>03:09</td>\n",
       "      <td>싱어게인3 49호 가수</td>\n",
       "      <td>NaN</td>\n",
       "      <td>NaN</td>\n",
       "      <td>0</td>\n",
       "    </tr>\n",
       "  </tbody>\n",
       "</table>\n",
       "</div>"
      ],
      "text/plain": [
       "            date  Rank      Title        Artist Production  Weekly Views  \\\n",
       "2675  2023-12-17   156  넌 쉽게 말했지만  싱어게인3 49호 가수   SLL, 뮤직팜           0.0   \n",
       "3130  2023-12-31   186  넌 쉽게 말했지만  싱어게인3 49호 가수   SLL, 뮤직팜           0.0   \n",
       "3296  2024-01-07   145  넌 쉽게 말했지만  싱어게인3 49호 가수   SLL, 뮤직팜           0.0   \n",
       "3503  2024-01-14   141  넌 쉽게 말했지만  싱어게인3 49호 가수   SLL, 뮤직팜           0.0   \n",
       "3744  2024-01-21   169  넌 쉽게 말했지만  싱어게인3 49호 가수   SLL, 뮤직팜           0.0   \n",
       "\n",
       "            Genre Runtime    New_Artist  ky_rank   n_score g_score  \n",
       "2675  가요 / R&B/소울   03:09  싱어게인3 49호 가수      NaN  26.65516       0  \n",
       "3130  가요 / R&B/소울   03:09  싱어게인3 49호 가수      NaN   4.24843       0  \n",
       "3296  가요 / R&B/소울   03:09  싱어게인3 49호 가수      NaN  26.61203       0  \n",
       "3503  가요 / R&B/소울   03:09  싱어게인3 49호 가수      NaN   5.00323       0  \n",
       "3744  가요 / R&B/소울   03:09  싱어게인3 49호 가수      NaN       NaN       0  "
      ]
     },
     "execution_count": 9,
     "metadata": {},
     "output_type": "execute_result"
    }
   ],
   "source": [
    "data[data['Artist'] == '싱어게인3 49호 가수']"
   ]
  },
  {
   "cell_type": "markdown",
   "metadata": {},
   "source": [
    "> - 확인 결과 해당 프로그램 출연자는 소수빈이라고 하는 가수로, 수집된 데이터에도 포함되어 있는 가수"
   ]
  },
  {
   "cell_type": "code",
   "execution_count": 10,
   "metadata": {},
   "outputs": [
    {
     "data": {
      "text/html": [
       "<div>\n",
       "<style scoped>\n",
       "    .dataframe tbody tr th:only-of-type {\n",
       "        vertical-align: middle;\n",
       "    }\n",
       "\n",
       "    .dataframe tbody tr th {\n",
       "        vertical-align: top;\n",
       "    }\n",
       "\n",
       "    .dataframe thead th {\n",
       "        text-align: right;\n",
       "    }\n",
       "</style>\n",
       "<table border=\"1\" class=\"dataframe\">\n",
       "  <thead>\n",
       "    <tr style=\"text-align: right;\">\n",
       "      <th></th>\n",
       "      <th>date</th>\n",
       "      <th>Rank</th>\n",
       "      <th>Title</th>\n",
       "      <th>Artist</th>\n",
       "      <th>Production</th>\n",
       "      <th>Weekly Views</th>\n",
       "      <th>Genre</th>\n",
       "      <th>Runtime</th>\n",
       "      <th>New_Artist</th>\n",
       "      <th>ky_rank</th>\n",
       "      <th>n_score</th>\n",
       "      <th>g_score</th>\n",
       "    </tr>\n",
       "  </thead>\n",
       "  <tbody>\n",
       "    <tr>\n",
       "      <th>3262</th>\n",
       "      <td>2024-01-07</td>\n",
       "      <td>114</td>\n",
       "      <td>머물러주오 (Prod. 안신애 &amp; Philtre)</td>\n",
       "      <td>소수빈</td>\n",
       "      <td>SLL, 뮤직팜</td>\n",
       "      <td>0.0</td>\n",
       "      <td>가요 / R&amp;B/소울</td>\n",
       "      <td>4:10</td>\n",
       "      <td>소수빈</td>\n",
       "      <td>NaN</td>\n",
       "      <td>52.51478</td>\n",
       "      <td>8.0</td>\n",
       "    </tr>\n",
       "    <tr>\n",
       "      <th>3343</th>\n",
       "      <td>2024-01-07</td>\n",
       "      <td>189</td>\n",
       "      <td>Try Again</td>\n",
       "      <td>소수빈</td>\n",
       "      <td>SLL, 뮤직팜</td>\n",
       "      <td>0.0</td>\n",
       "      <td>가요 / 발라드</td>\n",
       "      <td>3:32</td>\n",
       "      <td>소수빈</td>\n",
       "      <td>NaN</td>\n",
       "      <td>52.51478</td>\n",
       "      <td>8.0</td>\n",
       "    </tr>\n",
       "    <tr>\n",
       "      <th>3446</th>\n",
       "      <td>2024-01-14</td>\n",
       "      <td>90</td>\n",
       "      <td>머물러주오 (Prod. 안신애 &amp; Philtre)</td>\n",
       "      <td>소수빈</td>\n",
       "      <td>SLL, 뮤직팜</td>\n",
       "      <td>0.0</td>\n",
       "      <td>가요 / R&amp;B/소울</td>\n",
       "      <td>4:10</td>\n",
       "      <td>소수빈</td>\n",
       "      <td>NaN</td>\n",
       "      <td>100.00000</td>\n",
       "      <td>11.0</td>\n",
       "    </tr>\n",
       "    <tr>\n",
       "      <th>3545</th>\n",
       "      <td>2024-01-14</td>\n",
       "      <td>180</td>\n",
       "      <td>Try Again</td>\n",
       "      <td>소수빈</td>\n",
       "      <td>SLL, 뮤직팜</td>\n",
       "      <td>0.0</td>\n",
       "      <td>가요 / 발라드</td>\n",
       "      <td>3:32</td>\n",
       "      <td>소수빈</td>\n",
       "      <td>NaN</td>\n",
       "      <td>100.00000</td>\n",
       "      <td>11.0</td>\n",
       "    </tr>\n",
       "    <tr>\n",
       "      <th>3691</th>\n",
       "      <td>2024-01-21</td>\n",
       "      <td>120</td>\n",
       "      <td>머물러주오 (Prod. 안신애 &amp; Philtre)</td>\n",
       "      <td>소수빈</td>\n",
       "      <td>SLL, 뮤직팜</td>\n",
       "      <td>1586463.0</td>\n",
       "      <td>가요 / R&amp;B/소울</td>\n",
       "      <td>4:10</td>\n",
       "      <td>소수빈</td>\n",
       "      <td>NaN</td>\n",
       "      <td>28.34874</td>\n",
       "      <td>5.0</td>\n",
       "    </tr>\n",
       "    <tr>\n",
       "      <th>3717</th>\n",
       "      <td>2024-01-21</td>\n",
       "      <td>144</td>\n",
       "      <td>한번만 더</td>\n",
       "      <td>소수빈</td>\n",
       "      <td>SLL, 뮤직팜</td>\n",
       "      <td>1586463.0</td>\n",
       "      <td>가요 / R&amp;B/소울</td>\n",
       "      <td>4:17</td>\n",
       "      <td>소수빈</td>\n",
       "      <td>NaN</td>\n",
       "      <td>28.34874</td>\n",
       "      <td>5.0</td>\n",
       "    </tr>\n",
       "    <tr>\n",
       "      <th>3958</th>\n",
       "      <td>2024-01-28</td>\n",
       "      <td>171</td>\n",
       "      <td>머물러주오 (Prod. 안신애 &amp; Philtre)</td>\n",
       "      <td>소수빈</td>\n",
       "      <td>SLL, 뮤직팜</td>\n",
       "      <td>1637746.0</td>\n",
       "      <td>가요 / R&amp;B/소울</td>\n",
       "      <td>4:10</td>\n",
       "      <td>소수빈</td>\n",
       "      <td>NaN</td>\n",
       "      <td>14.80243</td>\n",
       "      <td>3.0</td>\n",
       "    </tr>\n",
       "    <tr>\n",
       "      <th>6193</th>\n",
       "      <td>2024-04-14</td>\n",
       "      <td>114</td>\n",
       "      <td>Last Chance</td>\n",
       "      <td>소수빈</td>\n",
       "      <td>소리날리</td>\n",
       "      <td>0.0</td>\n",
       "      <td>OST / 드라마</td>\n",
       "      <td>4:09</td>\n",
       "      <td>소수빈</td>\n",
       "      <td>NaN</td>\n",
       "      <td>7.96370</td>\n",
       "      <td>2.0</td>\n",
       "    </tr>\n",
       "    <tr>\n",
       "      <th>6403</th>\n",
       "      <td>2024-04-21</td>\n",
       "      <td>118</td>\n",
       "      <td>Last Chance</td>\n",
       "      <td>소수빈</td>\n",
       "      <td>소리날리</td>\n",
       "      <td>0.0</td>\n",
       "      <td>OST / 드라마</td>\n",
       "      <td>4:09</td>\n",
       "      <td>소수빈</td>\n",
       "      <td>NaN</td>\n",
       "      <td>7.32743</td>\n",
       "      <td>1.0</td>\n",
       "    </tr>\n",
       "    <tr>\n",
       "      <th>6625</th>\n",
       "      <td>2024-04-28</td>\n",
       "      <td>134</td>\n",
       "      <td>Last Chance</td>\n",
       "      <td>소수빈</td>\n",
       "      <td>소리날리</td>\n",
       "      <td>0.0</td>\n",
       "      <td>OST / 드라마</td>\n",
       "      <td>4:09</td>\n",
       "      <td>소수빈</td>\n",
       "      <td>NaN</td>\n",
       "      <td>5.33982</td>\n",
       "      <td>1.0</td>\n",
       "    </tr>\n",
       "    <tr>\n",
       "      <th>6880</th>\n",
       "      <td>2024-05-05</td>\n",
       "      <td>179</td>\n",
       "      <td>Last Chance</td>\n",
       "      <td>소수빈</td>\n",
       "      <td>소리날리</td>\n",
       "      <td>0.0</td>\n",
       "      <td>OST / 드라마</td>\n",
       "      <td>4:09</td>\n",
       "      <td>소수빈</td>\n",
       "      <td>NaN</td>\n",
       "      <td>5.13172</td>\n",
       "      <td>1.0</td>\n",
       "    </tr>\n",
       "  </tbody>\n",
       "</table>\n",
       "</div>"
      ],
      "text/plain": [
       "            date  Rank                        Title Artist Production  \\\n",
       "3262  2024-01-07   114  머물러주오 (Prod. 안신애 & Philtre)    소수빈   SLL, 뮤직팜   \n",
       "3343  2024-01-07   189                    Try Again    소수빈   SLL, 뮤직팜   \n",
       "3446  2024-01-14    90  머물러주오 (Prod. 안신애 & Philtre)    소수빈   SLL, 뮤직팜   \n",
       "3545  2024-01-14   180                    Try Again    소수빈   SLL, 뮤직팜   \n",
       "3691  2024-01-21   120  머물러주오 (Prod. 안신애 & Philtre)    소수빈   SLL, 뮤직팜   \n",
       "3717  2024-01-21   144                        한번만 더    소수빈   SLL, 뮤직팜   \n",
       "3958  2024-01-28   171  머물러주오 (Prod. 안신애 & Philtre)    소수빈   SLL, 뮤직팜   \n",
       "6193  2024-04-14   114                  Last Chance    소수빈       소리날리   \n",
       "6403  2024-04-21   118                  Last Chance    소수빈       소리날리   \n",
       "6625  2024-04-28   134                  Last Chance    소수빈       소리날리   \n",
       "6880  2024-05-05   179                  Last Chance    소수빈       소리날리   \n",
       "\n",
       "      Weekly Views        Genre Runtime New_Artist  ky_rank    n_score g_score  \n",
       "3262           0.0  가요 / R&B/소울    4:10        소수빈      NaN   52.51478     8.0  \n",
       "3343           0.0     가요 / 발라드    3:32        소수빈      NaN   52.51478     8.0  \n",
       "3446           0.0  가요 / R&B/소울    4:10        소수빈      NaN  100.00000    11.0  \n",
       "3545           0.0     가요 / 발라드    3:32        소수빈      NaN  100.00000    11.0  \n",
       "3691     1586463.0  가요 / R&B/소울    4:10        소수빈      NaN   28.34874     5.0  \n",
       "3717     1586463.0  가요 / R&B/소울    4:17        소수빈      NaN   28.34874     5.0  \n",
       "3958     1637746.0  가요 / R&B/소울    4:10        소수빈      NaN   14.80243     3.0  \n",
       "6193           0.0    OST / 드라마    4:09        소수빈      NaN    7.96370     2.0  \n",
       "6403           0.0    OST / 드라마    4:09        소수빈      NaN    7.32743     1.0  \n",
       "6625           0.0    OST / 드라마    4:09        소수빈      NaN    5.33982     1.0  \n",
       "6880           0.0    OST / 드라마    4:09        소수빈      NaN    5.13172     1.0  "
      ]
     },
     "execution_count": 10,
     "metadata": {},
     "output_type": "execute_result"
    }
   ],
   "source": [
    "data[data['Artist'] == '소수빈']"
   ]
  },
  {
   "cell_type": "markdown",
   "metadata": {},
   "source": [
    "> - 따라서 싱어게인 닉네임으로 저장된 Artist를 본명으로 바꿔주는 것이 좋을 것으로 판단되어 해당되는 Artist 컬럼 정보를 변경"
   ]
  },
  {
   "cell_type": "code",
   "execution_count": 11,
   "metadata": {},
   "outputs": [],
   "source": [
    "data['Artist'] = data['Artist'].replace('싱어게인3 49호 가수', '소수빈')"
   ]
  },
  {
   "cell_type": "markdown",
   "metadata": {},
   "source": [
    "> - 아래 코드를 주석 해제 후 실행해보면 Artist 칼럼에서 '싱어게인3 49호 가수'라는 값이 모두 없어져 KeyError가 출력되는 것을 확인 가능"
   ]
  },
  {
   "cell_type": "code",
   "execution_count": 12,
   "metadata": {},
   "outputs": [],
   "source": [
    "# data[data['Artist'] == data['싱어게인3 49호 가수']]"
   ]
  },
  {
   "cell_type": "markdown",
   "metadata": {},
   "source": [
    "> - 아래 코드를 실행해보면 Artist가 '싱어게인3 49호 가수'로 등록되어 있던 곡 컬럼들의 Artist가 '소수빈'으로 잘 변경된 것을 확인"
   ]
  },
  {
   "cell_type": "code",
   "execution_count": 13,
   "metadata": {},
   "outputs": [
    {
     "data": {
      "text/html": [
       "<div>\n",
       "<style scoped>\n",
       "    .dataframe tbody tr th:only-of-type {\n",
       "        vertical-align: middle;\n",
       "    }\n",
       "\n",
       "    .dataframe tbody tr th {\n",
       "        vertical-align: top;\n",
       "    }\n",
       "\n",
       "    .dataframe thead th {\n",
       "        text-align: right;\n",
       "    }\n",
       "</style>\n",
       "<table border=\"1\" class=\"dataframe\">\n",
       "  <thead>\n",
       "    <tr style=\"text-align: right;\">\n",
       "      <th></th>\n",
       "      <th>date</th>\n",
       "      <th>Rank</th>\n",
       "      <th>Title</th>\n",
       "      <th>Artist</th>\n",
       "      <th>Production</th>\n",
       "      <th>Weekly Views</th>\n",
       "      <th>Genre</th>\n",
       "      <th>Runtime</th>\n",
       "      <th>New_Artist</th>\n",
       "      <th>ky_rank</th>\n",
       "      <th>n_score</th>\n",
       "      <th>g_score</th>\n",
       "    </tr>\n",
       "  </thead>\n",
       "  <tbody>\n",
       "    <tr>\n",
       "      <th>2675</th>\n",
       "      <td>2023-12-17</td>\n",
       "      <td>156</td>\n",
       "      <td>넌 쉽게 말했지만</td>\n",
       "      <td>소수빈</td>\n",
       "      <td>SLL, 뮤직팜</td>\n",
       "      <td>0.0</td>\n",
       "      <td>가요 / R&amp;B/소울</td>\n",
       "      <td>03:09</td>\n",
       "      <td>싱어게인3 49호 가수</td>\n",
       "      <td>NaN</td>\n",
       "      <td>26.65516</td>\n",
       "      <td>0</td>\n",
       "    </tr>\n",
       "    <tr>\n",
       "      <th>3130</th>\n",
       "      <td>2023-12-31</td>\n",
       "      <td>186</td>\n",
       "      <td>넌 쉽게 말했지만</td>\n",
       "      <td>소수빈</td>\n",
       "      <td>SLL, 뮤직팜</td>\n",
       "      <td>0.0</td>\n",
       "      <td>가요 / R&amp;B/소울</td>\n",
       "      <td>03:09</td>\n",
       "      <td>싱어게인3 49호 가수</td>\n",
       "      <td>NaN</td>\n",
       "      <td>4.24843</td>\n",
       "      <td>0</td>\n",
       "    </tr>\n",
       "    <tr>\n",
       "      <th>3262</th>\n",
       "      <td>2024-01-07</td>\n",
       "      <td>114</td>\n",
       "      <td>머물러주오 (Prod. 안신애 &amp; Philtre)</td>\n",
       "      <td>소수빈</td>\n",
       "      <td>SLL, 뮤직팜</td>\n",
       "      <td>0.0</td>\n",
       "      <td>가요 / R&amp;B/소울</td>\n",
       "      <td>4:10</td>\n",
       "      <td>소수빈</td>\n",
       "      <td>NaN</td>\n",
       "      <td>52.51478</td>\n",
       "      <td>8.0</td>\n",
       "    </tr>\n",
       "    <tr>\n",
       "      <th>3296</th>\n",
       "      <td>2024-01-07</td>\n",
       "      <td>145</td>\n",
       "      <td>넌 쉽게 말했지만</td>\n",
       "      <td>소수빈</td>\n",
       "      <td>SLL, 뮤직팜</td>\n",
       "      <td>0.0</td>\n",
       "      <td>가요 / R&amp;B/소울</td>\n",
       "      <td>03:09</td>\n",
       "      <td>싱어게인3 49호 가수</td>\n",
       "      <td>NaN</td>\n",
       "      <td>26.61203</td>\n",
       "      <td>0</td>\n",
       "    </tr>\n",
       "    <tr>\n",
       "      <th>3343</th>\n",
       "      <td>2024-01-07</td>\n",
       "      <td>189</td>\n",
       "      <td>Try Again</td>\n",
       "      <td>소수빈</td>\n",
       "      <td>SLL, 뮤직팜</td>\n",
       "      <td>0.0</td>\n",
       "      <td>가요 / 발라드</td>\n",
       "      <td>3:32</td>\n",
       "      <td>소수빈</td>\n",
       "      <td>NaN</td>\n",
       "      <td>52.51478</td>\n",
       "      <td>8.0</td>\n",
       "    </tr>\n",
       "    <tr>\n",
       "      <th>3446</th>\n",
       "      <td>2024-01-14</td>\n",
       "      <td>90</td>\n",
       "      <td>머물러주오 (Prod. 안신애 &amp; Philtre)</td>\n",
       "      <td>소수빈</td>\n",
       "      <td>SLL, 뮤직팜</td>\n",
       "      <td>0.0</td>\n",
       "      <td>가요 / R&amp;B/소울</td>\n",
       "      <td>4:10</td>\n",
       "      <td>소수빈</td>\n",
       "      <td>NaN</td>\n",
       "      <td>100.00000</td>\n",
       "      <td>11.0</td>\n",
       "    </tr>\n",
       "    <tr>\n",
       "      <th>3503</th>\n",
       "      <td>2024-01-14</td>\n",
       "      <td>141</td>\n",
       "      <td>넌 쉽게 말했지만</td>\n",
       "      <td>소수빈</td>\n",
       "      <td>SLL, 뮤직팜</td>\n",
       "      <td>0.0</td>\n",
       "      <td>가요 / R&amp;B/소울</td>\n",
       "      <td>03:09</td>\n",
       "      <td>싱어게인3 49호 가수</td>\n",
       "      <td>NaN</td>\n",
       "      <td>5.00323</td>\n",
       "      <td>0</td>\n",
       "    </tr>\n",
       "    <tr>\n",
       "      <th>3545</th>\n",
       "      <td>2024-01-14</td>\n",
       "      <td>180</td>\n",
       "      <td>Try Again</td>\n",
       "      <td>소수빈</td>\n",
       "      <td>SLL, 뮤직팜</td>\n",
       "      <td>0.0</td>\n",
       "      <td>가요 / 발라드</td>\n",
       "      <td>3:32</td>\n",
       "      <td>소수빈</td>\n",
       "      <td>NaN</td>\n",
       "      <td>100.00000</td>\n",
       "      <td>11.0</td>\n",
       "    </tr>\n",
       "    <tr>\n",
       "      <th>3691</th>\n",
       "      <td>2024-01-21</td>\n",
       "      <td>120</td>\n",
       "      <td>머물러주오 (Prod. 안신애 &amp; Philtre)</td>\n",
       "      <td>소수빈</td>\n",
       "      <td>SLL, 뮤직팜</td>\n",
       "      <td>1586463.0</td>\n",
       "      <td>가요 / R&amp;B/소울</td>\n",
       "      <td>4:10</td>\n",
       "      <td>소수빈</td>\n",
       "      <td>NaN</td>\n",
       "      <td>28.34874</td>\n",
       "      <td>5.0</td>\n",
       "    </tr>\n",
       "    <tr>\n",
       "      <th>3717</th>\n",
       "      <td>2024-01-21</td>\n",
       "      <td>144</td>\n",
       "      <td>한번만 더</td>\n",
       "      <td>소수빈</td>\n",
       "      <td>SLL, 뮤직팜</td>\n",
       "      <td>1586463.0</td>\n",
       "      <td>가요 / R&amp;B/소울</td>\n",
       "      <td>4:17</td>\n",
       "      <td>소수빈</td>\n",
       "      <td>NaN</td>\n",
       "      <td>28.34874</td>\n",
       "      <td>5.0</td>\n",
       "    </tr>\n",
       "    <tr>\n",
       "      <th>3744</th>\n",
       "      <td>2024-01-21</td>\n",
       "      <td>169</td>\n",
       "      <td>넌 쉽게 말했지만</td>\n",
       "      <td>소수빈</td>\n",
       "      <td>SLL, 뮤직팜</td>\n",
       "      <td>0.0</td>\n",
       "      <td>가요 / R&amp;B/소울</td>\n",
       "      <td>03:09</td>\n",
       "      <td>싱어게인3 49호 가수</td>\n",
       "      <td>NaN</td>\n",
       "      <td>NaN</td>\n",
       "      <td>0</td>\n",
       "    </tr>\n",
       "    <tr>\n",
       "      <th>3958</th>\n",
       "      <td>2024-01-28</td>\n",
       "      <td>171</td>\n",
       "      <td>머물러주오 (Prod. 안신애 &amp; Philtre)</td>\n",
       "      <td>소수빈</td>\n",
       "      <td>SLL, 뮤직팜</td>\n",
       "      <td>1637746.0</td>\n",
       "      <td>가요 / R&amp;B/소울</td>\n",
       "      <td>4:10</td>\n",
       "      <td>소수빈</td>\n",
       "      <td>NaN</td>\n",
       "      <td>14.80243</td>\n",
       "      <td>3.0</td>\n",
       "    </tr>\n",
       "    <tr>\n",
       "      <th>6193</th>\n",
       "      <td>2024-04-14</td>\n",
       "      <td>114</td>\n",
       "      <td>Last Chance</td>\n",
       "      <td>소수빈</td>\n",
       "      <td>소리날리</td>\n",
       "      <td>0.0</td>\n",
       "      <td>OST / 드라마</td>\n",
       "      <td>4:09</td>\n",
       "      <td>소수빈</td>\n",
       "      <td>NaN</td>\n",
       "      <td>7.96370</td>\n",
       "      <td>2.0</td>\n",
       "    </tr>\n",
       "    <tr>\n",
       "      <th>6403</th>\n",
       "      <td>2024-04-21</td>\n",
       "      <td>118</td>\n",
       "      <td>Last Chance</td>\n",
       "      <td>소수빈</td>\n",
       "      <td>소리날리</td>\n",
       "      <td>0.0</td>\n",
       "      <td>OST / 드라마</td>\n",
       "      <td>4:09</td>\n",
       "      <td>소수빈</td>\n",
       "      <td>NaN</td>\n",
       "      <td>7.32743</td>\n",
       "      <td>1.0</td>\n",
       "    </tr>\n",
       "    <tr>\n",
       "      <th>6625</th>\n",
       "      <td>2024-04-28</td>\n",
       "      <td>134</td>\n",
       "      <td>Last Chance</td>\n",
       "      <td>소수빈</td>\n",
       "      <td>소리날리</td>\n",
       "      <td>0.0</td>\n",
       "      <td>OST / 드라마</td>\n",
       "      <td>4:09</td>\n",
       "      <td>소수빈</td>\n",
       "      <td>NaN</td>\n",
       "      <td>5.33982</td>\n",
       "      <td>1.0</td>\n",
       "    </tr>\n",
       "    <tr>\n",
       "      <th>6880</th>\n",
       "      <td>2024-05-05</td>\n",
       "      <td>179</td>\n",
       "      <td>Last Chance</td>\n",
       "      <td>소수빈</td>\n",
       "      <td>소리날리</td>\n",
       "      <td>0.0</td>\n",
       "      <td>OST / 드라마</td>\n",
       "      <td>4:09</td>\n",
       "      <td>소수빈</td>\n",
       "      <td>NaN</td>\n",
       "      <td>5.13172</td>\n",
       "      <td>1.0</td>\n",
       "    </tr>\n",
       "  </tbody>\n",
       "</table>\n",
       "</div>"
      ],
      "text/plain": [
       "            date  Rank                        Title Artist Production  \\\n",
       "2675  2023-12-17   156                    넌 쉽게 말했지만    소수빈   SLL, 뮤직팜   \n",
       "3130  2023-12-31   186                    넌 쉽게 말했지만    소수빈   SLL, 뮤직팜   \n",
       "3262  2024-01-07   114  머물러주오 (Prod. 안신애 & Philtre)    소수빈   SLL, 뮤직팜   \n",
       "3296  2024-01-07   145                    넌 쉽게 말했지만    소수빈   SLL, 뮤직팜   \n",
       "3343  2024-01-07   189                    Try Again    소수빈   SLL, 뮤직팜   \n",
       "3446  2024-01-14    90  머물러주오 (Prod. 안신애 & Philtre)    소수빈   SLL, 뮤직팜   \n",
       "3503  2024-01-14   141                    넌 쉽게 말했지만    소수빈   SLL, 뮤직팜   \n",
       "3545  2024-01-14   180                    Try Again    소수빈   SLL, 뮤직팜   \n",
       "3691  2024-01-21   120  머물러주오 (Prod. 안신애 & Philtre)    소수빈   SLL, 뮤직팜   \n",
       "3717  2024-01-21   144                        한번만 더    소수빈   SLL, 뮤직팜   \n",
       "3744  2024-01-21   169                    넌 쉽게 말했지만    소수빈   SLL, 뮤직팜   \n",
       "3958  2024-01-28   171  머물러주오 (Prod. 안신애 & Philtre)    소수빈   SLL, 뮤직팜   \n",
       "6193  2024-04-14   114                  Last Chance    소수빈       소리날리   \n",
       "6403  2024-04-21   118                  Last Chance    소수빈       소리날리   \n",
       "6625  2024-04-28   134                  Last Chance    소수빈       소리날리   \n",
       "6880  2024-05-05   179                  Last Chance    소수빈       소리날리   \n",
       "\n",
       "      Weekly Views        Genre Runtime    New_Artist  ky_rank    n_score  \\\n",
       "2675           0.0  가요 / R&B/소울   03:09  싱어게인3 49호 가수      NaN   26.65516   \n",
       "3130           0.0  가요 / R&B/소울   03:09  싱어게인3 49호 가수      NaN    4.24843   \n",
       "3262           0.0  가요 / R&B/소울    4:10           소수빈      NaN   52.51478   \n",
       "3296           0.0  가요 / R&B/소울   03:09  싱어게인3 49호 가수      NaN   26.61203   \n",
       "3343           0.0     가요 / 발라드    3:32           소수빈      NaN   52.51478   \n",
       "3446           0.0  가요 / R&B/소울    4:10           소수빈      NaN  100.00000   \n",
       "3503           0.0  가요 / R&B/소울   03:09  싱어게인3 49호 가수      NaN    5.00323   \n",
       "3545           0.0     가요 / 발라드    3:32           소수빈      NaN  100.00000   \n",
       "3691     1586463.0  가요 / R&B/소울    4:10           소수빈      NaN   28.34874   \n",
       "3717     1586463.0  가요 / R&B/소울    4:17           소수빈      NaN   28.34874   \n",
       "3744           0.0  가요 / R&B/소울   03:09  싱어게인3 49호 가수      NaN        NaN   \n",
       "3958     1637746.0  가요 / R&B/소울    4:10           소수빈      NaN   14.80243   \n",
       "6193           0.0    OST / 드라마    4:09           소수빈      NaN    7.96370   \n",
       "6403           0.0    OST / 드라마    4:09           소수빈      NaN    7.32743   \n",
       "6625           0.0    OST / 드라마    4:09           소수빈      NaN    5.33982   \n",
       "6880           0.0    OST / 드라마    4:09           소수빈      NaN    5.13172   \n",
       "\n",
       "     g_score  \n",
       "2675       0  \n",
       "3130       0  \n",
       "3262     8.0  \n",
       "3296       0  \n",
       "3343     8.0  \n",
       "3446    11.0  \n",
       "3503       0  \n",
       "3545    11.0  \n",
       "3691     5.0  \n",
       "3717     5.0  \n",
       "3744       0  \n",
       "3958     3.0  \n",
       "6193     2.0  \n",
       "6403     1.0  \n",
       "6625     1.0  \n",
       "6880     1.0  "
      ]
     },
     "execution_count": 13,
     "metadata": {},
     "output_type": "execute_result"
    }
   ],
   "source": [
    "data[data['Artist'] == '소수빈']"
   ]
  },
  {
   "cell_type": "markdown",
   "metadata": {},
   "source": [
    "> #### ky_rank(노래방 순위) :   \n",
    "> - 노래방 순위는 결측치 비율이 매우 높음"
   ]
  },
  {
   "cell_type": "code",
   "execution_count": 14,
   "metadata": {},
   "outputs": [
    {
     "name": "stdout",
     "output_type": "stream",
     "text": [
      "전체 데이터 컬럼 수 : 10682\n",
      "노래방 차트 결측된 컬럼 수 :  10224\n"
     ]
    }
   ],
   "source": [
    "print(\"전체 데이터 컬럼 수 :\", len(data))\n",
    "print(\"노래방 차트 결측된 컬럼 수 : \", data['ky_rank'].isnull().sum())"
   ]
  },
  {
   "cell_type": "markdown",
   "metadata": {},
   "source": [
    "> - 10682개의 데이터 중 10224개의 데이터가 누락(차트 순위 100위권 밖)되어 있어 해당 정보를 정상적으로 사용하기 어려워보임\n",
    "> - 그러나 노래방 차트에는 최근 발매된 인기있는 신곡이 올라오는 경우도 많아서 사용하기에 아예 부적합한 정보는 아님\n",
    "> - 따라서 결측치가 포함된 노래방 순위(연속형 데이터) 컬럼 대신,  \n",
    "> 노래방 차트에 포함되었는지의 여부만 판단하는 이진 분류 형식(범주형 데이터) 컬럼으로 변경하는 것이 좋을 것으로 추정\n",
    "> - 즉, 노래방 차트 순위가 있으면 True, 없으면 False가 저장되는 파생변수를 별도로 생성"
   ]
  },
  {
   "cell_type": "code",
   "execution_count": 15,
   "metadata": {},
   "outputs": [
    {
     "data": {
      "text/plain": [
       "ky_chart_on\n",
       "False    10224\n",
       "True       458\n",
       "Name: count, dtype: int64"
      ]
     },
     "execution_count": 15,
     "metadata": {},
     "output_type": "execute_result"
    }
   ],
   "source": [
    "data['ky_chart_on'] = data['ky_rank'].notnull()\n",
    "data['ky_chart_on'].value_counts()"
   ]
  },
  {
   "cell_type": "markdown",
   "metadata": {},
   "source": [
    "> - 노래방 차트 순위가 결측된 행 9799개는 False로, 차트 순위가 존재하는 나머지 행 401개는 True로 저장됨"
   ]
  },
  {
   "cell_type": "code",
   "execution_count": 16,
   "metadata": {},
   "outputs": [
    {
     "data": {
      "text/html": [
       "<div>\n",
       "<style scoped>\n",
       "    .dataframe tbody tr th:only-of-type {\n",
       "        vertical-align: middle;\n",
       "    }\n",
       "\n",
       "    .dataframe tbody tr th {\n",
       "        vertical-align: top;\n",
       "    }\n",
       "\n",
       "    .dataframe thead th {\n",
       "        text-align: right;\n",
       "    }\n",
       "</style>\n",
       "<table border=\"1\" class=\"dataframe\">\n",
       "  <thead>\n",
       "    <tr style=\"text-align: right;\">\n",
       "      <th></th>\n",
       "      <th>date</th>\n",
       "      <th>Rank</th>\n",
       "      <th>Title</th>\n",
       "      <th>Artist</th>\n",
       "      <th>Production</th>\n",
       "      <th>Weekly Views</th>\n",
       "      <th>Genre</th>\n",
       "      <th>Runtime</th>\n",
       "      <th>New_Artist</th>\n",
       "      <th>n_score</th>\n",
       "      <th>g_score</th>\n",
       "      <th>ky_chart_on</th>\n",
       "    </tr>\n",
       "  </thead>\n",
       "  <tbody>\n",
       "    <tr>\n",
       "      <th>0</th>\n",
       "      <td>2023-09-24</td>\n",
       "      <td>1</td>\n",
       "      <td>Love Lee</td>\n",
       "      <td>AKMU (악뮤)</td>\n",
       "      <td>YG Entertainment</td>\n",
       "      <td>11929992.0</td>\n",
       "      <td>가요 / 댄스</td>\n",
       "      <td>3:00</td>\n",
       "      <td>악뮤</td>\n",
       "      <td>94.32015</td>\n",
       "      <td>100.0</td>\n",
       "      <td>False</td>\n",
       "    </tr>\n",
       "    <tr>\n",
       "      <th>1</th>\n",
       "      <td>2023-09-24</td>\n",
       "      <td>2</td>\n",
       "      <td>후라이의 꿈</td>\n",
       "      <td>AKMU (악뮤)</td>\n",
       "      <td>YG Entertainment</td>\n",
       "      <td>11929992.0</td>\n",
       "      <td>가요 / 블루스/포크</td>\n",
       "      <td>3:25</td>\n",
       "      <td>악뮤</td>\n",
       "      <td>94.32015</td>\n",
       "      <td>100.0</td>\n",
       "      <td>False</td>\n",
       "    </tr>\n",
       "    <tr>\n",
       "      <th>2</th>\n",
       "      <td>2023-09-24</td>\n",
       "      <td>3</td>\n",
       "      <td>Smoke (Prod. Dynamicduo, Padi)</td>\n",
       "      <td>다이나믹 듀오 (Dynamic Duo), 이영지</td>\n",
       "      <td>Stone Music Entertainment</td>\n",
       "      <td>4473459.0</td>\n",
       "      <td>가요 / 랩/힙합</td>\n",
       "      <td>3:30</td>\n",
       "      <td>다이나믹 듀오 , 이영지</td>\n",
       "      <td>NaN</td>\n",
       "      <td>0</td>\n",
       "      <td>False</td>\n",
       "    </tr>\n",
       "    <tr>\n",
       "      <th>3</th>\n",
       "      <td>2023-09-24</td>\n",
       "      <td>4</td>\n",
       "      <td>Super Shy</td>\n",
       "      <td>NewJeans</td>\n",
       "      <td>ADOR</td>\n",
       "      <td>11655019.0</td>\n",
       "      <td>가요 / 댄스</td>\n",
       "      <td>2:35</td>\n",
       "      <td>뉴진스</td>\n",
       "      <td>10.55509</td>\n",
       "      <td>6.0</td>\n",
       "      <td>False</td>\n",
       "    </tr>\n",
       "    <tr>\n",
       "      <th>4</th>\n",
       "      <td>2023-09-24</td>\n",
       "      <td>5</td>\n",
       "      <td>Seven (feat. Latto) - Clean Ver.</td>\n",
       "      <td>정국</td>\n",
       "      <td>BIGHIT MUSIC</td>\n",
       "      <td>4173726.0</td>\n",
       "      <td>가요 / 댄스</td>\n",
       "      <td>3:04</td>\n",
       "      <td>정국</td>\n",
       "      <td>61.50958</td>\n",
       "      <td>45.0</td>\n",
       "      <td>False</td>\n",
       "    </tr>\n",
       "  </tbody>\n",
       "</table>\n",
       "</div>"
      ],
      "text/plain": [
       "         date  Rank                             Title  \\\n",
       "0  2023-09-24     1                          Love Lee   \n",
       "1  2023-09-24     2                            후라이의 꿈   \n",
       "2  2023-09-24     3    Smoke (Prod. Dynamicduo, Padi)   \n",
       "3  2023-09-24     4                         Super Shy   \n",
       "4  2023-09-24     5  Seven (feat. Latto) - Clean Ver.   \n",
       "\n",
       "                       Artist                 Production  Weekly Views  \\\n",
       "0                   AKMU (악뮤)           YG Entertainment    11929992.0   \n",
       "1                   AKMU (악뮤)           YG Entertainment    11929992.0   \n",
       "2  다이나믹 듀오 (Dynamic Duo), 이영지  Stone Music Entertainment     4473459.0   \n",
       "3                    NewJeans                       ADOR    11655019.0   \n",
       "4                          정국               BIGHIT MUSIC     4173726.0   \n",
       "\n",
       "         Genre Runtime     New_Artist   n_score g_score  ky_chart_on  \n",
       "0      가요 / 댄스    3:00             악뮤  94.32015   100.0        False  \n",
       "1  가요 / 블루스/포크    3:25             악뮤  94.32015   100.0        False  \n",
       "2    가요 / 랩/힙합    3:30  다이나믹 듀오 , 이영지       NaN       0        False  \n",
       "3      가요 / 댄스    2:35            뉴진스  10.55509     6.0        False  \n",
       "4      가요 / 댄스    3:04             정국  61.50958    45.0        False  "
      ]
     },
     "execution_count": 16,
     "metadata": {},
     "output_type": "execute_result"
    }
   ],
   "source": [
    "data = data.drop('ky_rank', axis=1)\n",
    "data.head()"
   ]
  },
  {
   "cell_type": "markdown",
   "metadata": {},
   "source": [
    "> - 기존 ky_rank 컬럼은 제거"
   ]
  },
  {
   "cell_type": "markdown",
   "metadata": {},
   "source": [
    "> #### n_score(네이버 트랜드 지수) :   \n",
    "> - 해당 주에 곡에 대한 네이버 트랜드 지수가 확인되지 않은 것으로 추정 \n",
    "> - 네이버 트랜드 지수는 그냥 0으로 일괄 적용"
   ]
  },
  {
   "cell_type": "code",
   "execution_count": 17,
   "metadata": {},
   "outputs": [
    {
     "data": {
      "text/html": [
       "<div>\n",
       "<style scoped>\n",
       "    .dataframe tbody tr th:only-of-type {\n",
       "        vertical-align: middle;\n",
       "    }\n",
       "\n",
       "    .dataframe tbody tr th {\n",
       "        vertical-align: top;\n",
       "    }\n",
       "\n",
       "    .dataframe thead th {\n",
       "        text-align: right;\n",
       "    }\n",
       "</style>\n",
       "<table border=\"1\" class=\"dataframe\">\n",
       "  <thead>\n",
       "    <tr style=\"text-align: right;\">\n",
       "      <th></th>\n",
       "      <th>date</th>\n",
       "      <th>Rank</th>\n",
       "      <th>Title</th>\n",
       "      <th>Artist</th>\n",
       "      <th>Production</th>\n",
       "      <th>Weekly Views</th>\n",
       "      <th>Genre</th>\n",
       "      <th>Runtime</th>\n",
       "      <th>New_Artist</th>\n",
       "      <th>n_score</th>\n",
       "      <th>g_score</th>\n",
       "      <th>ky_chart_on</th>\n",
       "    </tr>\n",
       "  </thead>\n",
       "  <tbody>\n",
       "    <tr>\n",
       "      <th>2</th>\n",
       "      <td>2023-09-24</td>\n",
       "      <td>3</td>\n",
       "      <td>Smoke (Prod. Dynamicduo, Padi)</td>\n",
       "      <td>다이나믹 듀오 (Dynamic Duo), 이영지</td>\n",
       "      <td>Stone Music Entertainment</td>\n",
       "      <td>4473459.0</td>\n",
       "      <td>가요 / 랩/힙합</td>\n",
       "      <td>3:30</td>\n",
       "      <td>다이나믹 듀오 , 이영지</td>\n",
       "      <td>NaN</td>\n",
       "      <td>0</td>\n",
       "      <td>False</td>\n",
       "    </tr>\n",
       "    <tr>\n",
       "      <th>56</th>\n",
       "      <td>2023-09-24</td>\n",
       "      <td>55</td>\n",
       "      <td>Stay</td>\n",
       "      <td>The Kid LAROI, Justin Bieber</td>\n",
       "      <td>Columbia</td>\n",
       "      <td>0.0</td>\n",
       "      <td>POP / 팝</td>\n",
       "      <td>2:22</td>\n",
       "      <td>The Kid LAROI, 저스틴 비버</td>\n",
       "      <td>NaN</td>\n",
       "      <td>0.0</td>\n",
       "      <td>False</td>\n",
       "    </tr>\n",
       "    <tr>\n",
       "      <th>58</th>\n",
       "      <td>2023-09-24</td>\n",
       "      <td>57</td>\n",
       "      <td>다정히 내 이름을 부르면</td>\n",
       "      <td>경서예지, 전건호</td>\n",
       "      <td>에버그로우</td>\n",
       "      <td>1586369.0</td>\n",
       "      <td>가요 / 발라드</td>\n",
       "      <td>3:51</td>\n",
       "      <td>경서예지, 전건호</td>\n",
       "      <td>NaN</td>\n",
       "      <td>0</td>\n",
       "      <td>False</td>\n",
       "    </tr>\n",
       "    <tr>\n",
       "      <th>73</th>\n",
       "      <td>2023-09-24</td>\n",
       "      <td>71</td>\n",
       "      <td>미친 사랑의 노래</td>\n",
       "      <td>김연지, DK</td>\n",
       "      <td>방구석 캐스팅</td>\n",
       "      <td>0.0</td>\n",
       "      <td>가요 / 발라드</td>\n",
       "      <td>3:44</td>\n",
       "      <td>김연지, 디케이</td>\n",
       "      <td>NaN</td>\n",
       "      <td>26.0</td>\n",
       "      <td>False</td>\n",
       "    </tr>\n",
       "    <tr>\n",
       "      <th>99</th>\n",
       "      <td>2023-09-24</td>\n",
       "      <td>96</td>\n",
       "      <td>Dreamers (Feat. FIFA Sound)</td>\n",
       "      <td>정국, 방탄소년단</td>\n",
       "      <td>Katara Studios | 2101 Records under exclusive ...</td>\n",
       "      <td>4173726.0</td>\n",
       "      <td>POP / 월드뮤직</td>\n",
       "      <td>3:21</td>\n",
       "      <td>정국, 방탄소년단</td>\n",
       "      <td>NaN</td>\n",
       "      <td>0.0</td>\n",
       "      <td>False</td>\n",
       "    </tr>\n",
       "  </tbody>\n",
       "</table>\n",
       "</div>"
      ],
      "text/plain": [
       "          date  Rank                           Title  \\\n",
       "2   2023-09-24     3  Smoke (Prod. Dynamicduo, Padi)   \n",
       "56  2023-09-24    55                            Stay   \n",
       "58  2023-09-24    57                   다정히 내 이름을 부르면   \n",
       "73  2023-09-24    71                       미친 사랑의 노래   \n",
       "99  2023-09-24    96     Dreamers (Feat. FIFA Sound)   \n",
       "\n",
       "                          Artist  \\\n",
       "2     다이나믹 듀오 (Dynamic Duo), 이영지   \n",
       "56  The Kid LAROI, Justin Bieber   \n",
       "58                     경서예지, 전건호   \n",
       "73                       김연지, DK   \n",
       "99                     정국, 방탄소년단   \n",
       "\n",
       "                                           Production  Weekly Views  \\\n",
       "2                           Stone Music Entertainment     4473459.0   \n",
       "56                                           Columbia           0.0   \n",
       "58                                              에버그로우     1586369.0   \n",
       "73                                            방구석 캐스팅           0.0   \n",
       "99  Katara Studios | 2101 Records under exclusive ...     4173726.0   \n",
       "\n",
       "         Genre Runtime             New_Artist  n_score g_score  ky_chart_on  \n",
       "2    가요 / 랩/힙합    3:30          다이나믹 듀오 , 이영지      NaN       0        False  \n",
       "56     POP / 팝    2:22  The Kid LAROI, 저스틴 비버      NaN     0.0        False  \n",
       "58    가요 / 발라드    3:51              경서예지, 전건호      NaN       0        False  \n",
       "73    가요 / 발라드    3:44               김연지, 디케이      NaN    26.0        False  \n",
       "99  POP / 월드뮤직    3:21              정국, 방탄소년단      NaN     0.0        False  "
      ]
     },
     "execution_count": 17,
     "metadata": {},
     "output_type": "execute_result"
    }
   ],
   "source": [
    "data[data['n_score'].isnull()].head()"
   ]
  },
  {
   "cell_type": "code",
   "execution_count": 18,
   "metadata": {},
   "outputs": [
    {
     "data": {
      "text/plain": [
       "837"
      ]
     },
     "execution_count": 18,
     "metadata": {},
     "output_type": "execute_result"
    }
   ],
   "source": [
    "data['n_score'].isnull().sum()"
   ]
  },
  {
   "cell_type": "code",
   "execution_count": 19,
   "metadata": {},
   "outputs": [
    {
     "data": {
      "text/plain": [
       "0"
      ]
     },
     "execution_count": 19,
     "metadata": {},
     "output_type": "execute_result"
    }
   ],
   "source": [
    "data['n_score'] = data['n_score'].fillna(0)\n",
    "data['n_score'].isnull().sum()"
   ]
  },
  {
   "cell_type": "markdown",
   "metadata": {},
   "source": [
    "> #### g_score(구글 트랜드 지수) :   \n",
    "> - 해당 주에 곡에 대한 구글 트랜드 지수가 확인되지 않은 것으로 추정 \n",
    "> - 먼저 g_score에 결측치와 문자열 'none'이 혼재되어 있으므로 문자열 'none'을 모두 nan값으로 변경"
   ]
  },
  {
   "cell_type": "code",
   "execution_count": 20,
   "metadata": {},
   "outputs": [
    {
     "data": {
      "text/plain": [
       "89"
      ]
     },
     "execution_count": 20,
     "metadata": {},
     "output_type": "execute_result"
    }
   ],
   "source": [
    "data['g_score'][data['g_score'] == 'none'].value_counts().sum()"
   ]
  },
  {
   "cell_type": "code",
   "execution_count": 21,
   "metadata": {},
   "outputs": [
    {
     "data": {
      "text/plain": [
       "56"
      ]
     },
     "execution_count": 21,
     "metadata": {},
     "output_type": "execute_result"
    }
   ],
   "source": [
    "data['g_score'].isnull().sum()"
   ]
  },
  {
   "cell_type": "code",
   "execution_count": 22,
   "metadata": {},
   "outputs": [],
   "source": [
    "import numpy as np\n",
    "data['g_score'] = data['g_score'].replace('none', np.nan)"
   ]
  },
  {
   "cell_type": "markdown",
   "metadata": {},
   "source": [
    "> - 모두 대체되었는지 확인"
   ]
  },
  {
   "cell_type": "code",
   "execution_count": 23,
   "metadata": {},
   "outputs": [
    {
     "data": {
      "text/plain": [
       "0"
      ]
     },
     "execution_count": 23,
     "metadata": {},
     "output_type": "execute_result"
    }
   ],
   "source": [
    "data['g_score'][data['g_score'] == 'none'].value_counts().sum()"
   ]
  },
  {
   "cell_type": "code",
   "execution_count": 24,
   "metadata": {},
   "outputs": [
    {
     "data": {
      "text/plain": [
       "145"
      ]
     },
     "execution_count": 24,
     "metadata": {},
     "output_type": "execute_result"
    }
   ],
   "source": [
    "data['g_score'].isnull().sum()"
   ]
  },
  {
   "cell_type": "code",
   "execution_count": 25,
   "metadata": {},
   "outputs": [],
   "source": [
    "data['g_score'] = data['g_score'].astype(float)"
   ]
  },
  {
   "cell_type": "markdown",
   "metadata": {},
   "source": [
    "> - 마찬가지로 구글 트랜드 지수는 그냥 0으로 일괄 적용"
   ]
  },
  {
   "cell_type": "code",
   "execution_count": 26,
   "metadata": {},
   "outputs": [
    {
     "data": {
      "text/plain": [
       "0"
      ]
     },
     "execution_count": 26,
     "metadata": {},
     "output_type": "execute_result"
    }
   ],
   "source": [
    "data['g_score'] = data['g_score'].fillna(0)\n",
    "data['g_score'].isnull().sum()"
   ]
  },
  {
   "cell_type": "markdown",
   "metadata": {},
   "source": [
    "## 최종 확인 및 파일 추출"
   ]
  },
  {
   "cell_type": "code",
   "execution_count": 27,
   "metadata": {},
   "outputs": [
    {
     "data": {
      "text/plain": [
       "date            0\n",
       "Rank            0\n",
       "Title           0\n",
       "Artist          0\n",
       "Production      0\n",
       "Weekly Views    0\n",
       "Genre           0\n",
       "Runtime         0\n",
       "New_Artist      0\n",
       "n_score         0\n",
       "g_score         0\n",
       "ky_chart_on     0\n",
       "dtype: int64"
      ]
     },
     "execution_count": 27,
     "metadata": {},
     "output_type": "execute_result"
    }
   ],
   "source": [
    "data.isnull().sum()"
   ]
  },
  {
   "cell_type": "markdown",
   "metadata": {},
   "source": [
    "> - 결측치가 모두 정상적으로 제거된 것을 확인"
   ]
  },
  {
   "cell_type": "code",
   "execution_count": 28,
   "metadata": {},
   "outputs": [],
   "source": [
    "data.to_csv(\"circle_chart_removed_na.csv\")"
   ]
  },
  {
   "cell_type": "markdown",
   "metadata": {},
   "source": [
    "> - 결측치가 제거된 상태의 데이터를 CSV 파일로 저장함"
   ]
  }
 ],
 "metadata": {
  "kernelspec": {
   "display_name": "venv",
   "language": "python",
   "name": "python3"
  },
  "language_info": {
   "codemirror_mode": {
    "name": "ipython",
    "version": 3
   },
   "file_extension": ".py",
   "mimetype": "text/x-python",
   "name": "python",
   "nbconvert_exporter": "python",
   "pygments_lexer": "ipython3",
   "version": "3.12.4"
  }
 },
 "nbformat": 4,
 "nbformat_minor": 2
}
