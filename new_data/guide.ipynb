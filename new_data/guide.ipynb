{
 "cells": [
  {
   "cell_type": "code",
   "execution_count": 1,
   "metadata": {},
   "outputs": [],
   "source": [
    "import pandas as pd"
   ]
  },
  {
   "cell_type": "code",
   "execution_count": 2,
   "metadata": {},
   "outputs": [
    {
     "data": {
      "text/html": [
       "<div>\n",
       "<style scoped>\n",
       "    .dataframe tbody tr th:only-of-type {\n",
       "        vertical-align: middle;\n",
       "    }\n",
       "\n",
       "    .dataframe tbody tr th {\n",
       "        vertical-align: top;\n",
       "    }\n",
       "\n",
       "    .dataframe thead th {\n",
       "        text-align: right;\n",
       "    }\n",
       "</style>\n",
       "<table border=\"1\" class=\"dataframe\">\n",
       "  <thead>\n",
       "    <tr style=\"text-align: right;\">\n",
       "      <th></th>\n",
       "      <th>date</th>\n",
       "      <th>Rank</th>\n",
       "      <th>Title</th>\n",
       "      <th>Artist</th>\n",
       "      <th>Production</th>\n",
       "      <th>Weekly Views</th>\n",
       "      <th>Genre</th>\n",
       "      <th>Runtime</th>\n",
       "      <th>New_Artist</th>\n",
       "      <th>ky_rank</th>\n",
       "      <th>n_score</th>\n",
       "      <th>g_score</th>\n",
       "    </tr>\n",
       "  </thead>\n",
       "  <tbody>\n",
       "    <tr>\n",
       "      <th>0</th>\n",
       "      <td>2023-09-24</td>\n",
       "      <td>1</td>\n",
       "      <td>Love Lee</td>\n",
       "      <td>AKMU (악뮤)</td>\n",
       "      <td>YG Entertainment</td>\n",
       "      <td>11929992.0</td>\n",
       "      <td>가요 / 댄스</td>\n",
       "      <td>3:00</td>\n",
       "      <td>악뮤</td>\n",
       "      <td>NaN</td>\n",
       "      <td>94.32015</td>\n",
       "      <td>100.0</td>\n",
       "    </tr>\n",
       "    <tr>\n",
       "      <th>1</th>\n",
       "      <td>2023-09-24</td>\n",
       "      <td>2</td>\n",
       "      <td>후라이의 꿈</td>\n",
       "      <td>AKMU (악뮤)</td>\n",
       "      <td>YG Entertainment</td>\n",
       "      <td>11929992.0</td>\n",
       "      <td>가요 / 블루스/포크</td>\n",
       "      <td>3:25</td>\n",
       "      <td>악뮤</td>\n",
       "      <td>NaN</td>\n",
       "      <td>94.32015</td>\n",
       "      <td>100.0</td>\n",
       "    </tr>\n",
       "    <tr>\n",
       "      <th>2</th>\n",
       "      <td>2023-09-24</td>\n",
       "      <td>3</td>\n",
       "      <td>Smoke (Prod. Dynamicduo, Padi)</td>\n",
       "      <td>다이나믹 듀오 (Dynamic Duo), 이영지</td>\n",
       "      <td>Stone Music Entertainment</td>\n",
       "      <td>4473459.0</td>\n",
       "      <td>가요 / 랩/힙합</td>\n",
       "      <td>3:30</td>\n",
       "      <td>다이나믹 듀오 , 이영지</td>\n",
       "      <td>NaN</td>\n",
       "      <td>NaN</td>\n",
       "      <td>0</td>\n",
       "    </tr>\n",
       "    <tr>\n",
       "      <th>3</th>\n",
       "      <td>2023-09-24</td>\n",
       "      <td>4</td>\n",
       "      <td>Super Shy</td>\n",
       "      <td>NewJeans</td>\n",
       "      <td>ADOR</td>\n",
       "      <td>11655019.0</td>\n",
       "      <td>가요 / 댄스</td>\n",
       "      <td>2:35</td>\n",
       "      <td>뉴진스</td>\n",
       "      <td>NaN</td>\n",
       "      <td>10.55509</td>\n",
       "      <td>6.0</td>\n",
       "    </tr>\n",
       "    <tr>\n",
       "      <th>4</th>\n",
       "      <td>2023-09-24</td>\n",
       "      <td>5</td>\n",
       "      <td>Seven (feat. Latto) - Clean Ver.</td>\n",
       "      <td>정국</td>\n",
       "      <td>BIGHIT MUSIC</td>\n",
       "      <td>4173726.0</td>\n",
       "      <td>가요 / 댄스</td>\n",
       "      <td>3:04</td>\n",
       "      <td>정국</td>\n",
       "      <td>NaN</td>\n",
       "      <td>61.50958</td>\n",
       "      <td>45.0</td>\n",
       "    </tr>\n",
       "  </tbody>\n",
       "</table>\n",
       "</div>"
      ],
      "text/plain": [
       "         date  Rank                             Title  \\\n",
       "0  2023-09-24     1                          Love Lee   \n",
       "1  2023-09-24     2                            후라이의 꿈   \n",
       "2  2023-09-24     3    Smoke (Prod. Dynamicduo, Padi)   \n",
       "3  2023-09-24     4                         Super Shy   \n",
       "4  2023-09-24     5  Seven (feat. Latto) - Clean Ver.   \n",
       "\n",
       "                       Artist                 Production  Weekly Views  \\\n",
       "0                   AKMU (악뮤)           YG Entertainment    11929992.0   \n",
       "1                   AKMU (악뮤)           YG Entertainment    11929992.0   \n",
       "2  다이나믹 듀오 (Dynamic Duo), 이영지  Stone Music Entertainment     4473459.0   \n",
       "3                    NewJeans                       ADOR    11655019.0   \n",
       "4                          정국               BIGHIT MUSIC     4173726.0   \n",
       "\n",
       "         Genre Runtime     New_Artist  ky_rank   n_score g_score  \n",
       "0      가요 / 댄스    3:00             악뮤      NaN  94.32015   100.0  \n",
       "1  가요 / 블루스/포크    3:25             악뮤      NaN  94.32015   100.0  \n",
       "2    가요 / 랩/힙합    3:30  다이나믹 듀오 , 이영지      NaN       NaN       0  \n",
       "3      가요 / 댄스    2:35            뉴진스      NaN  10.55509     6.0  \n",
       "4      가요 / 댄스    3:04             정국      NaN  61.50958    45.0  "
      ]
     },
     "execution_count": 2,
     "metadata": {},
     "output_type": "execute_result"
    }
   ],
   "source": [
    "data = pd.read_csv(\"circle_chart_with_trends(20241002).csv\")\n",
    "data.head()"
   ]
  },
  {
   "cell_type": "code",
   "execution_count": 3,
   "metadata": {},
   "outputs": [
    {
     "data": {
      "text/plain": [
       "date                0\n",
       "Rank                0\n",
       "Title               0\n",
       "Artist              0\n",
       "Production          0\n",
       "Weekly Views     2671\n",
       "Genre               5\n",
       "Runtime             5\n",
       "New_Artist          0\n",
       "ky_rank         10224\n",
       "n_score           837\n",
       "g_score            56\n",
       "dtype: int64"
      ]
     },
     "execution_count": 3,
     "metadata": {},
     "output_type": "execute_result"
    }
   ],
   "source": [
    "data.isnull().sum()"
   ]
  },
  {
   "cell_type": "markdown",
   "metadata": {},
   "source": [
    "## Genre, Runtime 결측치 제거"
   ]
  },
  {
   "cell_type": "code",
   "execution_count": 4,
   "metadata": {},
   "outputs": [],
   "source": [
    "data['Genre'] = data['Genre'].fillna('가요 / R&B/소울')\n",
    "data['Runtime'] = data['Runtime'].fillna('03:09')"
   ]
  },
  {
   "cell_type": "code",
   "execution_count": 5,
   "metadata": {},
   "outputs": [],
   "source": [
    "data['Artist'] = data['Artist'].replace('싱어게인3 49호 가수', '소수빈')"
   ]
  },
  {
   "cell_type": "code",
   "execution_count": 6,
   "metadata": {},
   "outputs": [
    {
     "data": {
      "text/plain": [
       "date                0\n",
       "Rank                0\n",
       "Title               0\n",
       "Artist              0\n",
       "Production          0\n",
       "Weekly Views     2671\n",
       "Genre               0\n",
       "Runtime             0\n",
       "New_Artist          0\n",
       "ky_rank         10224\n",
       "n_score           837\n",
       "g_score            56\n",
       "dtype: int64"
      ]
     },
     "execution_count": 6,
     "metadata": {},
     "output_type": "execute_result"
    }
   ],
   "source": [
    "data.isnull().sum()"
   ]
  },
  {
   "cell_type": "markdown",
   "metadata": {},
   "source": [
    "## 노래방 순위 갖다버림"
   ]
  },
  {
   "cell_type": "code",
   "execution_count": 8,
   "metadata": {},
   "outputs": [],
   "source": [
    "data = data.drop(\"ky_rank\", axis=1)"
   ]
  },
  {
   "cell_type": "code",
   "execution_count": 9,
   "metadata": {},
   "outputs": [
    {
     "data": {
      "text/plain": [
       "date               0\n",
       "Rank               0\n",
       "Title              0\n",
       "Artist             0\n",
       "Production         0\n",
       "Weekly Views    2671\n",
       "Genre              0\n",
       "Runtime            0\n",
       "New_Artist         0\n",
       "n_score          837\n",
       "g_score           56\n",
       "dtype: int64"
      ]
     },
     "execution_count": 9,
     "metadata": {},
     "output_type": "execute_result"
    }
   ],
   "source": [
    "data.isnull().sum()"
   ]
  },
  {
   "cell_type": "markdown",
   "metadata": {},
   "source": [
    "## 해야 할 일\n",
    "- 1주 전, 2주 전, 3주 전 Rank 값을 Rank_lag_1, Rank_lag_2, Rank_lag_3 컬럼으로 저장 (shift 사용했던 걸로 기억)\n",
    "- 만약 Rank_lag에 결측치가 있으면 201로 해주세요\n",
    "- Weekly Views 결측치는 0으로 대체\n",
    "- n_score, g_score는 해당되는 row가 소속된 날짜의 중앙값 또는 0으로 대체\n",
    "- date와 Rank가 중복된 컬럼이 있으면 가장 위 컬럼만 남기고 나머지는 제거"
   ]
  },
  {
   "cell_type": "markdown",
   "metadata": {},
   "source": [
    "다 했으면\n",
    "```data.isnull().sum()```\n",
    "명령어 실행해서 모든 컬럼이 0인지 확인"
   ]
  },
  {
   "cell_type": "markdown",
   "metadata": {},
   "source": [
    "## ▽▼▽ 아래 부분에서부터 일하시오 ▽▼▽"
   ]
  },
  {
   "cell_type": "code",
   "execution_count": null,
   "metadata": {},
   "outputs": [],
   "source": []
  }
 ],
 "metadata": {
  "kernelspec": {
   "display_name": "venv",
   "language": "python",
   "name": "python3"
  },
  "language_info": {
   "codemirror_mode": {
    "name": "ipython",
    "version": 3
   },
   "file_extension": ".py",
   "mimetype": "text/x-python",
   "name": "python",
   "nbconvert_exporter": "python",
   "pygments_lexer": "ipython3",
   "version": "3.12.4"
  }
 },
 "nbformat": 4,
 "nbformat_minor": 2
}
